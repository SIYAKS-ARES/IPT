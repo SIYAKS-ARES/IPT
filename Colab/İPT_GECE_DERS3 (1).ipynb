{
  "nbformat": 4,
  "nbformat_minor": 0,
  "metadata": {
    "colab": {
      "provenance": []
    },
    "kernelspec": {
      "name": "python3",
      "display_name": "Python 3"
    },
    "language_info": {
      "name": "python"
    }
  },
  "cells": [
    {
      "cell_type": "code",
      "execution_count": null,
      "metadata": {
        "colab": {
          "base_uri": "https://localhost:8080/"
        },
        "id": "O51Jn06RFwXa",
        "outputId": "b9494b0c-60d4-4b43-a185-52ff57cd7c50"
      },
      "outputs": [
        {
          "output_type": "stream",
          "name": "stdout",
          "text": [
            "Liste boyutunu giriniz : 3\n",
            "1 .  Liste elemanini giriniz : 1\n",
            "2 .  Liste elemanini giriniz : 2\n",
            "3 .  Liste elemanini giriniz : 3\n",
            "[1, 2, 3, 10]\n"
          ]
        }
      ],
      "source": [
        "liste=[]\n",
        "listeBoyutu=eval(input(\"Liste boyutunu giriniz : \"))\n",
        "for i in range(listeBoyutu):\n",
        "  print((i+1),\". \", end=\" \")\n",
        "  value=eval(input(\"Liste elemanini giriniz : \"))\n",
        "  liste.append(value)\n",
        "liste.append(10)\n",
        "print(liste)"
      ]
    },
    {
      "cell_type": "code",
      "source": [
        "import random\n",
        "liste=[]\n",
        "listeBoyutu=eval(input(\"Liste boyutunu giriniz : \"))\n",
        "sum=0\n",
        "for i in range(listeBoyutu):\n",
        "  value=random.randint(0,10)\n",
        "  sum+=value\n",
        "  liste.append(value)\n",
        "avg=sum/listeBoyutu\n",
        "print(liste)\n",
        "print(\"Liste elemanlarinin toplami = \", sum)\n",
        "print(\"Liste elemanlarinin ortalamasi = \", avg)\n",
        "kucukSay=0\n",
        "buyukSay=0\n",
        "for i in range(listeBoyutu):\n",
        "  if liste[i]<avg:\n",
        "    kucukSay+=1\n",
        "  else:\n",
        "    buyukSay+=1\n",
        "print(\"Ortalamanin altinda kalan eleman sayisi = \", kucukSay)\n",
        "print(\"Ortalamanin ustunde kalan eleman sayisi = \", buyukSay)"
      ],
      "metadata": {
        "colab": {
          "base_uri": "https://localhost:8080/"
        },
        "id": "di0nayuZHWaU",
        "outputId": "57f66d90-18ba-49c9-c945-02fddb75a342"
      },
      "execution_count": null,
      "outputs": [
        {
          "output_type": "stream",
          "name": "stdout",
          "text": [
            "Liste boyutunu giriniz : 10\n",
            "[7, 10, 4, 4, 0, 9, 4, 9, 5, 4]\n",
            "Liste elemanlarinin toplami =  56\n",
            "Liste elemanlarinin ortalamasi =  5.6\n",
            "Ortalamanin altinda kalan eleman sayisi =  6\n",
            "Ortalamanin ustunde kalan eleman sayisi =  4\n"
          ]
        }
      ]
    },
    {
      "cell_type": "code",
      "source": [
        "import random\n",
        "liste=[]\n",
        "listeBoyutu=eval(input(\"Liste boyutunu giriniz : \"))\n",
        "print(\"Liste olusturuluyor...\")\n",
        "for i in range(listeBoyutu):\n",
        "  value=random.randint(0,100)\n",
        "  liste.append(value)\n",
        "print(\"Liste yazdiriliyor...\")\n",
        "for i in range(listeBoyutu):\n",
        "  print(liste[i], end=\"   \")\n",
        "print()\n",
        "enKucuk=liste[0]\n",
        "enBuyuk=liste[0]\n",
        "\n",
        "for i in range(len(liste)):\n",
        "  if (liste[i]<enKucuk):\n",
        "    enKucuk=liste[i]\n",
        "  if (liste[i]>enBuyuk):\n",
        "    enBuyuk =liste[i]\n",
        "\n",
        "print(\"Listenin en kucuk elemani =\", enKucuk)\n",
        "print(\"Listenin en buyuk elemani =\", enBuyuk)\n"
      ],
      "metadata": {
        "colab": {
          "base_uri": "https://localhost:8080/"
        },
        "id": "4m4TbCoRJNIJ",
        "outputId": "f3c18825-7b6d-4131-fec0-bede7dbb2b26"
      },
      "execution_count": null,
      "outputs": [
        {
          "output_type": "stream",
          "name": "stdout",
          "text": [
            "Liste boyutunu giriniz : 10\n",
            "Liste olusturuluyor...\n",
            "Liste yazdiriliyor...\n",
            "1   46   33   7   56   84   70   94   3   70   \n",
            "Listenin en kucuk elemani = 1\n",
            "Listenin en buyuk elemani = 94\n"
          ]
        }
      ]
    },
    {
      "cell_type": "code",
      "source": [
        "import random\n",
        "liste=[]\n",
        "listeBoyutu=eval(input(\"Liste boyutunu giriniz : \"))\n",
        "print(\"Liste olusturuluyor...\")\n",
        "for i in range(listeBoyutu):\n",
        "  value=random.randint(0,100)\n",
        "  liste.append(value)\n",
        "print(\"Liste yazdiriliyor...\")\n",
        "for i in range(listeBoyutu):\n",
        "  print(liste[i], end=\"   \")\n",
        "print()\n",
        "\n",
        "print(\"Liste elemanlari kucukten buyuge siralaniyor....\")\n",
        "for i in range(len(liste)):\n",
        "  for j in range(len(liste)):\n",
        "    if (liste[i]<liste[j]):\n",
        "      temp=liste[j]\n",
        "      liste[j]=liste[i]\n",
        "      liste[i]=temp\n",
        "print(liste)\n",
        "print(\"Liste elemanlari buyukten kucuge siralaniyor....\")\n",
        "for i in range(len(liste)):\n",
        "  for j in range(len(liste)):\n",
        "    if (liste[i]>liste[j]):\n",
        "      temp=liste[j]\n",
        "      liste[j]=liste[i]\n",
        "      liste[i]=temp\n",
        "print(liste)"
      ],
      "metadata": {
        "colab": {
          "base_uri": "https://localhost:8080/"
        },
        "id": "JvFtZXK9KbpJ",
        "outputId": "ecbf88a8-707c-43ab-a7fa-0ff97491e057"
      },
      "execution_count": null,
      "outputs": [
        {
          "output_type": "stream",
          "name": "stdout",
          "text": [
            "Liste boyutunu giriniz : 10\n",
            "Liste olusturuluyor...\n",
            "Liste yazdiriliyor...\n",
            "1   52   77   21   83   0   53   4   59   69   \n",
            "Liste elemanlari kucukten buyuge siralaniyor....\n",
            "[0, 1, 4, 21, 52, 53, 59, 69, 77, 83]\n",
            "Liste elemanlari buyukten kucuge siralaniyor....\n",
            "[83, 77, 69, 59, 53, 52, 21, 4, 1, 0]\n"
          ]
        }
      ]
    },
    {
      "cell_type": "code",
      "source": [
        "matrix=[]\n",
        "rowNumber=eval(input(\"Satir gir\"))\n",
        "columnNumber=eval(input(\"Sutun gir\"))\n",
        "\n",
        "for row in range(rowNumber):\n",
        "  matrix.append([])\n",
        "  for column in range(columnNumber):\n",
        "    #print(matrix[row, column] , \". \" , end=\" \")\n",
        "    value=eval(input(\" elemanini giriniz :  \"))\n",
        "    matrix[row].append(value)\n",
        "\n",
        "print(matrix)\n"
      ],
      "metadata": {
        "colab": {
          "base_uri": "https://localhost:8080/"
        },
        "id": "AGrI6gt_ON09",
        "outputId": "4238fe24-6448-495e-fbd9-03df0082dbdf"
      },
      "execution_count": null,
      "outputs": [
        {
          "output_type": "stream",
          "name": "stdout",
          "text": [
            "Satir gir2\n",
            "Sutun gir2\n",
            " elemanini giriniz :  1\n",
            " elemanini giriniz :  2\n",
            " elemanini giriniz :  3\n",
            " elemanini giriniz :  4\n",
            "[[1, 2], [3, 4]]\n"
          ]
        }
      ]
    },
    {
      "cell_type": "code",
      "source": [
        "import random\n",
        "matrix=[]\n",
        "rowNumber=eval(input(\"Satir gir\"))\n",
        "columnNumber=eval(input(\"Sutun gir\"))\n",
        "\n",
        "for row in range(rowNumber):\n",
        "  matrix.append([])\n",
        "  for column in range(columnNumber):\n",
        "    value=random.randint(0,100)\n",
        "    matrix[row].append(value)\n",
        "\n",
        "print(matrix)"
      ],
      "metadata": {
        "colab": {
          "base_uri": "https://localhost:8080/"
        },
        "id": "fK8GZCaHPsfZ",
        "outputId": "13717328-63f1-4a83-d837-5271a7a1e3da"
      },
      "execution_count": null,
      "outputs": [
        {
          "output_type": "stream",
          "name": "stdout",
          "text": [
            "Satir gir10\n",
            "Sutun gir10\n",
            "[[8, 6, 36, 90, 61, 22, 98, 39, 17, 87], [74, 70, 76, 86, 93, 13, 77, 9, 1, 38], [85, 45, 8, 66, 42, 72, 32, 15, 47, 71], [5, 98, 23, 23, 78, 30, 16, 70, 77, 0], [77, 26, 5, 90, 78, 7, 83, 57, 29, 31], [99, 98, 80, 23, 38, 56, 65, 41, 41, 32], [47, 40, 50, 61, 37, 18, 37, 69, 92, 64], [60, 52, 58, 71, 38, 12, 90, 0, 95, 59], [19, 31, 1, 94, 32, 38, 68, 95, 99, 70], [66, 52, 29, 85, 1, 9, 93, 92, 15, 21]]\n"
          ]
        }
      ]
    },
    {
      "cell_type": "code",
      "source": [
        "import random\n",
        "matrix=[]\n",
        "rowNumber=eval(input(\"Satir gir\"))\n",
        "columnNumber=eval(input(\"Sutun gir\"))\n",
        "\n",
        "for row in range(rowNumber):\n",
        "  matrix.append([])\n",
        "  for column in range(columnNumber):\n",
        "    value=random.randint(0,9)\n",
        "    matrix[row].append(value)\n",
        "print(\"Matris yazdiriliyor....\")\n",
        "for row in range(rowNumber):\n",
        "  for column in range(columnNumber):\n",
        "    print(matrix[row][column], end=\"  \")\n",
        "  print()\n",
        "\n",
        "#print(matrix)"
      ],
      "metadata": {
        "colab": {
          "base_uri": "https://localhost:8080/"
        },
        "id": "FdryJAbQP6P-",
        "outputId": "d956363b-717c-4ba1-e92f-d3b9eda3728d"
      },
      "execution_count": null,
      "outputs": [
        {
          "output_type": "stream",
          "name": "stdout",
          "text": [
            "Satir gir10\n",
            "Sutun gir10\n",
            "Matris yazdiriliyor....\n",
            "8  2  2  1  4  2  3  7  0  0  \n",
            "3  5  6  4  3  5  5  4  4  7  \n",
            "4  3  0  4  1  9  4  5  2  6  \n",
            "5  2  5  5  3  6  0  7  5  5  \n",
            "1  8  4  1  3  4  7  3  7  1  \n",
            "2  7  7  7  7  0  7  3  4  4  \n",
            "3  5  7  4  6  7  9  2  5  5  \n",
            "2  1  7  6  2  0  4  8  8  2  \n",
            "1  2  6  0  6  3  7  3  9  5  \n",
            "5  2  1  6  9  6  0  2  1  0  \n"
          ]
        }
      ]
    }
  ]
}