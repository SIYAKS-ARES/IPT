{
  "nbformat": 4,
  "nbformat_minor": 0,
  "metadata": {
    "colab": {
      "provenance": []
    },
    "kernelspec": {
      "name": "python3",
      "display_name": "Python 3"
    },
    "language_info": {
      "name": "python"
    }
  },
  "cells": [
    {
      "cell_type": "code",
      "execution_count": null,
      "metadata": {
        "colab": {
          "base_uri": "https://localhost:8080/"
        },
        "id": "IpSC9FpnIHqv",
        "outputId": "98b4cac6-c2a5-4ad8-c37c-0f5c970fd2bf"
      },
      "outputs": [
        {
          "output_type": "stream",
          "name": "stdout",
          "text": [
            "İslem tamamlandi\n",
            "Girilen sayilarin toplami =  11\n",
            "İslem tamamlandi\n",
            "Islem Ozeti =  None\n",
            "Sonuc =  11\n",
            "İslem tamamlandi\n",
            "None\n"
          ]
        }
      ],
      "source": [
        "def sum(a,b):\n",
        "  return a+b\n",
        "def printMessage():\n",
        "  print(\"İslem tamamlandi\")\n",
        "sum(5,6)\n",
        "printMessage()\n",
        "print(\"Girilen sayilarin toplami = \", sum(5,6))\n",
        "print(\"Islem Ozeti = \", printMessage())\n",
        "result=sum(5,6)\n",
        "print(\"Sonuc = \",result)\n",
        "resultOut=printMessage()\n",
        "print(resultOut)"
      ]
    },
    {
      "cell_type": "code",
      "source": [
        "def sumNumbers(s1,s2):\n",
        "  sum=0\n",
        "  for i in range(s1,s2+1):\n",
        "    sum+=i\n",
        "  return sum\n",
        "def main():\n",
        "  s1=eval(input(\"İlk deger giriniz : \"))\n",
        "  s2=eval(input(\"İkinci deger giriniz : \"))\n",
        "  print(\"Girilen iki araliktaki sayilarin toplami = \", sumNumbers(s1,s2))\n",
        "main()"
      ],
      "metadata": {
        "colab": {
          "base_uri": "https://localhost:8080/"
        },
        "id": "jRKfx6EKKANA",
        "outputId": "55a69ef4-333a-41b1-8164-d17e4ccddada"
      },
      "execution_count": null,
      "outputs": [
        {
          "output_type": "stream",
          "name": "stdout",
          "text": [
            "İlk deger giriniz : 1\n",
            "İkinci deger giriniz : 10\n",
            "Girilen iki araliktaki sayilarin toplami =  55\n"
          ]
        }
      ]
    },
    {
      "cell_type": "code",
      "source": [
        "def sumDigit(sayi):\n",
        "  sum=0\n",
        "  while(sayi!=0):\n",
        "    kalan=sayi%10\n",
        "    sum+=kalan\n",
        "    sayi-=kalan\n",
        "    sayi/=10\n",
        "  return sum\n",
        "def main():\n",
        "  sayi=eval(input(\"Lutfen bir sayi giriniz : \"))\n",
        "  print(\"Girilen sayinin rakamlari toplami = \" ,(int)(sumDigit(sayi)))\n",
        "main()\n",
        "#sumDigit(1234567)"
      ],
      "metadata": {
        "colab": {
          "base_uri": "https://localhost:8080/"
        },
        "id": "5X7OqFOmPoSj",
        "outputId": "decd9231-59eb-430e-a438-8d32dc1c70c7"
      },
      "execution_count": null,
      "outputs": [
        {
          "output_type": "execute_result",
          "data": {
            "text/plain": [
              "28.0"
            ]
          },
          "metadata": {},
          "execution_count": 16
        }
      ]
    },
    {
      "cell_type": "code",
      "source": [
        "def sumDigit(sayi):\n",
        "  sum=0\n",
        "  while(sayi!=0):\n",
        "    kalan=sayi%10\n",
        "    sum+=kalan\n",
        "    sayi-=kalan\n",
        "    sayi/=10\n",
        "  print(\"Girilen sayinin rakamlari toplami = \", sum)\n",
        "def main():\n",
        "  sayi=eval(input(\"Lutfen bir sayi giriniz : \"))\n",
        "  sumDigit(sayi)\n",
        "main()"
      ],
      "metadata": {
        "colab": {
          "base_uri": "https://localhost:8080/"
        },
        "id": "gCKx3qsbQ3Rg",
        "outputId": "621f55a9-ce95-4c5d-c870-61c86f029d26"
      },
      "execution_count": null,
      "outputs": [
        {
          "output_type": "stream",
          "name": "stdout",
          "text": [
            "Lutfen bir sayi giriniz : 123456\n",
            "Girilen sayinin rakamlari toplami =  21.0\n"
          ]
        }
      ]
    },
    {
      "cell_type": "code",
      "source": [
        "import random\n",
        "def getDizi(boyut):\n",
        "  print(\"Dizi olusturuluyor....\")\n",
        "  dizi=[]\n",
        "  for i in range(boyut):\n",
        "    dizi.append(random.randint(0,10))\n",
        "  print(\"Dizi rasgele sayilardan olusturuldu.\")\n",
        "  print(dizi)\n",
        "  return dizi\n",
        "def printDizi(dizi):\n",
        "  print(\"Dizi yazdiriliyor...\")\n",
        "  for i in range(len(dizi)):\n",
        "    print(dizi[i], end=\"  \")\n",
        "  print()\n",
        "def calculateDizi(dizi):\n",
        "  print(\"Dizi uzerinde islem yapiliyor....\")\n",
        "  sum=0\n",
        "  for i in range(len(dizi)):\n",
        "    sum+=dizi[i]\n",
        "  return sum\n",
        "def main():\n",
        "  boyut=eval(input(\"Dizi boyutunu giriniz : \"))\n",
        "  dizi=getDizi(boyut)\n",
        "  printDizi(dizi)\n",
        "  print(\"Dizi elemanlarinin toplami = \",calculateDizi(dizi))\n",
        "\n",
        "  #printDizi(getDizi(boyut))\n",
        "  #calculateDizi(getDizi(boyut))\n",
        "main()"
      ],
      "metadata": {
        "colab": {
          "base_uri": "https://localhost:8080/"
        },
        "id": "pgGJKwPnROmR",
        "outputId": "40e600f7-2786-4139-dd67-d11207df28ff"
      },
      "execution_count": null,
      "outputs": [
        {
          "output_type": "stream",
          "name": "stdout",
          "text": [
            "Dizi boyutunu giriniz : 5\n",
            "Dizi olusturuluyor....\n",
            "Dizi rasgele sayilardan olusturuldu.\n",
            "[9, 6, 10, 10, 10]\n",
            "Dizi yazdiriliyor...\n",
            "9  6  10  10  10  \n",
            "Dizi uzerinde islem yapiliyor....\n",
            "Dizi elemanlarinin toplami =  45\n"
          ]
        }
      ]
    },
    {
      "cell_type": "code",
      "source": [
        "import random\n",
        "def getMatrix():\n",
        "  print(\"Matrix olusturuluyor....\")\n",
        "  rowNumber=eval(input(\"Satir gir : \"))\n",
        "  columnNumber=eval(input(\"Sutun gir : \"))\n",
        "  matrix=[]\n",
        "  for row in range(rowNumber):\n",
        "    matrix.append([])\n",
        "    for column in range(columnNumber):\n",
        "      matrix[row].append(random.randint(0,10))\n",
        "  print(\"Matrix olusturuldu...\")\n",
        "  print(matrix)\n",
        "  return matrix\n",
        "def printMatrix(matrix):\n",
        "  print(\"Matrix Yazdiriliyor...\")\n",
        "  for row in range(len(matrix)):\n",
        "    for column in range (len(matrix[row])):\n",
        "      print(matrix[row][column], end=\"  \")\n",
        "    print()\n",
        "def calculateMatrix(matrix):\n",
        "  sumOdd=0\n",
        "  sumEven=0\n",
        "  for row in range(len(matrix)):\n",
        "    for column in range(len(matrix[row])):\n",
        "      if (matrix[row][column] % 2 == 0 ):\n",
        "        sumEven+=matrix[row][column]\n",
        "      else :\n",
        "        sumOdd+=matrix[row][column]\n",
        "  return sumOdd, sumEven\n",
        "def main():\n",
        "  matrix=getMatrix()\n",
        "  printMatrix(matrix)\n",
        "  tek,cift=calculateMatrix(matrix)\n",
        "  print(\"Olusan Matrisin tek elemanlarinin toplami = \" , tek)\n",
        "  print(\"Olusan Matrisin cift elemanlarinin toplami = \" , cift)\n",
        "main()"
      ],
      "metadata": {
        "colab": {
          "base_uri": "https://localhost:8080/"
        },
        "id": "julpmE0WTYd6",
        "outputId": "2edcbc64-9721-4310-dc2f-a542da2e8742"
      },
      "execution_count": null,
      "outputs": [
        {
          "output_type": "stream",
          "name": "stdout",
          "text": [
            "Matrix olusturuluyor....\n",
            "Satir gir : 10\n",
            "Sutun gir : 10\n",
            "Matrix olusturuldu...\n",
            "[[3, 0, 1, 10, 7, 1, 8, 5, 9, 8], [0, 2, 7, 4, 7, 1, 10, 3, 5, 7], [0, 0, 4, 8, 10, 0, 9, 3, 5, 3], [1, 4, 7, 4, 2, 5, 4, 10, 5, 4], [9, 2, 2, 10, 4, 7, 5, 2, 6, 6], [5, 9, 0, 2, 7, 8, 9, 5, 10, 10], [2, 5, 5, 6, 4, 10, 6, 4, 9, 7], [7, 2, 5, 0, 1, 1, 8, 8, 1, 2], [3, 2, 4, 9, 2, 4, 8, 7, 5, 3], [0, 7, 7, 0, 0, 10, 0, 1, 2, 4]]\n",
            "Matrix Yazdiriliyor...\n",
            "3  0  1  10  7  1  8  5  9  8  \n",
            "0  2  7  4  7  1  10  3  5  7  \n",
            "0  0  4  8  10  0  9  3  5  3  \n",
            "1  4  7  4  2  5  4  10  5  4  \n",
            "9  2  2  10  4  7  5  2  6  6  \n",
            "5  9  0  2  7  8  9  5  10  10  \n",
            "2  5  5  6  4  10  6  4  9  7  \n",
            "7  2  5  0  1  1  8  8  1  2  \n",
            "3  2  4  9  2  4  8  7  5  3  \n",
            "0  7  7  0  0  10  0  1  2  4  \n",
            "Olusan Matrisin tek elemanlarinin toplami =  233\n",
            "Olusan Matrisin cift elemanlarinin toplami =  242\n"
          ]
        }
      ]
    }
  ]
}