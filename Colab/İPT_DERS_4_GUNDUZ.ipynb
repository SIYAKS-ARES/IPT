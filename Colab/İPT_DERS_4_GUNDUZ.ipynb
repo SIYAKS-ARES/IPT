{
  "nbformat": 4,
  "nbformat_minor": 0,
  "metadata": {
    "colab": {
      "provenance": []
    },
    "kernelspec": {
      "name": "python3",
      "display_name": "Python 3"
    },
    "language_info": {
      "name": "python"
    }
  },
  "cells": [
    {
      "cell_type": "code",
      "execution_count": null,
      "metadata": {
        "colab": {
          "base_uri": "https://localhost:8080/"
        },
        "id": "orSU_H-2ujts",
        "outputId": "506d44ed-9336-42cf-af87-a1812fb0b152"
      },
      "outputs": [
        {
          "output_type": "stream",
          "name": "stdout",
          "text": [
            "Result=  20\n",
            "Message\n",
            "Result=  None\n"
          ]
        }
      ],
      "source": [
        "def sum(a,b):\n",
        "  return a+b\n",
        "def printFunction():\n",
        "  print(\"Message\")\n",
        "#x=sum(10,10)\n",
        "#y=printFunction()\n",
        "print(\"Result= \", sum(10,10))\n",
        "print(\"Result= \", printFunction())\n"
      ]
    },
    {
      "cell_type": "code",
      "source": [
        "def sum(s1,s2):\n",
        "  sum=0\n",
        "  for i in range(s1,s2+1):\n",
        "    sum+=i\n",
        "  return sum\n",
        "def main():\n",
        "  s1=eval(input(\"İlk sayiyi giriniz : \"))\n",
        "  s2=eval(input(\"İkinci sayiyi giriniz : \"))\n",
        "  print(\"Girilen sayilarin toplami = \",sum(s1,s2))\n",
        "main()"
      ],
      "metadata": {
        "colab": {
          "base_uri": "https://localhost:8080/"
        },
        "id": "0z3WIXp2wJ5y",
        "outputId": "15db6caf-66bd-481d-f860-2c9a625a1a86"
      },
      "execution_count": null,
      "outputs": [
        {
          "output_type": "stream",
          "name": "stdout",
          "text": [
            "İlk sayiyi giriniz : 1\n",
            "İkinci sayiyi giriniz : 10\n",
            "Girilen sayilarin toplami =  55\n"
          ]
        }
      ]
    },
    {
      "cell_type": "code",
      "source": [
        "def sumDigit(sayi):\n",
        "  #234\n",
        "  sum=0\n",
        "  while(sayi!=0):\n",
        "    kalan=sayi%10\n",
        "    sum+=kalan\n",
        "    sayi-=kalan\n",
        "    sayi/=10\n",
        "  return sum\n",
        "def main():\n",
        "  sayi=eval(input(\"Bir sayi giriniz : \"))\n",
        "  print(\"Girilen sayinin rakamlari toplami = \", (int)(sumDigit(sayi)))\n",
        "main()"
      ],
      "metadata": {
        "colab": {
          "base_uri": "https://localhost:8080/"
        },
        "id": "JUOBjkCRxJVz",
        "outputId": "cdcae021-fd46-402e-9f56-a52ca1023418"
      },
      "execution_count": null,
      "outputs": [
        {
          "output_type": "stream",
          "name": "stdout",
          "text": [
            "Bir sayi giriniz : 123\n",
            "Girilen sayinin rakamlari toplami =  6\n"
          ]
        }
      ]
    },
    {
      "cell_type": "code",
      "source": [
        "def sumDigit(sayi):\n",
        "  ilkDeger=sayi\n",
        "  #234\n",
        "  sum=0\n",
        "  while(sayi!=0):\n",
        "    kalan=sayi%10\n",
        "    sum+=kalan\n",
        "    sayi-=kalan\n",
        "    sayi/=10\n",
        "  print(\" Girilen sayinin\", ilkDeger ,\"rakamlari toplami =  \", sum)\n",
        "def main():\n",
        "  sayi=eval(input(\"Bir sayi giriniz : \"))\n",
        "  sumDigit(sayi)\n",
        "main()"
      ],
      "metadata": {
        "colab": {
          "base_uri": "https://localhost:8080/"
        },
        "id": "KV2ZMYF-yqxE",
        "outputId": "64a4ac99-63c4-4195-a8be-f22c8023667b"
      },
      "execution_count": null,
      "outputs": [
        {
          "output_type": "stream",
          "name": "stdout",
          "text": [
            "Bir sayi giriniz : 123456789\n",
            " Girilen sayinin 123456789 rakamlari toplami =   45.0\n"
          ]
        }
      ]
    },
    {
      "cell_type": "code",
      "source": [
        "import random\n",
        "def diziOlustur(boyut):\n",
        "  print(\"Dizi olusturuluyor....\")\n",
        "  dizi=[]\n",
        "  for i in range(boyut):\n",
        "    dizi.append(random.randint(0,10))\n",
        "  print(dizi)\n",
        "  return dizi\n",
        "def diziYazdir(dizi):\n",
        "  print(\"Dizi yazdiriliyor\")\n",
        "  for i in range(len(dizi)):\n",
        "    print(dizi[i], end=\"  \")\n",
        "  print()\n",
        "def sumDizi(dizi):\n",
        "  print(\"Dizi uzerinde islem yapiliyor...\")\n",
        "  sum=0\n",
        "  for i in range(len(dizi)):\n",
        "    sum+=dizi[i]\n",
        "  return sum\n",
        "def main():\n",
        "  boyut=eval(input(\"Dizi boyutunu giriniz : \"))\n",
        "  dizi=diziOlustur(boyut)\n",
        "  diziYazdir(dizi)\n",
        "  print(\"Dizi elemanlarinin toplami = \",sumDizi(dizi))\n",
        "main()"
      ],
      "metadata": {
        "colab": {
          "base_uri": "https://localhost:8080/"
        },
        "id": "YyXF0FLezS1F",
        "outputId": "6a531993-9533-4230-e70d-85044e3cf7a1"
      },
      "execution_count": null,
      "outputs": [
        {
          "output_type": "stream",
          "name": "stdout",
          "text": [
            "Dizi boyutunu giriniz : 5\n",
            "Dizi olusturuluyor....\n",
            "[7, 5, 4, 1, 10]\n",
            "Dizi yazdiriliyor\n",
            "7  5  4  1  10  \n",
            "Dizi uzerinde islem yapiliyor...\n",
            "Dizi elemanlarinin toplami =  27\n"
          ]
        }
      ]
    },
    {
      "cell_type": "code",
      "source": [
        "import random\n",
        "def diziOlustur(boyut):\n",
        "  print(\"Dizi olusturuluyor....\")\n",
        "  dizi=[]\n",
        "  for i in range(boyut):\n",
        "    dizi.append(random.randint(0,10))\n",
        "  print(dizi)\n",
        "  return dizi\n",
        "def diziYazdir(dizi):\n",
        "  print(\"Dizi yazdiriliyor\")\n",
        "  for i in range(len(dizi)):\n",
        "    print(dizi[i], end=\"  \")\n",
        "  print()\n",
        "  sumDizi(dizi)\n",
        "def sumDizi(dizi):\n",
        "  print(\"Dizi uzerinde islem yapiliyor...\")\n",
        "  sum=0\n",
        "  for i in range(len(dizi)):\n",
        "    sum+=dizi[i]\n",
        "  print(\"Dizi elemanlarinin toplami = \", sum)\n",
        "  return sum\n",
        "def main():\n",
        "  boyut=eval(input(\"Dizi boyutunu giriniz : \"))\n",
        "  diziYazdir(diziOlustur(boyut))\n",
        "main()"
      ],
      "metadata": {
        "colab": {
          "base_uri": "https://localhost:8080/"
        },
        "id": "Ldq9DhlF1oLc",
        "outputId": "36e7ec90-9144-4540-8780-575ba1044f69"
      },
      "execution_count": null,
      "outputs": [
        {
          "output_type": "stream",
          "name": "stdout",
          "text": [
            "Dizi boyutunu giriniz : 5\n",
            "Dizi olusturuluyor....\n",
            "[0, 4, 9, 5, 6]\n",
            "Dizi yazdiriliyor\n",
            "0  4  9  5  6  \n",
            "Dizi uzerinde islem yapiliyor...\n",
            "Dizi elemanlarinin toplami =  24\n"
          ]
        }
      ]
    },
    {
      "cell_type": "code",
      "source": [
        "import random\n",
        "def getMatrix():\n",
        "  print(\"Matrix olusturuluyor\")\n",
        "  rowsNumber=eval(input(\"Satir Gir : \"))\n",
        "  columnsNumber=eval(input(\"Sutun Gir : \"))\n",
        "  matrix=[]\n",
        "  for row in range(rowsNumber):\n",
        "    matrix.append([])\n",
        "    for colum in range(columnsNumber):\n",
        "      matrix[row].append(random.randint(0,10))\n",
        "  print(\"Matrix olusturuldu\")\n",
        "  print(matrix)\n",
        "  return matrix\n",
        "def printMatrix(matrix):\n",
        "  print(\"Matrix yazdiriliyor...\")\n",
        "  for row in range(len(matrix)):\n",
        "    for column in range(len(matrix[row])):\n",
        "      print(matrix[row][column], end=\"  \")\n",
        "    print()\n",
        "def calculateMatrix(matrix):\n",
        "  print(\"Matrix uzerinde islem yapiliyor...\")\n",
        "  sumOdd=0\n",
        "  sumEven=0\n",
        "  for row in range(len(matrix)):\n",
        "    for column in range(len(matrix[row])):\n",
        "      if (matrix[row][column]%2==0):\n",
        "        sumEven+=matrix[row][column]\n",
        "      else : sumOdd+=matrix[row][column]\n",
        "  return sumOdd,sumEven\n",
        "def main():\n",
        "  matrix=getMatrix()\n",
        "  printMatrix(matrix)\n",
        "  tek,cift=calculateMatrix(matrix)\n",
        "  print(\"Teklerin toplami = \", tek)\n",
        "  print(\"Ciftlerin toplami = \", cift)\n",
        "main()"
      ],
      "metadata": {
        "colab": {
          "base_uri": "https://localhost:8080/"
        },
        "id": "Peyy51Ak2N8o",
        "outputId": "e20d937f-d5eb-49ad-f7f3-f61ca1311486"
      },
      "execution_count": null,
      "outputs": [
        {
          "output_type": "stream",
          "name": "stdout",
          "text": [
            "Matrix olusturuluyor\n",
            "Satir Gir : 3\n",
            "Sutun Gir : 3\n",
            "Matrix olusturuldu\n",
            "[[4, 4, 7], [4, 4, 8], [6, 8, 5]]\n",
            "Matrix yazdiriliyor...\n",
            "4  4  7  \n",
            "4  4  8  \n",
            "6  8  5  \n",
            "Matrix uzerinde islem yapiliyor...\n",
            "Teklerin toplami =  12\n",
            "Ciftlerin toplami =  38\n"
          ]
        }
      ]
    }
  ]
}