{
  "nbformat": 4,
  "nbformat_minor": 0,
  "metadata": {
    "colab": {
      "provenance": []
    },
    "kernelspec": {
      "name": "python3",
      "display_name": "Python 3"
    },
    "language_info": {
      "name": "python"
    }
  },
  "cells": [
    {
      "cell_type": "code",
      "execution_count": null,
      "metadata": {
        "id": "y8-3QQ1ukBNv"
      },
      "outputs": [],
      "source": [
        "matrix = [\n",
        "[1, 2, 3, 4, 5],\n",
        "[6, 7, 0, 0, 0],\n",
        "[0, 1, 0, 0, 0],\n",
        "[1, 0, 0, 0, 8],\n",
        "[0, 0, 9, 0, 3],\n",
        "]"
      ]
    },
    {
      "cell_type": "code",
      "source": [
        "matrix[4][2] # [row/satır][column/sutun]"
      ],
      "metadata": {
        "colab": {
          "base_uri": "https://localhost:8080/"
        },
        "id": "nXYmYz7DkGos",
        "outputId": "5a71f465-8dcd-4fb4-b8ed-c2ad813a468e"
      },
      "execution_count": null,
      "outputs": [
        {
          "output_type": "execute_result",
          "data": {
            "text/plain": [
              "9"
            ]
          },
          "metadata": {},
          "execution_count": 3
        }
      ]
    },
    {
      "cell_type": "code",
      "source": [
        "matrix = [] # Create an empty list\n",
        "numberOfRows = eval(input(\"Enter the number of rows: \"))\n",
        "numberOfColumns = eval(input(\"Enter the number of columns: \"))\n",
        "for row in range(numberOfRows): # for i in range(3) // i=0,1,2\n",
        "  matrix.append([]) # Add an empty new row\n",
        "  for column in range(numberOfColumns):# for j in range(3) // j=0,1,2\n",
        "    value = eval(input(\"Enter an element and press Enter: \"))\n",
        "    matrix[row].append(value)\n",
        "print(matrix)"
      ],
      "metadata": {
        "colab": {
          "base_uri": "https://localhost:8080/"
        },
        "id": "MIVL-AbSkhut",
        "outputId": "4468ea44-4e48-44e0-836b-686b93ccdf56"
      },
      "execution_count": null,
      "outputs": [
        {
          "output_type": "stream",
          "name": "stdout",
          "text": [
            "Enter the number of rows: 3\n",
            "Enter the number of columns: 3\n",
            "Enter an element and press Enter: 1\n",
            "Enter an element and press Enter: 2\n",
            "Enter an element and press Enter: 3\n",
            "Enter an element and press Enter: 4\n",
            "Enter an element and press Enter: 5\n",
            "Enter an element and press Enter: 6\n",
            "Enter an element and press Enter: 7\n",
            "Enter an element and press Enter: 8\n",
            "Enter an element and press Enter: 9\n",
            "[[1, 2, 3], [4, 5, 6], [7, 8, 9]]\n"
          ]
        }
      ]
    },
    {
      "cell_type": "code",
      "source": [
        "import random\n",
        "matrix2 = [] # Create an empty list\n",
        "numberOfRows = eval(input(\"Enter the number of rows: \"))\n",
        "numberOfColumns = eval(input(\"Enter the number of columns: \"))\n",
        "for row in range(numberOfRows):\n",
        "  matrix2.append([]) # Add an empty new row\n",
        "  for column in range(numberOfColumns):\n",
        "    matrix2[row].append(random.randint(0, 100))\n",
        "print(matrix2)"
      ],
      "metadata": {
        "colab": {
          "base_uri": "https://localhost:8080/"
        },
        "id": "JutA_RKoowDh",
        "outputId": "0fbbeda8-d8b2-4125-ae77-047ac45c9df2"
      },
      "execution_count": null,
      "outputs": [
        {
          "output_type": "stream",
          "name": "stdout",
          "text": [
            "Enter the number of rows: 5\n",
            "Enter the number of columns: 7\n",
            "[[44, 82, 45, 39, 32, 46, 87], [100, 96, 69, 53, 6, 44, 24], [94, 29, 25, 96, 27, 23, 78], [80, 86, 41, 44, 25, 57, 59], [74, 12, 39, 44, 61, 23, 45]]\n"
          ]
        }
      ]
    },
    {
      "cell_type": "code",
      "source": [
        "for row in range(len(matrix2)):\n",
        "  for column in range(len(matrix2[row])):\n",
        "    print(matrix2[row][column], end = \" \")\n",
        "  print() # Print a new line"
      ],
      "metadata": {
        "colab": {
          "base_uri": "https://localhost:8080/"
        },
        "id": "AgKccRxjp4ag",
        "outputId": "e2249cea-2919-4551-8aa7-4f76901d2b8b"
      },
      "execution_count": null,
      "outputs": [
        {
          "output_type": "stream",
          "name": "stdout",
          "text": [
            "44 82 45 39 32 46 87 \n",
            "100 96 69 53 6 44 24 \n",
            "94 29 25 96 27 23 78 \n",
            "80 86 41 44 25 57 59 \n",
            "74 12 39 44 61 23 45 \n"
          ]
        }
      ]
    },
    {
      "cell_type": "code",
      "source": [
        "import random\n",
        "\n",
        "# 1- Matrix oluşturuluyor\n",
        "def getMatrix():\n",
        "  matrix3 = [] # Create an empty list\n",
        "  numberOfRows = eval(input(\"Enter the number of rows: \"))\n",
        "  numberOfColumns = eval(input(\"Enter the number of columns: \"))\n",
        "  for row in range(numberOfRows):\n",
        "    matrix3.append([]) # Add an empty new row\n",
        "    for column in range(numberOfColumns):\n",
        "      matrix3[row].append(random.randint(0, 5))\n",
        "  return matrix3\n",
        "# 2- Matrix yazdırılıyor\n",
        "def printMatrix(matrix3):\n",
        "  for row in range(len(matrix3)):\n",
        "    for column in range(len(matrix3[row])):\n",
        "      print(matrix3[row][column], end = \" \")\n",
        "    print() # Print a new line\n",
        "\n",
        "# 3- Matrix elemanları toplanıyor\n",
        "def sumMatrix(matrix3):\n",
        "  total=0\n",
        "  for row in range(numberOfRows):\n",
        "    for column in range(numberOfColumns):\n",
        "      total += matrix3[row][column]\n",
        "  return total\n",
        "def main():\n",
        "  m = getMatrix()\n",
        "  printMatrix(m)\n",
        "  print(\"\\nSum of all elements is\", sumMatrix(m))\n",
        "main() # Invoke main function"
      ],
      "metadata": {
        "colab": {
          "base_uri": "https://localhost:8080/"
        },
        "id": "5-c9PoWMqukt",
        "outputId": "fccaaacb-78ee-4002-c2d1-9b586abab984"
      },
      "execution_count": null,
      "outputs": [
        {
          "output_type": "stream",
          "name": "stdout",
          "text": [
            "Enter the number of rows: 5\n",
            "Enter the number of columns: 5\n",
            "4 2 4 3 3 \n",
            "0 1 1 3 5 \n",
            "3 2 1 3 5 \n",
            "1 1 2 5 2 \n",
            "5 1 5 3 4 \n",
            "\n",
            "Sum of all elements is 69\n"
          ]
        }
      ]
    },
    {
      "cell_type": "code",
      "source": [
        "def sumDigit(sayi):\n",
        "  toplam=0\n",
        "  while(sayi!=0):\n",
        "    kalan=sayi%10\n",
        "    toplam+=kalan\n",
        "    sayi-=kalan\n",
        "    sayi/=10\n",
        "  return toplam\n",
        "def main():\n",
        "  sayi=eval(input(\"Bir sayi giriniz : \"))\n",
        "  print(\"Sayinin rakamlari toplami = \", sumDigit(sayi))\n",
        "main()"
      ],
      "metadata": {
        "colab": {
          "base_uri": "https://localhost:8080/"
        },
        "id": "9NJx1Jbqd-Qr",
        "outputId": "3d7d03b7-8d14-43a3-a994-276620dcc8df"
      },
      "execution_count": null,
      "outputs": [
        {
          "output_type": "stream",
          "name": "stdout",
          "text": [
            "Bir sayi giriniz : 123456789\n",
            "Sayinin rakamlari toplami =  45.0\n"
          ]
        }
      ]
    },
    {
      "cell_type": "code",
      "source": [
        "import random\n",
        "def getMatrix():\n",
        "  rowsNumber=eval(input(\"Satir gir\"))\n",
        "  columnsNumber=eval(input(\"Sutun gir\"))\n",
        "  matrix=[]\n",
        "  for row in range(rowsNumber):\n",
        "    matrix.append([])\n",
        "    for column in range(columnsNumber):\n",
        "      matrix[row].append(random.randint(0,10))\n",
        "  return matrix\n",
        "def printMatrix(matrix):\n",
        "  for row in range(len(matrix)):\n",
        "    for column in range(len(matrix[row])):\n",
        "      print(matrix[row][column], end=\"  \")\n",
        "    print()\n",
        "def calculateMatrix(matrix):\n",
        "  sum=0\n",
        "  for row in range(len(matrix)):\n",
        "    for column in range (len(matrix[row])):\n",
        "      sum+=matrix[row][column]\n",
        "  return sum\n",
        "def main():\n",
        "  matrix=getMatrix()\n",
        "  printMatrix(matrix)\n",
        "  print(\"\\nSum of all elements is\", calculateMatrix(matrix))\n",
        "main()"
      ],
      "metadata": {
        "colab": {
          "base_uri": "https://localhost:8080/"
        },
        "id": "tMnMZwSUnuH7",
        "outputId": "498022d5-cb76-4b3e-9344-332e736d14b1"
      },
      "execution_count": null,
      "outputs": [
        {
          "output_type": "stream",
          "name": "stdout",
          "text": [
            "Satir gir3\n",
            "Sutun gir3\n",
            "2  0  4  \n",
            "4  10  0  \n",
            "5  4  7  \n",
            "\n",
            "Sum of all elements is 36\n"
          ]
        }
      ]
    }
  ]
}