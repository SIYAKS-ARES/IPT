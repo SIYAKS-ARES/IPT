{
  "nbformat": 4,
  "nbformat_minor": 0,
  "metadata": {
    "colab": {
      "provenance": []
    },
    "kernelspec": {
      "name": "python3",
      "display_name": "Python 3"
    },
    "language_info": {
      "name": "python"
    }
  },
  "cells": [
    {
      "cell_type": "code",
      "execution_count": null,
      "metadata": {
        "colab": {
          "base_uri": "https://localhost:8080/"
        },
        "id": "P6yLGo7BqpVx",
        "outputId": "bd1106d5-a54a-438c-ecb6-6233e61bf0f9"
      },
      "outputs": [
        {
          "output_type": "stream",
          "name": "stdout",
          "text": [
            "Dizi boyutu : 5\n",
            " Dizi elemanini giriniz : 1\n",
            " Dizi elemanini giriniz : 2\n",
            " Dizi elemanini giriniz : 3\n",
            " Dizi elemanini giriniz : 4\n",
            " Dizi elemanini giriniz : 5\n",
            "[1, 2, 3, 4, 5]\n",
            "Liste elemanlarinin toplami =  15\n",
            "Liste elemanlarinin ortalamasi =  3.0\n",
            "5\n"
          ]
        }
      ],
      "source": [
        "dizi=[]\n",
        "diziElemanSayisi=eval(input(\"Dizi boyutu : \"))\n",
        "sum=0\n",
        "for i in range(diziElemanSayisi):\n",
        "  #print((i+1),\".\", end=\"\")\n",
        "  value=eval(input(\" Dizi elemanini giriniz : \"))\n",
        "  dizi.append(value)\n",
        "  sum+=dizi[i]\n",
        "avg=sum/diziElemanSayisi\n",
        "print(dizi)\n",
        "print(\"Liste elemanlarinin toplami = \", sum)\n",
        "print(\"Liste elemanlarinin ortalamasi = \", avg)\n",
        "print(dizi[4])"
      ]
    },
    {
      "cell_type": "code",
      "source": [
        "import random\n",
        "dizi=[]\n",
        "diziElemanSayisi=eval(input(\"Dizi boyutunu giriniz : \"))\n",
        "for i in range(diziElemanSayisi):\n",
        "  value=random.randint(0,50)\n",
        "  dizi.append(value)\n",
        "\n",
        "for i in range(diziElemanSayisi):\n",
        "  print(dizi[i], end=\" \")\n",
        "\n",
        "print()\n",
        "print(dizi)"
      ],
      "metadata": {
        "colab": {
          "base_uri": "https://localhost:8080/"
        },
        "id": "413epDIZtBfE",
        "outputId": "8f66300a-4d6d-46a2-889d-81a53f8c1951"
      },
      "execution_count": null,
      "outputs": [
        {
          "output_type": "stream",
          "name": "stdout",
          "text": [
            "Dizi boyutunu giriniz : 10\n",
            "16 37 8 28 43 25 50 40 13 39 \n",
            "[16, 37, 8, 28, 43, 25, 50, 40, 13, 39]\n"
          ]
        }
      ]
    },
    {
      "cell_type": "code",
      "source": [
        "import random\n",
        "dizi=[]\n",
        "diziElemanSayisi=eval(input(\"Dizi boyutunu giriniz : \"))\n",
        "for i in range(diziElemanSayisi):\n",
        "  value=random.randint(0,50)\n",
        "  dizi.append(value)\n",
        "\n",
        "enKucuk=dizi[0]\n",
        "enBuyuk=dizi[0]\n",
        "for i in range(diziElemanSayisi):\n",
        "  if dizi[i]<enKucuk:\n",
        "    enKucuk=dizi[i]\n",
        "  if dizi[i]>enBuyuk:\n",
        "    enBuyuk=dizi[i]\n",
        "print(dizi)\n",
        "print(\"Listenin en kucuk elemani = \", enKucuk)\n",
        "print(\"Listenin en buyuk elemani = \", enBuyuk)"
      ],
      "metadata": {
        "colab": {
          "base_uri": "https://localhost:8080/"
        },
        "id": "FK12MulXt5C6",
        "outputId": "70729d22-006b-4b43-d135-bcb0e69bcac9"
      },
      "execution_count": null,
      "outputs": [
        {
          "output_type": "stream",
          "name": "stdout",
          "text": [
            "Dizi boyutunu giriniz : 10\n",
            "[22, 0, 8, 35, 40, 42, 10, 21, 22, 1]\n",
            "Listenin en kucuk elemani =  0\n",
            "Listenin en buyuk elemani =  42\n"
          ]
        }
      ]
    },
    {
      "cell_type": "code",
      "source": [
        "import random\n",
        "liste=[]\n",
        "listeElemanSayisi=eval(input(\"Liste boyutunu giriniz : \"))\n",
        "for i in range(listeElemanSayisi):\n",
        "  value=random.randint(0,50)\n",
        "  liste.append(value)\n",
        "print(liste)\n",
        "print(\"Liste kucukten buyuge siralaniyor...\"),\n",
        "for i in range(len(liste)):\n",
        "  for j in range(len(liste)):\n",
        "    if liste[i]<liste[j]:\n",
        "      temp=liste[j]\n",
        "      liste[j]=liste[i]\n",
        "      liste[i]=temp\n",
        "print(liste)\n",
        "print(\"Liste buyukten kucuge siralaniyor...\"),\n",
        "for i in range(len(liste)):\n",
        "  for j in range(len(liste)):\n",
        "    if liste[i]>liste[j]:\n",
        "      temp=liste[j]\n",
        "      liste[j]=liste[i]\n",
        "      liste[i]=temp\n",
        "print(liste)"
      ],
      "metadata": {
        "colab": {
          "base_uri": "https://localhost:8080/"
        },
        "id": "YPN5-Subu41l",
        "outputId": "1ba56da0-ba72-40f7-d1fc-c728073a7ae8"
      },
      "execution_count": null,
      "outputs": [
        {
          "output_type": "stream",
          "name": "stdout",
          "text": [
            "Liste boyutunu giriniz : 10\n",
            "[27, 48, 49, 3, 40, 28, 36, 24, 14, 47]\n",
            "Liste kucukten buyuge siralaniyor...\n",
            "[3, 14, 24, 27, 28, 36, 40, 47, 48, 49]\n",
            "Liste buyukten kucuge siralaniyor...\n",
            "[49, 48, 47, 40, 36, 28, 27, 24, 14, 3]\n"
          ]
        }
      ]
    },
    {
      "cell_type": "code",
      "source": [
        "matrix=[]\n",
        "rowNumber=eval(input(\"Satir sayisini giriniz : \"))\n",
        "columnNumber=eval(input(\"Sutun sayisini giriniz : \"))\n",
        "\n",
        "for row in range(rowNumber):\n",
        "  matrix.append([])\n",
        "  for column in range(columnNumber):\n",
        "    value=eval(input(\"Matrix elemanini giriniz : \"))\n",
        "    matrix[row].append(value)\n",
        "\n",
        "print(matrix)"
      ],
      "metadata": {
        "colab": {
          "base_uri": "https://localhost:8080/"
        },
        "id": "vZTZMdbVysqw",
        "outputId": "1224e492-3922-469b-8c4b-c33da0c7b3e2"
      },
      "execution_count": null,
      "outputs": [
        {
          "output_type": "stream",
          "name": "stdout",
          "text": [
            "Satir sayisini giriniz : 3\n",
            "Sutun sayisini giriniz : 3\n",
            "Matrix elemanini giriniz : 1\n",
            "Matrix elemanini giriniz : 2\n",
            "Matrix elemanini giriniz : 3\n",
            "Matrix elemanini giriniz : 4\n",
            "Matrix elemanini giriniz : 5\n",
            "Matrix elemanini giriniz : 6\n",
            "Matrix elemanini giriniz : 7\n",
            "Matrix elemanini giriniz : 8\n",
            "Matrix elemanini giriniz : 9\n",
            "[[1, 2, 3], [4, 5, 6], [7, 8, 9]]\n"
          ]
        }
      ]
    },
    {
      "cell_type": "code",
      "source": [
        "import random\n",
        "matrix=[]\n",
        "rowNumber=eval(input(\"Satir sayisini giriniz : \"))\n",
        "columnNumber=eval(input(\"Sutun sayisini giriniz : \"))\n",
        "print(\"Multi-List Olusturuluyor....\")\n",
        "for row in range(rowNumber):\n",
        "  matrix.append([])\n",
        "  for column in range(columnNumber):\n",
        "    value=random.randint(0,9)\n",
        "    matrix[row].append(value)\n",
        "print(matrix)\n",
        "print(\"Multi-List Yazdiriliyor....\")\n",
        "print()\n",
        "for row in range(rowNumber):\n",
        "  for column in range(columnNumber):\n",
        "    print(matrix[row][column], end=\"   \")\n",
        "  print()"
      ],
      "metadata": {
        "colab": {
          "base_uri": "https://localhost:8080/"
        },
        "id": "I-NxKWVqz5wR",
        "outputId": "3c268d54-b22f-46b6-8216-1eee3e2e0f21"
      },
      "execution_count": null,
      "outputs": [
        {
          "output_type": "stream",
          "name": "stdout",
          "text": [
            "Satir sayisini giriniz : 10\n",
            "Sutun sayisini giriniz : 10\n",
            "Multi-List Olusturuluyor....\n",
            "[[7, 9, 3, 5, 3, 8, 5, 5, 6, 6], [9, 8, 1, 7, 4, 9, 5, 1, 1, 0], [7, 7, 3, 2, 9, 6, 5, 4, 2, 2], [3, 8, 2, 0, 0, 6, 0, 1, 1, 9], [1, 9, 3, 4, 0, 5, 3, 3, 2, 1], [3, 2, 1, 8, 4, 6, 7, 1, 9, 3], [3, 1, 9, 7, 5, 8, 9, 3, 0, 3], [3, 1, 7, 2, 2, 8, 6, 2, 4, 9], [6, 1, 6, 5, 2, 3, 8, 7, 6, 7], [9, 6, 6, 7, 4, 5, 2, 6, 4, 5]]\n",
            "Multi-List Yazdiriliyor....\n",
            "\n",
            "7   9   3   5   3   8   5   5   6   6   \n",
            "9   8   1   7   4   9   5   1   1   0   \n",
            "7   7   3   2   9   6   5   4   2   2   \n",
            "3   8   2   0   0   6   0   1   1   9   \n",
            "1   9   3   4   0   5   3   3   2   1   \n",
            "3   2   1   8   4   6   7   1   9   3   \n",
            "3   1   9   7   5   8   9   3   0   3   \n",
            "3   1   7   2   2   8   6   2   4   9   \n",
            "6   1   6   5   2   3   8   7   6   7   \n",
            "9   6   6   7   4   5   2   6   4   5   \n"
          ]
        }
      ]
    }
  ]
}