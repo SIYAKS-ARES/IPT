{
  "nbformat": 4,
  "nbformat_minor": 0,
  "metadata": {
    "colab": {
      "provenance": []
    },
    "kernelspec": {
      "name": "python3",
      "display_name": "Python 3"
    },
    "language_info": {
      "name": "python"
    }
  },
  "cells": [
    {
      "cell_type": "code",
      "execution_count": null,
      "metadata": {
        "colab": {
          "base_uri": "https://localhost:8080/"
        },
        "id": "MRloojIDXmmr",
        "outputId": "b2cfbebd-ef77-4998-fed4-2fa47ae5d183"
      },
      "outputs": [
        {
          "output_type": "stream",
          "name": "stdout",
          "text": [
            "0-10 arasindaki sayilarin toplami =  45\n"
          ]
        }
      ],
      "source": [
        "sum=0\n",
        "sayac=0\n",
        "while sayac<10:\n",
        "  sum+=sayac\n",
        "  sayac+=1\n",
        "print(\"0-10 arasindaki sayilarin toplami = \", str(sum))"
      ]
    },
    {
      "cell_type": "code",
      "source": [
        "ilkDeger=eval(input(\"Baslangic degerini giriniz: \"))\n",
        "ilkDegerSabit=ilkDeger\n",
        "bitisDegeri=eval(input(\"Bitis degerini giriniz: \"))\n",
        "if ilkDeger<bitisDegeri:\n",
        "  sum=0\n",
        "  while (ilkDeger<bitisDegeri):\n",
        "    sum+=ilkDeger\n",
        "    ilkDeger+=1\n",
        "else:\n",
        "  temp=bitisDegeri\n",
        "  bitisDegeri=ilkDeger\n",
        "  ilkDeger=temp\n",
        "  sum=0\n",
        "  while ilkDeger<bitisDegeri:\n",
        "    sum+=ilkDeger\n",
        "    ilkDeger+=1\n",
        "print(ilkDegerSabit, \" ile \", bitisDegeri ,\" arasindaki sayilarin toplami=\" , sum)"
      ],
      "metadata": {
        "colab": {
          "base_uri": "https://localhost:8080/"
        },
        "id": "nmW_OL98ZP7i",
        "outputId": "d08f9adf-5cb6-4b08-cfec-95db316d7a4b"
      },
      "execution_count": null,
      "outputs": [
        {
          "output_type": "stream",
          "name": "stdout",
          "text": [
            "Baslangic degerini giriniz: 10\n",
            "Bitis degerini giriniz: 50\n",
            "10  ile  50  arasindaki sayilarin toplami= 1180\n"
          ]
        }
      ]
    },
    {
      "cell_type": "code",
      "source": [
        "import random\n",
        "\n",
        "sayi1=random.randint(0,10)\n",
        "sayi2=random.randint(0,10)\n",
        "\n",
        "if sayi1<sayi2:\n",
        "  print(sayi2 , \"-\" , sayi1 ,\"=?\")\n",
        "  cevap=eval(input(\"Cevabınız \"))\n",
        "  sonuc=sayi2-sayi1\n",
        "else:\n",
        "  print(sayi1 , \"-\" , sayi2 ,\"=?\")\n",
        "  cevap=eval(input(\"Cevabınız \"))\n",
        "  sonuc=sayi1-sayi2\n",
        "\n",
        "if cevap==sonuc:\n",
        "  print(\"Tebrikler\")\n",
        "else :\n",
        "  print(\"Yanlis Cevap\")"
      ],
      "metadata": {
        "colab": {
          "base_uri": "https://localhost:8080/"
        },
        "id": "9XdPxUAUb5LN",
        "outputId": "83ab90c1-a5ec-487d-987f-fafda0eec3c1"
      },
      "execution_count": null,
      "outputs": [
        {
          "output_type": "stream",
          "name": "stdout",
          "text": [
            "10 - 5 =?\n",
            "Cevabınız 5\n",
            "Tebrikler\n"
          ]
        }
      ]
    },
    {
      "cell_type": "code",
      "source": [
        "for i in range(1, 6):\n",
        "    print(\"Nested Loop\")"
      ],
      "metadata": {
        "colab": {
          "base_uri": "https://localhost:8080/"
        },
        "id": "Qu7l6xJvfAJi",
        "outputId": "69d20a75-701a-42d2-9980-6087dd110df1"
      },
      "execution_count": null,
      "outputs": [
        {
          "output_type": "stream",
          "name": "stdout",
          "text": [
            "Nested Loop\n",
            "Nested Loop\n",
            "Nested Loop\n",
            "Nested Loop\n",
            "Nested Loop\n",
            "Nested Loop\n",
            "Nested Loop\n",
            "Nested Loop\n",
            "Nested Loop\n",
            "Nested Loop\n",
            "Nested Loop\n",
            "Nested Loop\n",
            "Nested Loop\n",
            "Nested Loop\n",
            "Nested Loop\n",
            "Nested Loop\n",
            "Nested Loop\n",
            "Nested Loop\n",
            "Nested Loop\n",
            "Nested Loop\n",
            "Nested Loop\n",
            "Nested Loop\n",
            "Nested Loop\n",
            "Nested Loop\n",
            "Nested Loop\n"
          ]
        }
      ]
    },
    {
      "cell_type": "code",
      "source": [
        "for i in range(1, 5):\n",
        "  j = 0\n",
        "  while j < i:\n",
        "    print(j, end = \"\")\n",
        "    j += 1\n",
        "  print()"
      ],
      "metadata": {
        "colab": {
          "base_uri": "https://localhost:8080/"
        },
        "id": "SjAeeLucgGZG",
        "outputId": "ff6dd7c3-4b6d-4d15-f81b-ec868551a7de"
      },
      "execution_count": null,
      "outputs": [
        {
          "output_type": "stream",
          "name": "stdout",
          "text": [
            "0\n",
            "01\n",
            "012\n",
            "0123\n"
          ]
        }
      ]
    },
    {
      "cell_type": "code",
      "source": [
        "for i in range(1,100):\n",
        "  if i==50:\n",
        "    continue\n",
        "  print(i)"
      ],
      "metadata": {
        "colab": {
          "base_uri": "https://localhost:8080/"
        },
        "id": "bV2K9916hCk5",
        "outputId": "71cbac9e-f9af-475d-c689-6599bd663511"
      },
      "execution_count": null,
      "outputs": [
        {
          "output_type": "stream",
          "name": "stdout",
          "text": [
            "1\n",
            "2\n",
            "3\n",
            "4\n",
            "5\n",
            "6\n",
            "7\n",
            "8\n",
            "9\n",
            "10\n",
            "11\n",
            "12\n",
            "13\n",
            "14\n",
            "15\n",
            "16\n",
            "17\n",
            "18\n",
            "19\n",
            "20\n",
            "21\n",
            "22\n",
            "23\n",
            "24\n",
            "25\n",
            "26\n",
            "27\n",
            "28\n",
            "29\n",
            "30\n",
            "31\n",
            "32\n",
            "33\n",
            "34\n",
            "35\n",
            "36\n",
            "37\n",
            "38\n",
            "39\n",
            "40\n",
            "41\n",
            "42\n",
            "43\n",
            "44\n",
            "45\n",
            "46\n",
            "47\n",
            "48\n",
            "49\n",
            "51\n",
            "52\n",
            "53\n",
            "54\n",
            "55\n",
            "56\n",
            "57\n",
            "58\n",
            "59\n",
            "60\n",
            "61\n",
            "62\n",
            "63\n",
            "64\n",
            "65\n",
            "66\n",
            "67\n",
            "68\n",
            "69\n",
            "70\n",
            "71\n",
            "72\n",
            "73\n",
            "74\n",
            "75\n",
            "76\n",
            "77\n",
            "78\n",
            "79\n",
            "80\n",
            "81\n",
            "82\n",
            "83\n",
            "84\n",
            "85\n",
            "86\n",
            "87\n",
            "88\n",
            "89\n",
            "90\n",
            "91\n",
            "92\n",
            "93\n",
            "94\n",
            "95\n",
            "96\n",
            "97\n",
            "98\n",
            "99\n"
          ]
        }
      ]
    }
  ]
}