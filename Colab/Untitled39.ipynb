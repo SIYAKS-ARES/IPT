{
  "nbformat": 4,
  "nbformat_minor": 0,
  "metadata": {
    "colab": {
      "provenance": []
    },
    "kernelspec": {
      "name": "python3",
      "display_name": "Python 3"
    },
    "language_info": {
      "name": "python"
    }
  },
  "cells": [
    {
      "cell_type": "code",
      "execution_count": null,
      "metadata": {
        "colab": {
          "base_uri": "https://localhost:8080/"
        },
        "id": "QRNPtXobiiPj",
        "outputId": "8a617b9c-edf0-4c3b-fb9d-89b26d9c4442"
      },
      "outputs": [
        {
          "name": "stdout",
          "output_type": "stream",
          "text": [
            "Dizi boyutunu giriniz : 5\n",
            "Enter a new number: 5\n",
            "Enter a new number: 5\n",
            "Enter a new number: 5\n",
            "Enter a new number: 5\n",
            "Enter a new number: 5\n"
          ]
        }
      ],
      "source": [
        "import random\n",
        "dizi=[]\n",
        "diziElemanSayisi=eval(input(\"Dizi boyutunu giriniz : \"))\n",
        "for i in range(diziElemanSayisi):\n",
        "  value = eval(input(\"Enter a new number: \"))\n",
        "  dizi.append(value)"
      ]
    },
    {
      "cell_type": "code",
      "source": [
        "import random\n",
        "dizi=[]\n",
        "diziElemanSayisi=eval(input(\"Dizi boyutunu giriniz : \"))\n",
        "for i in range(diziElemanSayisi):\n",
        "  value = random.randint(0,50)\n",
        "  dizi.append(value)\n",
        "\n",
        "for i in range(diziElemanSayisi):\n",
        "  print(dizi[i] , end=\" \")\n"
      ],
      "metadata": {
        "colab": {
          "base_uri": "https://localhost:8080/"
        },
        "id": "IBWg9z2waXUb",
        "outputId": "15c8f01f-fa98-4fc4-9418-610aab248c8a"
      },
      "execution_count": null,
      "outputs": [
        {
          "output_type": "stream",
          "name": "stdout",
          "text": [
            "Dizi boyutunu giriniz : 10\n",
            "16 3 39 29 15 48 33 0 46 25 "
          ]
        }
      ]
    },
    {
      "cell_type": "code",
      "source": [
        "import random\n",
        "dizi=[]\n",
        "diziElemanSayisi=eval(input(\"Dizi boyutunu giriniz : \"))\n",
        "for i in range(diziElemanSayisi):\n",
        "  value = random.randint(0,50)\n",
        "  dizi.append(value)\n",
        "\n",
        "for i in range(diziElemanSayisi):\n",
        "  print(dizi[i] , end=\" \")\n",
        "\n",
        "print(\"en kucuk eleman : \")\n",
        "enKucuk=dizi[0]\n",
        "for i in range(diziElemanSayisi):\n",
        "  if dizi[i]<enKucuk:\n",
        "    enKucuk=dizi[i]\n",
        "\n",
        "print(\"En Kucuk Eleman : \", enKucuk)\n",
        "\n"
      ],
      "metadata": {
        "colab": {
          "base_uri": "https://localhost:8080/"
        },
        "id": "AYBTw1xabDhZ",
        "outputId": "735662ca-94cb-4c74-e3b9-eb5b29d98844"
      },
      "execution_count": null,
      "outputs": [
        {
          "output_type": "stream",
          "name": "stdout",
          "text": [
            "Dizi boyutunu giriniz : 10\n",
            "7 11 32 27 30 41 40 46 39 9 en kucuk eleman : \n",
            "En Kucuk Eleman :  7\n"
          ]
        }
      ]
    },
    {
      "cell_type": "code",
      "source": [
        "import random\n",
        "dizi=[]\n",
        "diziElemanSayisi=eval(input(\"Dizi boyutunu giriniz : \"))\n",
        "for i in range(diziElemanSayisi):\n",
        "  value = random.randint(0,50)\n",
        "  dizi.append(value)\n",
        "\n",
        "for i in range(diziElemanSayisi):\n",
        "  print(dizi[i] , end=\" \")\n",
        "\n",
        "print(\"Siralaniyor....\")\n",
        "\n",
        "for i in range(diziElemanSayisi):\n",
        "  for j in range (diziElemanSayisi):\n",
        "    if dizi[i]<dizi[j]:\n",
        "      temp=dizi[j]\n",
        "      dizi[j]=dizi[i]\n",
        "      dizi[i]=temp\n",
        "\n",
        "print(dizi)"
      ],
      "metadata": {
        "colab": {
          "base_uri": "https://localhost:8080/"
        },
        "id": "u8MpKnF0bcNB",
        "outputId": "01423900-119b-416e-93d0-24873fc85d3e"
      },
      "execution_count": null,
      "outputs": [
        {
          "output_type": "stream",
          "name": "stdout",
          "text": [
            "Dizi boyutunu giriniz : 10\n",
            "43 5 50 48 19 35 46 28 7 21 Siralaniyor....\n",
            "[5, 7, 19, 21, 28, 35, 43, 46, 48, 50]\n"
          ]
        }
      ]
    },
    {
      "cell_type": "code",
      "source": [
        "import random\n",
        "\n",
        "matrix=[]\n",
        "rowNumber=eval(input(\"Satir sayisini giriniz : \"))\n",
        "columnNuber=eval(input(\"Sutun sayisini giriniz : \"))\n",
        "\n",
        "print(\"Matris olusturuluyor...\")\n",
        "for row in range(rowNumber):\n",
        "  matrix.append([])\n",
        "  for column in range (columnNuber):\n",
        "    matrix[row].append(random.randint(0,50))\n",
        "\n",
        "print(\"Matris Yazdiriliyor...\")\n",
        "for row in range(rowNumber):\n",
        "  for column in range(columnNuber):\n",
        "    print(matrix[row][column],end=\" \")\n",
        "  print()\n",
        "\n",
        "print(\"En kucuk bulunuyor\")\n",
        "\n",
        "enKucuk=matrix[0][0]\n",
        "for row in range(rowNumber):\n",
        "  for column in range(columnNuber):\n",
        "    if(matrix[row][column] < enKucuk):\n",
        "      enKucuk=matrix[row][column]\n",
        "\n",
        "print(enKucuk)"
      ],
      "metadata": {
        "colab": {
          "base_uri": "https://localhost:8080/"
        },
        "id": "fLzFcRsTcu6m",
        "outputId": "a8746ffd-9594-4e59-b3d8-db596e68587f"
      },
      "execution_count": null,
      "outputs": [
        {
          "output_type": "stream",
          "name": "stdout",
          "text": [
            "Satir sayisini giriniz : 5\n",
            "Sutun sayisini giriniz : 5\n",
            "Matris olusturuluyor...\n",
            "Matris Yazdiriliyor...\n",
            "48 28 19 49 40 \n",
            "27 36 0 11 1 \n",
            "45 43 8 34 48 \n",
            "29 2 12 6 8 \n",
            "29 47 12 45 4 \n",
            "En kucuk bulunuyor\n",
            "0\n"
          ]
        }
      ]
    }
  ]
}