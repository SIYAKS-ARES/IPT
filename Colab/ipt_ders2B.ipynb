{
  "nbformat": 4,
  "nbformat_minor": 0,
  "metadata": {
    "colab": {
      "provenance": []
    },
    "kernelspec": {
      "name": "python3",
      "display_name": "Python 3"
    },
    "language_info": {
      "name": "python"
    }
  },
  "cells": [
    {
      "cell_type": "code",
      "execution_count": null,
      "metadata": {
        "colab": {
          "base_uri": "https://localhost:8080/"
        },
        "id": "_HdNuT9jrhf6",
        "outputId": "2d515453-8bc2-423f-bfb7-dccfb8ca0847"
      },
      "outputs": [
        {
          "output_type": "stream",
          "name": "stdout",
          "text": [
            "0-10 arasindaki sayilarin toplami =  45\n"
          ]
        }
      ],
      "source": [
        "sum=0\n",
        "sayac=0\n",
        "while sayac<10:\n",
        "  sum+=sayac\n",
        "  sayac+=1\n",
        "print(\"0-10 arasindaki sayilarin toplami = \" , str(sum))"
      ]
    },
    {
      "cell_type": "code",
      "source": [
        "ilkDeger=eval(input(\"Baslangic degerini giriniz : \"))\n",
        "ilkDegeriSabitle=ilkDeger\n",
        "bitisDeger=eval(input(\"Bitis degerini giriniz : \"))\n",
        "bitisDegeriSabitle=bitisDeger\n",
        "if ilkDeger<bitisDeger:\n",
        "  sum=0\n",
        "  while ilkDeger<bitisDeger:\n",
        "    sum+=ilkDeger\n",
        "    ilkDeger+=1\n",
        "else :\n",
        "  temp=bitisDeger\n",
        "  bitisDeger=ilkDeger\n",
        "  ilkDeger=temp\n",
        "  sum=0\n",
        "  while ilkDeger<bitisDeger:\n",
        "    sum+=ilkDeger\n",
        "    ilkDeger+=1\n",
        "print(ilkDegeriSabitle,\" ile \", bitisDegeriSabitle,\" arasindaki degerlerin toplami =\", sum)"
      ],
      "metadata": {
        "colab": {
          "base_uri": "https://localhost:8080/"
        },
        "id": "tWhl0XI-teFQ",
        "outputId": "b11cb06a-5b51-4fc4-a79a-cd717aa43da5"
      },
      "execution_count": null,
      "outputs": [
        {
          "output_type": "stream",
          "name": "stdout",
          "text": [
            "Baslangic degerini giriniz : 10\n",
            "Bitis degerini giriniz : 20\n",
            "10  ile  20  arasindaki degerlerin toplami = 145\n"
          ]
        }
      ]
    },
    {
      "cell_type": "code",
      "source": [
        "import random\n",
        "\n",
        "sayi1=random.randint(0,10)\n",
        "sayi2=random.randint(0,10)\n",
        "\n",
        "sonuc=sayi1+sayi2\n",
        "print(sayi1, \"+\", sayi2, \" = ?\")\n",
        "tahmin=eval(input(\"Cevap : \"))\n",
        "\n",
        "if sonuc==tahmin:\n",
        "  print(\"Tebrikler\")\n",
        "else:\n",
        "  print(\"Yanlis Cevap\")"
      ],
      "metadata": {
        "colab": {
          "base_uri": "https://localhost:8080/"
        },
        "id": "0nx8PPSAwYJv",
        "outputId": "f4c745fe-3071-46c6-cba1-af35c38c1b43"
      },
      "execution_count": null,
      "outputs": [
        {
          "output_type": "stream",
          "name": "stdout",
          "text": [
            "1 + 2  = ?\n",
            "Cevap : 3\n",
            "Tebrikler\n"
          ]
        }
      ]
    },
    {
      "cell_type": "code",
      "source": [
        "for i in range(0, 1, 2):\n",
        "  print(i)"
      ],
      "metadata": {
        "colab": {
          "base_uri": "https://localhost:8080/"
        },
        "id": "PY64FeRVzKhG",
        "outputId": "c79bbc86-b5cc-4035-e5bb-190e7e374fdf"
      },
      "execution_count": null,
      "outputs": [
        {
          "output_type": "stream",
          "name": "stdout",
          "text": [
            "0\n"
          ]
        }
      ]
    },
    {
      "cell_type": "code",
      "source": [
        "for i in range (1,6):\n",
        "  for j in range (1,6):\n",
        "    print(\"Nesteds Loop\")"
      ],
      "metadata": {
        "colab": {
          "base_uri": "https://localhost:8080/"
        },
        "id": "lCW9nyxGzi2C",
        "outputId": "2c0b11c2-dabf-4171-f81f-09e79df6b48b"
      },
      "execution_count": null,
      "outputs": [
        {
          "output_type": "stream",
          "name": "stdout",
          "text": [
            "Nesteds Loop\n",
            "Nesteds Loop\n",
            "Nesteds Loop\n",
            "Nesteds Loop\n",
            "Nesteds Loop\n",
            "Nesteds Loop\n",
            "Nesteds Loop\n",
            "Nesteds Loop\n",
            "Nesteds Loop\n",
            "Nesteds Loop\n",
            "Nesteds Loop\n",
            "Nesteds Loop\n",
            "Nesteds Loop\n",
            "Nesteds Loop\n",
            "Nesteds Loop\n",
            "Nesteds Loop\n",
            "Nesteds Loop\n",
            "Nesteds Loop\n",
            "Nesteds Loop\n",
            "Nesteds Loop\n",
            "Nesteds Loop\n",
            "Nesteds Loop\n",
            "Nesteds Loop\n",
            "Nesteds Loop\n",
            "Nesteds Loop\n"
          ]
        }
      ]
    },
    {
      "cell_type": "code",
      "source": [
        "for i in range(1,100):\n",
        "  if i==50:\n",
        "    break\n",
        "  print(i)"
      ],
      "metadata": {
        "colab": {
          "base_uri": "https://localhost:8080/"
        },
        "id": "b3NJ411_0zHx",
        "outputId": "febc6495-8cc0-4944-ee03-c35d88b1f834"
      },
      "execution_count": null,
      "outputs": [
        {
          "output_type": "stream",
          "name": "stdout",
          "text": [
            "1\n",
            "2\n",
            "3\n",
            "4\n",
            "5\n",
            "6\n",
            "7\n",
            "8\n",
            "9\n",
            "10\n",
            "11\n",
            "12\n",
            "13\n",
            "14\n",
            "15\n",
            "16\n",
            "17\n",
            "18\n",
            "19\n",
            "20\n",
            "21\n",
            "22\n",
            "23\n",
            "24\n",
            "25\n",
            "26\n",
            "27\n",
            "28\n",
            "29\n",
            "30\n",
            "31\n",
            "32\n",
            "33\n",
            "34\n",
            "35\n",
            "36\n",
            "37\n",
            "38\n",
            "39\n",
            "40\n",
            "41\n",
            "42\n",
            "43\n",
            "44\n",
            "45\n",
            "46\n",
            "47\n",
            "48\n",
            "49\n"
          ]
        }
      ]
    },
    {
      "cell_type": "code",
      "source": [
        "for i in range(1,100):\n",
        "  if i==50:\n",
        "    continue\n",
        "  print(i)"
      ],
      "metadata": {
        "id": "OghYiFC-1FIK",
        "outputId": "13d8d07f-e500-446f-f46d-a181d07039a0",
        "colab": {
          "base_uri": "https://localhost:8080/"
        }
      },
      "execution_count": null,
      "outputs": [
        {
          "output_type": "stream",
          "name": "stdout",
          "text": [
            "1\n",
            "2\n",
            "3\n",
            "4\n",
            "5\n",
            "6\n",
            "7\n",
            "8\n",
            "9\n",
            "10\n",
            "11\n",
            "12\n",
            "13\n",
            "14\n",
            "15\n",
            "16\n",
            "17\n",
            "18\n",
            "19\n",
            "20\n",
            "21\n",
            "22\n",
            "23\n",
            "24\n",
            "25\n",
            "26\n",
            "27\n",
            "28\n",
            "29\n",
            "30\n",
            "31\n",
            "32\n",
            "33\n",
            "34\n",
            "35\n",
            "36\n",
            "37\n",
            "38\n",
            "39\n",
            "40\n",
            "41\n",
            "42\n",
            "43\n",
            "44\n",
            "45\n",
            "46\n",
            "47\n",
            "48\n",
            "49\n",
            "51\n",
            "52\n",
            "53\n",
            "54\n",
            "55\n",
            "56\n",
            "57\n",
            "58\n",
            "59\n",
            "60\n",
            "61\n",
            "62\n",
            "63\n",
            "64\n",
            "65\n",
            "66\n",
            "67\n",
            "68\n",
            "69\n",
            "70\n",
            "71\n",
            "72\n",
            "73\n",
            "74\n",
            "75\n",
            "76\n",
            "77\n",
            "78\n",
            "79\n",
            "80\n",
            "81\n",
            "82\n",
            "83\n",
            "84\n",
            "85\n",
            "86\n",
            "87\n",
            "88\n",
            "89\n",
            "90\n",
            "91\n",
            "92\n",
            "93\n",
            "94\n",
            "95\n",
            "96\n",
            "97\n",
            "98\n",
            "99\n"
          ]
        }
      ]
    }
  ]
}