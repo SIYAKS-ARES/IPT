{
  "nbformat": 4,
  "nbformat_minor": 0,
  "metadata": {
    "colab": {
      "provenance": []
    },
    "kernelspec": {
      "name": "python3",
      "display_name": "Python 3"
    },
    "language_info": {
      "name": "python"
    }
  },
  "cells": [
    {
      "cell_type": "code",
      "execution_count": null,
      "metadata": {
        "colab": {
          "base_uri": "https://localhost:8080/"
        },
        "id": "Of6upk2DT0mR",
        "outputId": "166902c3-e629-44d3-a7dc-a5b23c3d558e"
      },
      "outputs": [
        {
          "output_type": "stream",
          "name": "stdout",
          "text": [
            "4.25\n"
          ]
        }
      ],
      "source": [
        "print(4.5 * 1.5 - 2.5)"
      ]
    },
    {
      "cell_type": "code",
      "source": [
        "sayi=eval(input(\"Enter a value for radius: \"))\n",
        "alan=3.14*sayi*sayi\n",
        "print(alan)"
      ],
      "metadata": {
        "colab": {
          "base_uri": "https://localhost:8080/"
        },
        "id": "6XjoUVrTWzcm",
        "outputId": "0a5157cc-75e4-4441-bb9c-18ca6fe975a2"
      },
      "execution_count": null,
      "outputs": [
        {
          "output_type": "stream",
          "name": "stdout",
          "text": [
            "Enter a value for radius: 4\n",
            "50.24\n"
          ]
        }
      ]
    },
    {
      "cell_type": "code",
      "source": [
        "sayi=eval(input(\"Enter a value for radius: \"))\n",
        "if (sayi>0):\n",
        "  if (sayi<10):\n",
        "    print(\"Sayı Pozitif ve 10'dan kucuktur\")\n",
        "else:\n",
        "  print(\"Sayı Negatif\")\n",
        "print(\"İşlem tamamlandi\")"
      ],
      "metadata": {
        "colab": {
          "base_uri": "https://localhost:8080/"
        },
        "id": "nCstLcmZZy8A",
        "outputId": "c591bbf0-9c00-4219-be2a-e7f3be1bbde5"
      },
      "execution_count": null,
      "outputs": [
        {
          "output_type": "stream",
          "name": "stdout",
          "text": [
            "Enter a value for radius: 5\n",
            "Sayı Pozitif\n",
            "İşlem tamamlandi\n"
          ]
        }
      ]
    },
    {
      "cell_type": "code",
      "source": [
        "score=eval(input(\"Not değerini giriniz: \"))\n",
        "if score >= 90.0:\n",
        "  grade = 'A'\n",
        "elif score >= 80.0:\n",
        "  grade = 'B'\n",
        "elif score >= 70.0:\n",
        "  grade = 'C'\n",
        "elif score >= 60.0:\n",
        "  grade = 'D'\n",
        "else:\n",
        "  grade = 'F'\n",
        "print(grade)"
      ],
      "metadata": {
        "colab": {
          "base_uri": "https://localhost:8080/"
        },
        "id": "KfD_f8EvbBL2",
        "outputId": "fcf4963b-caf1-45a3-c95a-3d2ddad8f43a"
      },
      "execution_count": null,
      "outputs": [
        {
          "output_type": "stream",
          "name": "stdout",
          "text": [
            "Not değerini giriniz: 66\n",
            "D\n"
          ]
        }
      ]
    }
  ]
}