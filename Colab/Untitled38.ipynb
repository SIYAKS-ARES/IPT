{
  "nbformat": 4,
  "nbformat_minor": 0,
  "metadata": {
    "colab": {
      "provenance": []
    },
    "kernelspec": {
      "name": "python3",
      "display_name": "Python 3"
    },
    "language_info": {
      "name": "python"
    }
  },
  "cells": [
    {
      "cell_type": "code",
      "execution_count": null,
      "metadata": {
        "colab": {
          "base_uri": "https://localhost:8080/"
        },
        "id": "cUyVblQTy_wa",
        "outputId": "53f7c62f-ece9-4f87-81ce-4072c0416da3"
      },
      "outputs": [
        {
          "output_type": "stream",
          "name": "stdout",
          "text": [
            "Enter the day of the week: Saturday\n",
            "Saturday is a weekend.\n"
          ]
        }
      ],
      "source": [
        "day = input(\"Enter the day of the week: \").capitalize()\n",
        "\n",
        "match day:\n",
        "    case \"Saturday\" | \"Sunday\":\n",
        "        print(f\"{day} is a weekend.\")\n",
        "    case \"Monday\" | \"Tuesday\" | \"Wednesday\" | \"Thursday\" | \"Friday\":\n",
        "        print(f\"{day} is a weekday.\")\n",
        "    case _:\n",
        "        print(\"That's not a valid day of the week.\")"
      ]
    },
    {
      "cell_type": "code",
      "source": [
        "gun=input(\"Bir gun giriniz\")\n",
        "\n",
        "match gun:\n",
        "  case \"Pazartesi\" | \"Sali\" | \"Carsamba\" | \"Persembe\" | \"Cuma\":\n",
        "    print(\"Gunlerden Haftaici\")\n",
        "  case \"Cumartesi\" | \"Pazar\":\n",
        "    print(\"Gunlerden haftasonu\"),\n",
        "  case _:\n",
        "    print(\"Gecersiz gun\")"
      ],
      "metadata": {
        "colab": {
          "base_uri": "https://localhost:8080/"
        },
        "id": "VV1-5iYLzLBs",
        "outputId": "8f736276-d4c9-4c90-dc5a-94b0ac06f7ad"
      },
      "execution_count": null,
      "outputs": [
        {
          "output_type": "stream",
          "name": "stdout",
          "text": [
            "Bir gun girinizMonday\n",
            "Gecersiz gun\n"
          ]
        }
      ]
    },
    {
      "cell_type": "code",
      "source": [
        "sum = 0\n",
        "number = 0\n",
        "while number < 20:\n",
        "  number += 1\n",
        "  sum += number\n",
        "  if sum >= 100:\n",
        "    continue\n",
        "print(\"The number is\", number)\n",
        "print(\"The sum is\", sum)"
      ],
      "metadata": {
        "colab": {
          "base_uri": "https://localhost:8080/"
        },
        "id": "gIDlpO-12jHX",
        "outputId": "6355ce5b-811f-4453-c7b5-4051b88bedf3"
      },
      "execution_count": null,
      "outputs": [
        {
          "output_type": "stream",
          "name": "stdout",
          "text": [
            "The number is 20\n",
            "The sum is 210\n"
          ]
        }
      ]
    },
    {
      "cell_type": "code",
      "source": [
        "sum = 0\n",
        "number = 0\n",
        "while number < 20:\n",
        "  number += 1\n",
        "  if number == 10 or number == 11:\n",
        "    continue\n",
        "  sum += number\n",
        "print(\"The sum is\", sum)"
      ],
      "metadata": {
        "colab": {
          "base_uri": "https://localhost:8080/"
        },
        "id": "3vUcKV5h3FG2",
        "outputId": "2d6f9cd2-df3b-4062-82d4-0120edc650bc"
      },
      "execution_count": null,
      "outputs": [
        {
          "output_type": "stream",
          "name": "stdout",
          "text": [
            "The sum is 189\n"
          ]
        }
      ]
    },
    {
      "cell_type": "code",
      "source": [
        "for i in range (0,100):\n",
        "  if (i==50):\n",
        "    continue\n",
        "  print(i)"
      ],
      "metadata": {
        "colab": {
          "base_uri": "https://localhost:8080/"
        },
        "id": "l0PoxdQ05BWR",
        "outputId": "4c6f6306-791b-4b58-86a1-7cbe2f0855f2"
      },
      "execution_count": null,
      "outputs": [
        {
          "output_type": "stream",
          "name": "stdout",
          "text": [
            "0\n",
            "1\n",
            "2\n",
            "3\n",
            "4\n",
            "5\n",
            "6\n",
            "7\n",
            "8\n",
            "9\n",
            "10\n",
            "11\n",
            "12\n",
            "13\n",
            "14\n",
            "15\n",
            "16\n",
            "17\n",
            "18\n",
            "19\n",
            "20\n",
            "21\n",
            "22\n",
            "23\n",
            "24\n",
            "25\n",
            "26\n",
            "27\n",
            "28\n",
            "29\n",
            "30\n",
            "31\n",
            "32\n",
            "33\n",
            "34\n",
            "35\n",
            "36\n",
            "37\n",
            "38\n",
            "39\n",
            "40\n",
            "41\n",
            "42\n",
            "43\n",
            "44\n",
            "45\n",
            "46\n",
            "47\n",
            "48\n",
            "49\n",
            "51\n",
            "52\n",
            "53\n",
            "54\n",
            "55\n",
            "56\n",
            "57\n",
            "58\n",
            "59\n",
            "60\n",
            "61\n",
            "62\n",
            "63\n",
            "64\n",
            "65\n",
            "66\n",
            "67\n",
            "68\n",
            "69\n",
            "70\n",
            "71\n",
            "72\n",
            "73\n",
            "74\n",
            "75\n",
            "76\n",
            "77\n",
            "78\n",
            "79\n",
            "80\n",
            "81\n",
            "82\n",
            "83\n",
            "84\n",
            "85\n",
            "86\n",
            "87\n",
            "88\n",
            "89\n",
            "90\n",
            "91\n",
            "92\n",
            "93\n",
            "94\n",
            "95\n",
            "96\n",
            "97\n",
            "98\n",
            "99\n"
          ]
        }
      ]
    }
  ]
}