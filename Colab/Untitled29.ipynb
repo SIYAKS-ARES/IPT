{
  "nbformat": 4,
  "nbformat_minor": 0,
  "metadata": {
    "colab": {
      "provenance": []
    },
    "kernelspec": {
      "name": "python3",
      "display_name": "Python 3"
    },
    "language_info": {
      "name": "python"
    }
  },
  "cells": [
    {
      "cell_type": "code",
      "execution_count": null,
      "metadata": {
        "id": "IAvM8PTFjyRS"
      },
      "outputs": [],
      "source": [
        "NUMBER_OF_ELEMENTS = 5\n",
        "numbers = [] # list operator\n",
        "sum = 0\n",
        "for i in range(NUMBER_OF_ELEMENTS):\n",
        "  value = eval(input(\"Enter a new number: \"))\n",
        "  numbers.append(value)\n",
        "  sum = sum + value\n",
        "average = sum / NUMBER_OF_ELEMENTS\n",
        "count = 0\n",
        "for i in range(NUMBER_OF_ELEMENTS):\n",
        "  if numbers[i] > average: #index = 0, 1, 2, 3, 4\n",
        "    count += 1\n",
        "print(\"Average is\", average)\n",
        "print(\"Number of elements above the average is\", count)\n",
        "print(\"Lenght of list\", len(numbers))\n",
        "print(\"Min elements of list\", min(numbers))\n",
        "print(\"Min elements of list\", max(numbers))"
      ]
    },
    {
      "cell_type": "code",
      "source": [
        "list3 = list([\"red\", \"green\", \"blue\"])\n",
        "print(\"Min elements of list\", min(list3))\n",
        "print(\"Min elements of list\", max(list3))"
      ],
      "metadata": {
        "colab": {
          "base_uri": "https://localhost:8080/"
        },
        "id": "M5HBbayvvazj",
        "outputId": "00175082-2320-4221-db7a-551588ec2560"
      },
      "execution_count": null,
      "outputs": [
        {
          "output_type": "stream",
          "name": "stdout",
          "text": [
            "Min elements of list blue\n",
            "Min elements of list red\n"
          ]
        }
      ]
    },
    {
      "cell_type": "code",
      "source": [
        "list1 = [2, 3, 4, 1, 32, 4]\n",
        "list1.append(19)\n",
        "print(list1)\n",
        "print(list1.count(4))\n",
        "list2 = [99, 54]\n",
        "list1.extend(list2)\n",
        "print(list1)\n",
        "list1.index(4)\n",
        "list1.insert(1, 25)\n",
        "print(list1)"
      ],
      "metadata": {
        "colab": {
          "base_uri": "https://localhost:8080/"
        },
        "id": "pigwqEG3xonc",
        "outputId": "769b756e-09d0-4728-f3f1-d12f4de800aa"
      },
      "execution_count": null,
      "outputs": [
        {
          "output_type": "stream",
          "name": "stdout",
          "text": [
            "[2, 3, 4, 1, 32, 4, 19]\n",
            "2\n",
            "[2, 3, 4, 1, 32, 4, 19, 99, 54]\n",
            "[2, 25, 3, 4, 1, 32, 4, 19, 99, 54]\n"
          ]
        }
      ]
    },
    {
      "cell_type": "code",
      "source": [
        "list1 = [2, 25, 3, 4, 1, 32, 4, 19, 99, 54]\n",
        "list1.pop(2)\n",
        "list1.pop()\n",
        "list1.remove(32)\n",
        "list1.reverse()\n",
        "print(list1)\n",
        "list1.sort()\n",
        "print(list1)"
      ],
      "metadata": {
        "colab": {
          "base_uri": "https://localhost:8080/"
        },
        "id": "WCFOGeg7yi7I",
        "outputId": "161e7fec-3801-4723-ce74-b2b29775409e"
      },
      "execution_count": null,
      "outputs": [
        {
          "output_type": "stream",
          "name": "stdout",
          "text": [
            "[99, 19, 4, 1, 4, 25, 2]\n",
            "[1, 2, 4, 4, 19, 25, 99]\n"
          ]
        }
      ]
    },
    {
      "cell_type": "code",
      "source": [
        "items = \"Jane,John,Peter,Susan\".split(\",\")\n",
        "print(items)"
      ],
      "metadata": {
        "colab": {
          "base_uri": "https://localhost:8080/"
        },
        "id": "5uEXyXggzOhd",
        "outputId": "e3ffcf92-fe0c-46c3-b33a-91a725e92770"
      },
      "execution_count": null,
      "outputs": [
        {
          "output_type": "stream",
          "name": "stdout",
          "text": [
            "['Jane', 'John', 'Peter', 'Susan']\n"
          ]
        }
      ]
    }
  ]
}