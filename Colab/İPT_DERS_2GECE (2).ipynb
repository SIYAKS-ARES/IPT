{
  "nbformat": 4,
  "nbformat_minor": 0,
  "metadata": {
    "colab": {
      "provenance": [],
      "gpuType": "T4"
    },
    "kernelspec": {
      "name": "python3",
      "display_name": "Python 3"
    },
    "language_info": {
      "name": "python"
    },
    "accelerator": "GPU"
  },
  "cells": [
    {
      "cell_type": "code",
      "execution_count": null,
      "metadata": {
        "id": "aicVCJMhA6Ul",
        "colab": {
          "base_uri": "https://localhost:8080/"
        },
        "outputId": "ec5c1cae-6cf7-408e-e0c4-49fa1877f67e"
      },
      "outputs": [
        {
          "output_type": "stream",
          "name": "stdout",
          "text": [
            "0-10 arasindaki sayilarimn toplami =  45\n"
          ]
        }
      ],
      "source": [
        "sum=0\n",
        "sayac=0\n",
        "while sayac<10:\n",
        "  sum+=sayac\n",
        "  sayac+=1\n",
        "print(\"0-10 arasindaki sayilarin toplami = \" , str(sum))"
      ]
    },
    {
      "cell_type": "code",
      "source": [
        "ilkDeger=eval(input(\"İlk degeri giriniz : \"))\n",
        "ilkDegerSabit=ilkDeger\n",
        "ikinciDeger=eval(input(\"Ikinci degeri giriniz : \"))\n",
        "ikinciDegerSabit=ikinciDeger\n",
        "if ilkDeger<ikinciDeger:\n",
        "  sum=0\n",
        "  while ilkDeger<ikinciDeger:\n",
        "    sum+=ilkDeger\n",
        "    ilkDeger+=1\n",
        "else:\n",
        "  temp=ikinciDeger\n",
        "  ikinciDeger=ilkDeger\n",
        "  ilkDeger=temp\n",
        "  sum=0\n",
        "  while ilkDeger<ikinciDeger:\n",
        "    sum+=ilkDeger\n",
        "    ilkDeger+=1\n",
        "print(ilkDegerSabit, \" ile \", ikinciDegerSabit, \" arasindaki sayilarin toplami \", sum)"
      ],
      "metadata": {
        "id": "Q6uCm_0fBmBR",
        "colab": {
          "base_uri": "https://localhost:8080/"
        },
        "outputId": "bf795597-e172-4637-ec4c-70413b7cdeef"
      },
      "execution_count": null,
      "outputs": [
        {
          "output_type": "stream",
          "name": "stdout",
          "text": [
            "İlk degeri giriniz : 10\n",
            "Ikinci degeri giriniz : 10\n",
            "10  ile  10  arasindaki sayilarin toplami  0\n"
          ]
        }
      ]
    },
    {
      "cell_type": "code",
      "source": [
        "import random\n",
        "\n",
        "sayi1=random.randint(0,10)\n",
        "sayi2=random.randint(0,10)\n",
        "\n",
        "print(sayi1,\" - \",sayi2,\"=?\")\n",
        "result=eval(input(\"Cevabiniz = ? \"))\n",
        "\n",
        "sonuc=sayi1-sayi2\n",
        "if sonuc==result:\n",
        "  print(\"Tebrikler\")\n",
        "else:\n",
        "  print(\"Yanlis\")"
      ],
      "metadata": {
        "id": "0aVaEpQlBog0",
        "colab": {
          "base_uri": "https://localhost:8080/"
        },
        "outputId": "743704e8-f1af-4f0e-ced8-bb438d4a9e8e"
      },
      "execution_count": null,
      "outputs": [
        {
          "output_type": "stream",
          "name": "stdout",
          "text": [
            "1  -  10 =?\n",
            "Cevabiniz = ? 9\n",
            "Yanlis\n"
          ]
        }
      ]
    },
    {
      "cell_type": "code",
      "source": [
        "import random\n",
        "\n",
        "dogruSayisi=0\n",
        "soruSayisi=3\n",
        "sayac=0\n",
        "\n",
        "while sayac<soruSayisi:\n",
        "  sayi1=random.randint(0,10)\n",
        "  sayi2=random.randint(0,10)\n",
        "\n",
        "  print(sayi1,\" - \",sayi2,\"=?\")\n",
        "  result=eval(input(\"Cevabiniz = ? \"))\n",
        "\n",
        "  sonuc=sayi1-sayi2\n",
        "  if sonuc==result:\n",
        "    print(\"Tebrikler\")\n",
        "    dogruSayisi+=1\n",
        "  else:\n",
        "    print(\"Yanlis\")\n",
        "  sayac+=1\n",
        "print(dogruSayisi,\"/\",soruSayisi)"
      ],
      "metadata": {
        "colab": {
          "base_uri": "https://localhost:8080/"
        },
        "id": "vzT-6aUHHIPj",
        "outputId": "776139af-bcee-4e1b-a483-8e94176342cb"
      },
      "execution_count": null,
      "outputs": [
        {
          "output_type": "stream",
          "name": "stdout",
          "text": [
            "3  -  8 =?\n",
            "Cevabiniz = ? -5\n",
            "Tebrikler\n",
            "1  -  7 =?\n",
            "Cevabiniz = ? -6\n",
            "Tebrikler\n",
            "1  -  10 =?\n",
            "Cevabiniz = ? -9\n",
            "Tebrikler\n",
            "3 / 3\n"
          ]
        }
      ]
    },
    {
      "cell_type": "code",
      "source": [
        "for i in range(10):\n",
        "  print(i)"
      ],
      "metadata": {
        "colab": {
          "base_uri": "https://localhost:8080/"
        },
        "id": "BSZi6bL8JPVj",
        "outputId": "1690b03b-edad-4ce6-f301-8dfdd40d6265"
      },
      "execution_count": null,
      "outputs": [
        {
          "output_type": "stream",
          "name": "stdout",
          "text": [
            "0\n",
            "1\n",
            "2\n",
            "3\n",
            "4\n",
            "5\n",
            "6\n",
            "7\n",
            "8\n",
            "9\n"
          ]
        }
      ]
    },
    {
      "cell_type": "code",
      "source": [
        "for i in range(1,6):\n",
        "  for j in range(1,6):\n",
        "    print(\"Nested Loops\")"
      ],
      "metadata": {
        "colab": {
          "base_uri": "https://localhost:8080/"
        },
        "id": "GTaM_I7bJoxl",
        "outputId": "fd93fa77-b730-4ba7-abb0-4639499d214c"
      },
      "execution_count": null,
      "outputs": [
        {
          "output_type": "stream",
          "name": "stdout",
          "text": [
            "Nested Loops\n",
            "Nested Loops\n",
            "Nested Loops\n",
            "Nested Loops\n",
            "Nested Loops\n",
            "Nested Loops\n",
            "Nested Loops\n",
            "Nested Loops\n",
            "Nested Loops\n",
            "Nested Loops\n",
            "Nested Loops\n",
            "Nested Loops\n",
            "Nested Loops\n",
            "Nested Loops\n",
            "Nested Loops\n",
            "Nested Loops\n",
            "Nested Loops\n",
            "Nested Loops\n",
            "Nested Loops\n",
            "Nested Loops\n",
            "Nested Loops\n",
            "Nested Loops\n",
            "Nested Loops\n",
            "Nested Loops\n",
            "Nested Loops\n"
          ]
        }
      ]
    },
    {
      "cell_type": "code",
      "source": [
        "for i in range(1, 5):\n",
        "  j = 0\n",
        "  while j < i:\n",
        "    print(j, end=\" \")\n",
        "    j += 1\n",
        "  print()"
      ],
      "metadata": {
        "colab": {
          "base_uri": "https://localhost:8080/"
        },
        "id": "pdamYzr3KnHo",
        "outputId": "8f73a7bf-1c27-4dd8-a78c-8c35a820c2dc"
      },
      "execution_count": null,
      "outputs": [
        {
          "output_type": "stream",
          "name": "stdout",
          "text": [
            "0 \n",
            "0 1 \n",
            "0 1 2 \n",
            "0 1 2 3 \n"
          ]
        }
      ]
    },
    {
      "cell_type": "code",
      "source": [
        "for i in range(0,10,0.1):\n",
        "  print(i)"
      ],
      "metadata": {
        "colab": {
          "base_uri": "https://localhost:8080/"
        },
        "id": "HGlaTUHJK9zu",
        "outputId": "4ddc98f7-673b-4334-88d8-b259acd047b0"
      },
      "execution_count": null,
      "outputs": [
        {
          "output_type": "stream",
          "name": "stdout",
          "text": [
            "0\n",
            "1\n",
            "2\n",
            "3\n",
            "4\n",
            "5\n",
            "6\n",
            "7\n",
            "8\n",
            "9\n"
          ]
        }
      ]
    },
    {
      "cell_type": "code",
      "source": [
        "for i in range(0,100):\n",
        "  if i==50:\n",
        "    break\n",
        "  print(i)"
      ],
      "metadata": {
        "colab": {
          "base_uri": "https://localhost:8080/"
        },
        "id": "leDeg0S7LeSi",
        "outputId": "8e7ae474-0b78-4e3e-d9b4-1a6384fea504"
      },
      "execution_count": null,
      "outputs": [
        {
          "output_type": "stream",
          "name": "stdout",
          "text": [
            "0\n",
            "1\n",
            "2\n",
            "3\n",
            "4\n",
            "5\n",
            "6\n",
            "7\n",
            "8\n",
            "9\n",
            "10\n",
            "11\n",
            "12\n",
            "13\n",
            "14\n",
            "15\n",
            "16\n",
            "17\n",
            "18\n",
            "19\n",
            "20\n",
            "21\n",
            "22\n",
            "23\n",
            "24\n",
            "25\n",
            "26\n",
            "27\n",
            "28\n",
            "29\n",
            "30\n",
            "31\n",
            "32\n",
            "33\n",
            "34\n",
            "35\n",
            "36\n",
            "37\n",
            "38\n",
            "39\n",
            "40\n",
            "41\n",
            "42\n",
            "43\n",
            "44\n",
            "45\n",
            "46\n",
            "47\n",
            "48\n",
            "49\n"
          ]
        }
      ]
    },
    {
      "cell_type": "code",
      "source": [
        "for i in range(0,100):\n",
        "  if i==50:\n",
        "    continue\n",
        "  print(i)"
      ],
      "metadata": {
        "id": "CodylqJHLtWs",
        "outputId": "67069579-2dab-4946-cedc-17873cf71d32",
        "colab": {
          "base_uri": "https://localhost:8080/"
        }
      },
      "execution_count": null,
      "outputs": [
        {
          "output_type": "stream",
          "name": "stdout",
          "text": [
            "0\n",
            "1\n",
            "2\n",
            "3\n",
            "4\n",
            "5\n",
            "6\n",
            "7\n",
            "8\n",
            "9\n",
            "10\n",
            "11\n",
            "12\n",
            "13\n",
            "14\n",
            "15\n",
            "16\n",
            "17\n",
            "18\n",
            "19\n",
            "20\n",
            "21\n",
            "22\n",
            "23\n",
            "24\n",
            "25\n",
            "26\n",
            "27\n",
            "28\n",
            "29\n",
            "30\n",
            "31\n",
            "32\n",
            "33\n",
            "34\n",
            "35\n",
            "36\n",
            "37\n",
            "38\n",
            "39\n",
            "40\n",
            "41\n",
            "42\n",
            "43\n",
            "44\n",
            "45\n",
            "46\n",
            "47\n",
            "48\n",
            "49\n",
            "51\n",
            "52\n",
            "53\n",
            "54\n",
            "55\n",
            "56\n",
            "57\n",
            "58\n",
            "59\n",
            "60\n",
            "61\n",
            "62\n",
            "63\n",
            "64\n",
            "65\n",
            "66\n",
            "67\n",
            "68\n",
            "69\n",
            "70\n",
            "71\n",
            "72\n",
            "73\n",
            "74\n",
            "75\n",
            "76\n",
            "77\n",
            "78\n",
            "79\n",
            "80\n",
            "81\n",
            "82\n",
            "83\n",
            "84\n",
            "85\n",
            "86\n",
            "87\n",
            "88\n",
            "89\n",
            "90\n",
            "91\n",
            "92\n",
            "93\n",
            "94\n",
            "95\n",
            "96\n",
            "97\n",
            "98\n",
            "99\n"
          ]
        }
      ]
    }
  ]
}