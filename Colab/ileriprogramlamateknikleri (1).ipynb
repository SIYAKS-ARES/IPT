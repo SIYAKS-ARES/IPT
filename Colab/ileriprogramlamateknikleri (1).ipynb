{
  "nbformat": 4,
  "nbformat_minor": 0,
  "metadata": {
    "colab": {
      "provenance": []
    },
    "kernelspec": {
      "name": "python3",
      "display_name": "Python 3"
    },
    "language_info": {
      "name": "python"
    }
  },
  "cells": [
    {
      "cell_type": "code",
      "execution_count": null,
      "metadata": {
        "colab": {
          "base_uri": "https://localhost:8080/"
        },
        "id": "EHqp84pkm8fP",
        "outputId": "425a41c3-e419-4622-dcbc-156a4770085c"
      },
      "outputs": [
        {
          "output_type": "stream",
          "name": "stdout",
          "text": [
            "Türkçe kontrol\n"
          ]
        }
      ],
      "source": [
        "sonuc=4.5 * 5 - 2- 6\n",
        "print(\"Türkçe kontrol\")"
      ]
    },
    {
      "cell_type": "code",
      "source": [
        "deger=eval(input(\"Lutfen bir sayi giriniz\"))\n",
        "alan=3.14*deger*deger\n",
        "print(\"Dairenin yaricapi : \" , deger ,\"  Alan : \" , alan)\n",
        "#print(\"Alan : \" , alan)"
      ],
      "metadata": {
        "colab": {
          "base_uri": "https://localhost:8080/"
        },
        "id": "1LninlxGq8u2",
        "outputId": "9a757a61-7015-4ad3-b72b-976f0ac1837e"
      },
      "execution_count": null,
      "outputs": [
        {
          "output_type": "stream",
          "name": "stdout",
          "text": [
            "Lutfen bir sayi giriniz3\n",
            "Dairenin yaricapi :  3   Alan :  28.259999999999998\n"
          ]
        }
      ]
    },
    {
      "cell_type": "code",
      "source": [
        "taban = eval(input(\"Taban degerini giriniz : \"))\n",
        "us=eval(input(\"\\\"Us degerini giriniz \"))\n",
        "print(taban , \"^\" , us, \"= \", (taban**us))"
      ],
      "metadata": {
        "colab": {
          "base_uri": "https://localhost:8080/"
        },
        "id": "3u44vytAtyP1",
        "outputId": "8c4c2a6e-c38d-4645-b404-efb612022c36"
      },
      "execution_count": null,
      "outputs": [
        {
          "output_type": "stream",
          "name": "stdout",
          "text": [
            "Taban degerini giriniz : 3\n",
            "\"Us degerini giriniz 4\n",
            "3 ^ 4 =  81\n"
          ]
        }
      ]
    },
    {
      "cell_type": "code",
      "source": [
        "print(3 + 4 * 4 + 5 * (4 + 3) - 1)"
      ],
      "metadata": {
        "colab": {
          "base_uri": "https://localhost:8080/"
        },
        "id": "IR9MQxd5ufjt",
        "outputId": "560cfe8b-37c4-4725-e84b-63269b7c32db"
      },
      "execution_count": null,
      "outputs": [
        {
          "output_type": "stream",
          "name": "stdout",
          "text": [
            "53\n"
          ]
        }
      ]
    },
    {
      "cell_type": "code",
      "source": [
        "sayi=eval(input(\"Bir sayi giriniz : \"))\n",
        "if(sayi%2==0):\n",
        "  if (sayi < 100):\n",
        "    print(\"Sayi cifttir ve 100'den kucuktur\")\n",
        "print(\"İslem Tamamlandi\")"
      ],
      "metadata": {
        "colab": {
          "base_uri": "https://localhost:8080/"
        },
        "id": "s-CmPugHw_EY",
        "outputId": "af05c008-e3a2-4a84-8b5a-2034619e9da3"
      },
      "execution_count": null,
      "outputs": [
        {
          "output_type": "stream",
          "name": "stdout",
          "text": [
            "Bir sayi giriniz : 50\n",
            "Sayi cifttir ve 100'den kucuktur\n",
            "İslem Tamamlandi\n"
          ]
        }
      ]
    },
    {
      "cell_type": "code",
      "source": [
        "sayi=eval(input(\"Bir sayi giriniz : \"))\n",
        "if(sayi%2==0):\n",
        "  print(\"Sayi cifttir ve 100'den kucuktur\")\n",
        "else:\n",
        "  print('Sayi tektir')\n",
        "print(\"İşlem tamamlandi\")"
      ],
      "metadata": {
        "colab": {
          "base_uri": "https://localhost:8080/"
        },
        "id": "EeDORLSlxkpW",
        "outputId": "7d2e0ae5-4eb9-43a8-9b82-545779db95de"
      },
      "execution_count": 1,
      "outputs": [
        {
          "output_type": "stream",
          "name": "stdout",
          "text": [
            "Bir sayi giriniz : 5\n",
            "Sayi tektir\n",
            "İşlem tamamlandi\n"
          ]
        }
      ]
    },
    {
      "cell_type": "code",
      "source": [
        "score=eval(input('Not giriniz : '))\n",
        "if score >= 90.0:\n",
        "  grade = 'A'\n",
        "elif score >= 80.0:\n",
        "  grade = 'B'\n",
        "elif score >= 70.0:\n",
        "  grade = 'C'\n",
        "elif score >= 60.0:\n",
        "  grade = 'D'\n",
        "else:\n",
        "  grade = 'F'\n",
        "print(grade)"
      ],
      "metadata": {
        "colab": {
          "base_uri": "https://localhost:8080/"
        },
        "id": "4SMcHKUFzLCd",
        "outputId": "5f351ca5-9dea-46da-9e5b-4b824999b0be"
      },
      "execution_count": null,
      "outputs": [
        {
          "output_type": "stream",
          "name": "stdout",
          "text": [
            "Not giriniz : 234\n",
            "A\n"
          ]
        }
      ]
    },
    {
      "cell_type": "code",
      "source": [],
      "metadata": {
        "id": "hiQ6QhNJ0ws1"
      },
      "execution_count": null,
      "outputs": []
    }
  ]
}