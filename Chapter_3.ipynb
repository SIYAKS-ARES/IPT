{
  "nbformat": 4,
  "nbformat_minor": 0,
  "metadata": {
    "colab": {
      "provenance": []
    },
    "kernelspec": {
      "name": "python3",
      "display_name": "Python 3"
    },
    "language_info": {
      "name": "python"
    }
  },
  "cells": [
    {
      "cell_type": "code",
      "execution_count": null,
      "metadata": {
        "id": "iUzWMsq4Ukav"
      },
      "outputs": [],
      "source": [
        "#1\n",
        "# Kullanıcıdan bir beşgenin merkezinden bir köşeye olan uzunluğu alarak beşgenin alanını hesaplayan program\n",
        "\n",
        "import math\n",
        "\n",
        "# Kullanıcıdan giriş al\n",
        "uzunluk = float(input(\"Bir beşgenin merkezinden bir köşeye olan uzunluğu girin: \"))\n",
        "\n",
        "# Beşgenin alanını hesapla\n",
        "alan = (5 * uzunluk**2) / (4 * math.tan(math.pi / 5))\n",
        "\n",
        "# Sonucu ekrana yazdır\n",
        "print(\"Beşgenin alanı:\", alan)\n"
      ]
    },
    {
      "cell_type": "code",
      "source": [
        "#2\n",
        "import math\n",
        "\n",
        "# Dünya'nın ortalama yarıçapı (km)\n",
        "yaricap = 6371.01\n",
        "\n",
        "# Kullanıcıdan birinci noktanın enlem ve boylamını al\n",
        "x1 = math.radians(float(input(\"Birinci noktanın enlemini girin (kuzey için pozitif, güney için negatif): \")))\n",
        "y1 = math.radians(float(input(\"Birinci noktanın boylamını girin (batı için negatif, doğu için pozitif): \")))\n",
        "\n",
        "# Kullanıcıdan ikinci noktanın enlem ve boylamını al\n",
        "x2 = math.radians(float(input(\"İkinci noktanın enlemini girin (kuzey için pozitif, güney için negatif): \")))\n",
        "y2 = math.radians(float(input(\"İkinci noktanın boylamını girin (batı için negatif, doğu için pozitif): \")))\n",
        "\n",
        "# Büyük daire mesafesini hesapla\n",
        "d = yaricap * math.acos(math.sin(x1) * math.sin(x2) + math.cos(x1) * math.cos(x2) * math.cos(y1 - y2))\n",
        "\n",
        "# Sonucu ekrana yazdır\n",
        "print(\"Büyük daire mesafesi:\", d, \"km\")\n"
      ],
      "metadata": {
        "id": "wMa-9otHUpGh"
      },
      "execution_count": null,
      "outputs": []
    },
    {
      "cell_type": "code",
      "source": [
        "#3\n",
        "import math\n",
        "\n",
        "# GPS koordinatları (enlem, boylam) olarak\n",
        "atlanta = (33.7490, -84.3880)\n",
        "orlando = (28.5383, -81.3792)\n",
        "savannah = (32.0809, -81.0912)\n",
        "charlotte = (35.2271, -80.8431)\n",
        "\n",
        "# Her bir dereceyi radyana çevirmek için dönüşüm faktörü\n",
        "to_radians = math.pi / 180.0\n",
        "\n",
        "# Her şehrin koordinatlarını radyan cinsine dönüştür\n",
        "atlanta_lat = atlanta[0] * to_radians\n",
        "atlanta_lon = atlanta[1] * to_radians\n",
        "\n",
        "orlando_lat = orlando[0] * to_radians\n",
        "orlando_lon = orlando[1] * to_radians\n",
        "\n",
        "savannah_lat = savannah[0] * to_radians\n",
        "savannah_lon = savannah[1] * to_radians\n",
        "\n",
        "charlotte_lat = charlotte[0] * to_radians\n",
        "charlotte_lon = charlotte[1] * to_radians\n",
        "\n",
        "# Her iki şehir arasındaki açısal mesafeyi hesapla\n",
        "def angular_distance(lat1, lon1, lat2, lon2):\n",
        "    delta_lat = lat2 - lat1\n",
        "    delta_lon = lon2 - lon1\n",
        "    a = math.sin(delta_lat / 2)**2 + math.cos(lat1) * math.cos(lat2) * math.sin(delta_lon / 2)**2\n",
        "    c = 2 * math.atan2(math.sqrt(a), math.sqrt(1 - a))\n",
        "    return c\n",
        "\n",
        "# Atlanta - Orlando - Savannah üçgeni\n",
        "a1 = angular_distance(atlanta_lat, atlanta_lon, orlando_lat, orlando_lon)\n",
        "a2 = angular_distance(orlando_lat, orlando_lon, savannah_lat, savannah_lon)\n",
        "a3 = angular_distance(savannah_lat, savannah_lon, atlanta_lat, atlanta_lon)\n",
        "\n",
        "# Charlotte - Savannah - Orlando üçgeni\n",
        "b1 = angular_distance(charlotte_lat, charlotte_lon, savannah_lat, savannah_lon)\n",
        "b2 = angular_distance(savannah_lat, savannah_lon, orlando_lat, orlando_lon)\n",
        "b3 = angular_distance(orlando_lat, orlando_lon, charlotte_lat, charlotte_lon)\n",
        "\n",
        "# Her üçgenin alanını hesapla\n",
        "def triangle_area(a, b, c):\n",
        "    s = (a + b + c) / 2\n",
        "    return math.sqrt(s * (s - a) * (s - b) * (s - c))\n",
        "\n",
        "area_triangle1 = triangle_area(a1, a2, a3)\n",
        "area_triangle2 = triangle_area(b1, b2, b3)\n",
        "\n",
        "# Toplam alanı hesapla\n",
        "total_area = area_triangle1 + area_triangle2\n",
        "\n",
        "print(\"Dörtgenin alanı:\", total_area, \"km^2\")\n"
      ],
      "metadata": {
        "id": "vpz4O0hsUpC8"
      },
      "execution_count": null,
      "outputs": []
    },
    {
      "cell_type": "code",
      "source": [
        "#4\n",
        "import math\n",
        "\n",
        "# Kullanıcıdan beşgenin bir kenar uzunluğunu al\n",
        "kenar_uzunlugu = float(input(\"Bir beşgenin bir kenar uzunluğunu girin: \"))\n",
        "\n",
        "# Beşgenin alanını hesapla\n",
        "alan = (5 * kenar_uzunlugu ** 2) / (4 * math.tan(math.pi / 5))\n",
        "\n",
        "# Sonucu ekrana yazdır\n",
        "print(\"Beşgenin alanı:\", alan)\n"
      ],
      "metadata": {
        "id": "Erctq5vvUpAM"
      },
      "execution_count": null,
      "outputs": []
    },
    {
      "cell_type": "code",
      "source": [
        "#6\n",
        "# Kullanıcıdan bir ASCII kodu al\n",
        "ascii_kodu = int(input(\"Bir ASCII kodu girin (0 ile 127 arasında bir tamsayı): \"))\n",
        "\n",
        "# ASCII kodunu karaktere çevir\n",
        "karakter = chr(ascii_kodu)\n",
        "\n",
        "# Sonucu ekrana yazdır\n",
        "print(\"ASCII kodu\", ascii_kodu, \"olan karakter:\", karakter)\n"
      ],
      "metadata": {
        "id": "sWMUezwKUo6n"
      },
      "execution_count": null,
      "outputs": []
    },
    {
      "cell_type": "code",
      "source": [
        "#7\n",
        "import random\n",
        "import time\n",
        "\n",
        "# Zamanı kullanarak rastgele bir harf üret\n",
        "random.seed(time.time())\n",
        "random_harf = chr(random.randint(65, 90))  # ASCII kodları arasında rastgele bir sayı seç ve onu harfe dönüştür\n",
        "\n",
        "# Sonucu ekrana yazdır\n",
        "print(\"Rastgele büyük harf:\", random_harf)\n"
      ],
      "metadata": {
        "id": "ixS32LvUUo3v"
      },
      "execution_count": null,
      "outputs": []
    },
    {
      "cell_type": "code",
      "source": [
        "#8\n",
        "# Kullanıcıdan bir tamsayı olarak toplam kuruş miktarını al\n",
        "total_cents = int(input(\"Toplam kuruş miktarını girin (örneğin, 1156 11 dolar ve 56 senti temsil eder): \"))\n",
        "\n",
        "# Dolar ve kuruş miktarını hesapla\n",
        "dollars = total_cents // 100\n",
        "cents = total_cents % 100\n",
        "\n",
        "# Sonucu ekrana yazdır\n",
        "print(\"Toplam dolar ve kuruş miktarı:\", dollars, \"dolar\", cents, \"sent\")\n"
      ],
      "metadata": {
        "id": "lM6-sPAaUo08"
      },
      "execution_count": null,
      "outputs": []
    },
    {
      "cell_type": "code",
      "source": [
        "#9\n",
        "# Kullanıcıdan çalışanın bilgilerini al\n",
        "employee_name = input(\"Çalışanın adını girin: \")\n",
        "hours_worked = float(input(\"Haftada kaç saat çalıştı: \"))\n",
        "hourly_pay_rate = float(input(\"Saatlik ücreti nedir: \"))\n",
        "federal_tax_rate = float(input(\"Federal vergi kesinti oranı (%): \"))\n",
        "state_tax_rate = float(input(\"Eyalet vergi kesinti oranı (%): \"))\n",
        "\n",
        "# Brüt ücreti hesapla\n",
        "gross_pay = hours_worked * hourly_pay_rate\n",
        "\n",
        "# Federal vergi kesintisini hesapla\n",
        "federal_tax_withholding = gross_pay * (federal_tax_rate / 100)\n",
        "\n",
        "# Eyalet vergi kesintisini hesapla\n",
        "state_tax_withholding = gross_pay * (state_tax_rate / 100)\n",
        "\n",
        "# Toplam kesintiyi hesapla\n",
        "total_deductions = federal_tax_withholding + state_tax_withholding\n",
        "\n",
        "# Net ücreti hesapla\n",
        "net_pay = gross_pay - total_deductions\n",
        "\n",
        "# Sonucu ekrana yazdır\n",
        "print(\"\\nMaaş Bordrosu\")\n",
        "print(\"Çalışanın adı:\", employee_name)\n",
        "print(\"Haftalık çalışma saati:\", hours_worked)\n",
        "print(\"Saatlik ücret:\", hourly_pay_rate, \"TL\")\n",
        "print(\"Brüt ücret:\", format(gross_pay, \".2f\"), \"TL\")\n",
        "print(\"Federal vergi kesintisi (%\" + str(federal_tax_rate) + \"):\", format(federal_tax_withholding, \".2f\"), \"TL\")\n",
        "print(\"Eyalet vergi kesintisi (%\" + str(state_tax_rate) + \"):\", format(state_tax_withholding, \".2f\"), \"TL\")\n",
        "print(\"Toplam kesinti:\", format(total_deductions, \".2f\"), \"TL\")\n",
        "print(\"Net ücret:\", format(net_pay, \".2f\"), \"TL\")\n"
      ],
      "metadata": {
        "id": "Wtcc8ePUUoyI"
      },
      "execution_count": null,
      "outputs": []
    }
  ]
}