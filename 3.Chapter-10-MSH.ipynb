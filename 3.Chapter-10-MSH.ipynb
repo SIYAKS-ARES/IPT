{
 "cells": [
  {
   "cell_type": "markdown",
   "metadata": {},
   "source": [
    "# Yorum satırlarının ve kod içi yazımların İngilizce olması doğru kod yazımında alıştırma olması için eklenmiştir."
   ]
  },
  {
   "cell_type": "code",
   "execution_count": 16,
   "metadata": {},
   "outputs": [
    {
     "name": "stdout",
     "output_type": "stream",
     "text": [
      "Student 0 score is 86 and grade is A\n",
      "Student 1 score is 43 and grade is F\n",
      "Student 2 score is 57 and grade is C\n",
      "Student 3 score is 71 and grade is B\n"
     ]
    }
   ],
   "source": [
    "# 10.1\n",
    "\n",
    "def assignGrades(scores):\n",
    "    best = max(scores) # First we assign the best score.\n",
    "    grades = []\n",
    "    for score in scores: # Then we scan all the scores again and grade them.\n",
    "        if score >= best - 10:\n",
    "            grades.append('A')\n",
    "            # The .append() function is used for adding an item to the end of an existing list.\n",
    "        elif score >= best - 20:\n",
    "            grades.append('B')\n",
    "        elif score >= best - 30:\n",
    "            grades.append('C')\n",
    "        elif score >= best - 40:\n",
    "            grades.append('D')\n",
    "        else:\n",
    "            grades.append('F')\n",
    "    return grades # The return key is a structure used when writing functions with parameters.\n",
    "\n",
    "scores = [86, 43, 57, 71]\n",
    "grades = assignGrades(scores)\n",
    "for i, grade in enumerate(grades):\n",
    "    '''\n",
    "    The enumerate() function is a powerful tool, we used this tool for repeating a\n",
    "    collection (list, bunch or string) while keeping track of the index of each item. \n",
    "    '''\n",
    "    print(f'Student {i} score is {scores[i]} and grade is {grade}')"
   ]
  },
  {
   "cell_type": "code",
   "execution_count": 17,
   "metadata": {},
   "outputs": [
    {
     "name": "stdout",
     "output_type": "stream",
     "text": [
      "9 is at index 0\n",
      "8 is at index 1\n",
      "7 is at index 2\n",
      "6 is at index 3\n",
      "5 is at index 4\n",
      "4 is at index 5\n",
      "3 is at index 6\n",
      "2 is at index 7\n",
      "1 is at index 8\n"
     ]
    }
   ],
   "source": [
    "# 10.2 \n",
    "'''\n",
    "I tried to do it in a long way, but when I did some research, I saw it was a special method used for reverse a list.\n",
    "In ths problem we used the same powerful tool; enumarate(), thus the code is short and clear.\n",
    "'''\n",
    "\n",
    "def readIntegerList(numbers):\n",
    "    for i, num in enumerate(reversed(numbers)):\n",
    "        print(f\"{num} is at index {i}\")\n",
    "\n",
    "myList = [1, 2, 3, 4, 5, 6, 7, 8, 9]\n",
    "readIntegerList(myList)"
   ]
  },
  {
   "cell_type": "code",
   "execution_count": null,
   "metadata": {},
   "outputs": [],
   "source": []
  }
 ],
 "metadata": {
  "kernelspec": {
   "display_name": "Python 3",
   "language": "python",
   "name": "python3"
  },
  "language_info": {
   "codemirror_mode": {
    "name": "ipython",
    "version": 3
   },
   "file_extension": ".py",
   "mimetype": "text/x-python",
   "name": "python",
   "nbconvert_exporter": "python",
   "pygments_lexer": "ipython3",
   "version": "3.12.2"
  }
 },
 "nbformat": 4,
 "nbformat_minor": 2
}
