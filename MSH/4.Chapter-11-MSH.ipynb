{
 "cells": [
  {
   "cell_type": "code",
   "execution_count": 5,
   "metadata": {},
   "outputs": [
    {
     "name": "stdout",
     "output_type": "stream",
     "text": [
      "Enter a 3x4 matrix row by row:\n",
      "Sum of the elements at column 0 is 15\n",
      "Sum of the elements at column 1 is 18\n",
      "Sum of the elements at column 2 is 21\n",
      "Sum of the elements at column 3 is 24\n",
      "[[1, 2, 3, 4], [5, 6, 7, 8], [9, 10, 11, 12]]\n",
      "3\n"
     ]
    }
   ],
   "source": [
    "# 11.01\n",
    "\n",
    "'''(Sum elements column by column) Write a function that returns the sum of all the elements\n",
    "in a specified column in a matrix using the following header:\n",
    "def sumColumn(m, columnIndex):\n",
    "Write a test program that reads a 3 * 4 matrix and displays the sum of each column.'''\n",
    "\n",
    "def sumColumn(m, columnIndex): # 'm' a matrix represented as a list of lists. 'columnIndex' is the index of the column.\n",
    "    total = 0\n",
    "    for row in range(len(m)):\n",
    "        total += m[row][columnIndex]\n",
    "    return total\n",
    "\n",
    "def main(): # 'main' a function that calls the function'sumColumn' to display the sum of each column.\n",
    "    m = []\n",
    "    print(\"Enter a 3x4 matrix row by row:\")\n",
    "    for i in range(3):\n",
    "        row = input(f\"Enter row {i + 1}: \").split()\n",
    "        row = [int(x) for x in row]\n",
    "        m.append(row)\n",
    "    for columnIndex in range(4):\n",
    "        print(f\"Sum of the elements at column {columnIndex} is {sumColumn(m, columnIndex)}\")\n",
    "    # print(m)\n",
    "    # print(len(m))\n",
    "\n",
    "main()"
   ]
  },
  {
   "cell_type": "code",
   "execution_count": 4,
   "metadata": {},
   "outputs": [
    {
     "name": "stdout",
     "output_type": "stream",
     "text": [
      "Enter a 4x4 matrix row by row:\n",
      "34\n",
      "[[1, 2, 3, 4], [5, 6, 7, 8], [9, 10, 11, 12], [13, 14, 15, 16]]\n"
     ]
    }
   ],
   "source": [
    "# 11.02\n",
    "\n",
    "'''(Sum the major diagonal in a matrix) Write a function that sums all the numbers of the major\n",
    "diagonal in an n * n matrix of integersusing the following header:\n",
    "def sumMajorDiagonal(m):\n",
    "The major diagonal is the diagonal that runs from the top left corner to the bottom right corner\n",
    "in the square matrix. Write a test program that reads a 4 * 4 matrix and displays the sum of all its elements on the major diagonal.'''\n",
    "\n",
    "def sumMajorDiagonal(m):\n",
    "    total = 0\n",
    "    for i in range(len(m)):\n",
    "        total += m[i][i] # (0,0),(1,1),(2,2),(3,3)\n",
    "    return total\n",
    "\n",
    "def main():\n",
    "    m = []\n",
    "    print(\"Enter a 4x4 matrix row by row:\")\n",
    "    for i in range(4):\n",
    "        row = input(f\"Enter row {i + 1}: \").split()\n",
    "        row = [int(x) for x in row]\n",
    "        m.append(row)\n",
    "    print(sumMajorDiagonal(m))\n",
    "    print(m)\n",
    "    # print(len(m))\n",
    "\n",
    "main()"
   ]
  },
  {
   "cell_type": "code",
   "execution_count": null,
   "metadata": {},
   "outputs": [],
   "source": [
    "'''def isSorted(lst):\n",
    "    # Check if the list is sorted in increasing order\n",
    "    return all(lst[i] <= lst[i+1] for i in range(len(lst)-1))\n",
    "\n",
    "def sortByGrades(lst):\n",
    "    lst.sort(key=lambda x: x[1])\n",
    "    return lst\n",
    "\n",
    "\n",
    "\n",
    "def main():\n",
    "    # Students' answers to the questions\n",
    "    answers = [\n",
    "        ['A', 'B', 'A', 'C', 'C', 'D', 'E', 'E', 'A', 'D'],\n",
    "        ['D', 'B', 'A', 'B', 'C', 'A', 'E', 'E', 'A', 'D'],\n",
    "        ['E', 'D', 'D', 'A', 'C', 'B', 'E', 'E', 'A', 'D'],\n",
    "        ['C', 'B', 'A', 'E', 'D', 'C', 'E', 'E', 'A', 'D'],\n",
    "        ['A', 'B', 'D', 'C', 'C', 'D', 'E', 'E', 'A', 'D'],\n",
    "        ['B', 'B', 'E', 'C', 'C', 'D', 'E', 'E', 'A', 'D'],\n",
    "        ['B', 'B', 'A', 'C', 'C', 'D', 'E', 'E', 'A', 'D'],\n",
    "        ['E', 'B', 'E', 'C', 'C', 'D', 'E', 'E', 'A', 'D']\n",
    "    ]\n",
    "\n",
    "    keys = ['D', 'B', 'D', 'C', 'C', 'D', 'A', 'E', 'A', 'D']\n",
    "    results = []\n",
    "\n",
    "    for i in range(len(answers)):\n",
    "        correctCount = 0\n",
    "        for j in range(len(answers[i])):\n",
    "            if answers[i][j] == keys[j]:\n",
    "                correctCount += 1\n",
    "        results.append((i, correctCount))\n",
    "    results.sort(key=lambda x: x[1])\n",
    "\n",
    "    ''if (isSorted(results) == False):\n",
    "        sorted_results = list(sortByGrades(results))\n",
    "    for result in sorted_results:\n",
    "            print(\"Student\", result[0], \"'s correct count is\", result[1])''\n",
    "main()'''"
   ]
  },
  {
   "cell_type": "code",
   "execution_count": 13,
   "metadata": {},
   "outputs": [
    {
     "name": "stdout",
     "output_type": "stream",
     "text": [
      "Student 3 's correct count is 4\n",
      "Student 2 's correct count is 5\n",
      "Student 1 's correct count is 6\n",
      "Student 0 's correct count is 7\n",
      "Student 5 's correct count is 7\n",
      "Student 6 's correct count is 7\n",
      "Student 7 's correct count is 7\n",
      "Student 4 's correct count is 8\n"
     ]
    }
   ],
   "source": [
    "# 11.03\n",
    "\n",
    "'''(Sort students by grades) Rewrite Listing 11.2, GradeExam.py, to display the stu- dents in increasing order of the number of correct answers.'''\n",
    "\n",
    "def isSorted(lst):\n",
    "    # Check if the list is sorted in increasing order\n",
    "    return all(lst[i] <= lst[i+1] for i in range(len(lst)-1))\n",
    "\n",
    "def main():\n",
    "    # Students' answers to the questions\n",
    "    answers = [\n",
    "        ['A', 'B', 'A', 'C', 'C', 'D', 'E', 'E', 'A', 'D'],\n",
    "        ['D', 'B', 'A', 'B', 'C', 'A', 'E', 'E', 'A', 'D'],\n",
    "        ['E', 'D', 'D', 'A', 'C', 'B', 'E', 'E', 'A', 'D'],\n",
    "        ['C', 'B', 'A', 'E', 'D', 'C', 'E', 'E', 'A', 'D'],\n",
    "        ['A', 'B', 'D', 'C', 'C', 'D', 'E', 'E', 'A', 'D'],\n",
    "        ['B', 'B', 'E', 'C', 'C', 'D', 'E', 'E', 'A', 'D'],\n",
    "        ['B', 'B', 'A', 'C', 'C', 'D', 'E', 'E', 'A', 'D'],\n",
    "        ['E', 'B', 'E', 'C', 'C', 'D', 'E', 'E', 'A', 'D']\n",
    "    ]\n",
    "\n",
    "    keys = ['D', 'B', 'D', 'C', 'C', 'D', 'A', 'E', 'A', 'D']\n",
    "    results = []\n",
    "\n",
    "    for i in range(len(answers)):\n",
    "        correctCount = 0\n",
    "        for j in range(len(answers[i])):\n",
    "            if answers[i][j] == keys[j]:\n",
    "                correctCount += 1\n",
    "        results.append((i, correctCount))\n",
    "    results.sort(key=lambda x: x[1])\n",
    "\n",
    "    for result in results:\n",
    "        print(\"Student\", result[0], \"'s correct count is\", result[1])\n",
    "\n",
    "main()\n"
   ]
  },
  {
   "cell_type": "code",
   "execution_count": 70,
   "metadata": {},
   "outputs": [
    {
     "name": "stdout",
     "output_type": "stream",
     "text": [
      "Employees and their total hours:\n",
      "Employee 5: 45 hours\n",
      "Employee 7: 43 hours\n",
      "Employee 8: 43 hours\n",
      "Employee 1: 41 hours\n",
      "Employee 3: 41 hours\n",
      "Employee 6: 41 hours\n",
      "Employee 2: 39 hours\n",
      "Employee 4: 39 hours\n"
     ]
    }
   ],
   "source": [
    "# 11.04\n",
    "\n",
    "'''(Compute the weekly hours for each employee) Suppose the weekly hours for all employees are stored in a table.\n",
    "Each row records an employee’s seven-day work hours with seven columns. For example, the following table stores the work hours for eight employees.\n",
    "Write a program that displays employees and their total hours in decreasing order of the total hours.\n",
    "2434588\n",
    "7343344\n",
    "3343322\n",
    "9347341\n",
    "3543638\n",
    "3446344\n",
    "3748384\n",
    "6359279'''\n",
    "\n",
    "import random\n",
    "\n",
    "def display_employees_in_order(hours_table):\n",
    "    total_hours = [(i, sum(hours)) for i, hours in enumerate(hours_table)]\n",
    "    sorted_hours = sorted(total_hours, key=lambda x: x[1], reverse=True)\n",
    "    print(\"Employees and their total hours:\")\n",
    "    for employee, total_hour in sorted_hours:\n",
    "        print(f\"Employee {employee + 1}: {total_hour} hours\")\n",
    "\n",
    "def create_random_table(rows, columns):\n",
    "    table = []\n",
    "    for i in range(rows):\n",
    "        row = []\n",
    "        for j in range(columns):\n",
    "            row.append(random.randint(5, 7))\n",
    "        table.append(row)\n",
    "    return table\n",
    "\n",
    "def main():\n",
    "    hours_table = create_random_table(8, 7)\n",
    "    display_employees_in_order(hours_table)\n",
    "    '''for i in range(len(hours_table)):\n",
    "        print(hours_table[i])'''\n",
    "\n",
    "main()"
   ]
  }
 ],
 "metadata": {
  "kernelspec": {
   "display_name": "base",
   "language": "python",
   "name": "python3"
  },
  "language_info": {
   "codemirror_mode": {
    "name": "ipython",
    "version": 3
   },
   "file_extension": ".py",
   "mimetype": "text/x-python",
   "name": "python",
   "nbconvert_exporter": "python",
   "pygments_lexer": "ipython3",
   "version": "3.12.3"
  }
 },
 "nbformat": 4,
 "nbformat_minor": 2
}
