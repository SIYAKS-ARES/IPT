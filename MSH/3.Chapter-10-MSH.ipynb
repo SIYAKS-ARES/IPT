{
 "cells": [
  {
   "cell_type": "code",
   "execution_count": 3,
   "metadata": {},
   "outputs": [
    {
     "name": "stdout",
     "output_type": "stream",
     "text": [
      "Student 0 score is 86 and grade is A\n",
      "Student 1 score is 43 and grade is F\n",
      "Student 2 score is 57 and grade is C\n",
      "Student 3 score is 71 and grade is B\n"
     ]
    }
   ],
   "source": [
    "# 10.1\n",
    "\n",
    "def assignGrades(scores):\n",
    "    best = max(scores) # First we assign the best score.\n",
    "    grades = []\n",
    "    for score in scores: # Then we scan all the scores again and grade them.\n",
    "        if score >= best - 10:\n",
    "            grades.append('A')\n",
    "            # The .append() function is used for adding an item to the end of an existing list.\n",
    "        elif score >= best - 20:\n",
    "            grades.append('B')\n",
    "        elif score >= best - 30:\n",
    "            grades.append('C')\n",
    "        elif score >= best - 40:\n",
    "            grades.append('D')\n",
    "        else:\n",
    "            grades.append('F')\n",
    "    return grades # The return key is a structure used when writing functions with parameters.\n",
    "\n",
    "scores = [86, 43, 57, 71]\n",
    "grades = assignGrades(scores)\n",
    "for i, grade in enumerate(grades):\n",
    "    '''\n",
    "    The enumerate() function is a powerful tool, we used this tool for repeating a\n",
    "    collection (list, bunch or string) while keeping track of the index of each item. \n",
    "    '''\n",
    "    print(f'Student {i} score is {scores[i]} and grade is {grade}')"
   ]
  },
  {
   "cell_type": "code",
   "execution_count": 4,
   "metadata": {},
   "outputs": [
    {
     "name": "stdout",
     "output_type": "stream",
     "text": [
      "9 is at index 0\n",
      "8 is at index 1\n",
      "7 is at index 2\n",
      "6 is at index 3\n",
      "5 is at index 4\n",
      "4 is at index 5\n",
      "3 is at index 6\n",
      "2 is at index 7\n",
      "1 is at index 8\n"
     ]
    }
   ],
   "source": [
    "# 10.2 \n",
    "'''\n",
    "I tried to do it in a long way, but when I did some research, I saw it was a special method used for reverse a list.\n",
    "In ths problem we used the same powerful tool; enumarate(), thus the code is short and clear.\n",
    "'''\n",
    "\n",
    "def readIntegerList(numbers):\n",
    "    for i, num in enumerate(reversed(numbers)):\n",
    "        print(f\"{num} is at index {i}\")\n",
    "\n",
    "myList = [1, 2, 3, 4, 5, 6, 7, 8, 9]\n",
    "readIntegerList(myList)"
   ]
  },
  {
   "cell_type": "code",
   "execution_count": 5,
   "metadata": {},
   "outputs": [
    {
     "name": "stdout",
     "output_type": "stream",
     "text": [
      "Enter integers between 1 and 100 (separated by spaces!):\n",
      "32 occurs 2 times\n",
      "78 occurs 1 time\n",
      "54 occurs 1 time\n",
      "88 occurs 1 time\n",
      "56 occurs 1 time\n",
      "99 occurs 1 time\n"
     ]
    }
   ],
   "source": [
    "# 10.3\n",
    "\n",
    "def countNumbers(numbers):\n",
    "    counts = {} # We used dictionary and will be used store to count of occurrences of each number.\n",
    "    for num in numbers: # This \"for\" loop that iterates through each number in the input list \"numbers\".\n",
    "        '''This \"if else conditions\" checks if the current number already exists in the \"counts\" dictionary, if so, increment its occurrence count\n",
    "        and the current number does not exist in the \"counts\" dictionary, add it with an occurrence count of 1'''\n",
    "        if num in counts:\n",
    "            counts[num] += 1\n",
    "        else:\n",
    "            counts[num] = 1\n",
    "\n",
    "    # print (counts.keys()) # Control Area\n",
    "    # print (counts.values())\n",
    "    return counts\n",
    "\n",
    "print(\"Enter integers between 1 and 100 (separated by spaces!):\")\n",
    "user_input = input().split() # Here we take user inputs, splits it into individual elements, stores in the variable \"user_input\"\n",
    "numbers = []\n",
    "# This \"for\" loop converts each element to an integer using \"int()\" and appends each element to \"numbers()\"\n",
    "for num in user_input:\n",
    "    num_int = int(num)\n",
    "    if 1 <= num_int <= 100:\n",
    "        numbers.append(num_int)\n",
    "\n",
    "occurrences = countNumbers(numbers) # Here we are calling function that we write, with \"numbers()\" list and we send the returned \"counts\" to \"occourrences\"\n",
    "\n",
    "for num, count in occurrences.items(): # And lastly we give the user the output\n",
    "    if count < 2:\n",
    "        print(f\"{num} occurs {count} time\")\n",
    "    else:\n",
    "        print(f\"{num} occurs {count} times\")"
   ]
  },
  {
   "cell_type": "code",
   "execution_count": 9,
   "metadata": {},
   "outputs": [
    {
     "name": "stdout",
     "output_type": "stream",
     "text": [
      "Enter unspecified number of scores (separated by spaces): 1 2 3 4 5 6 7 8 9\n",
      "Number of scores above or equal to the average: 5\n",
      "Number of scores below the average: 4\n"
     ]
    }
   ],
   "source": [
    "'''(Analyze scores) Write a program that reads an unspecified number ofscores and determines how many\n",
    "scores are above or equal to the average and how many scores are below the average.\n",
    "Assume the input numbers are separated by one space in one line.'''\n",
    "\n",
    "# 10.4\n",
    "\n",
    "def above_below_avg(numbers):\n",
    "    avg = sum(numbers) / len(numbers)\n",
    "    above_avg = 0\n",
    "    below_avg = 0\n",
    "    for num in numbers:\n",
    "        if num >= avg:\n",
    "            above_avg += 1\n",
    "        else:\n",
    "            below_avg += 1\n",
    "    return above_avg, below_avg\n",
    "\n",
    "print(\"Enter unspecified number of scores (separated by spaces):\", end=\" \")\n",
    "user_input = input().split()\n",
    "print(' '.join(user_input))\n",
    "numbers = [int(num) for num in user_input]\n",
    "\n",
    "above_avg, below_avg = above_below_avg(numbers)\n",
    "print(\"Number of scores above or equal to the average:\", above_avg)\n",
    "print(\"Number of scores below the average:\", below_avg)"
   ]
  },
  {
   "cell_type": "code",
   "execution_count": 15,
   "metadata": {},
   "outputs": [
    {
     "name": "stdout",
     "output_type": "stream",
     "text": [
      "Enter numbers (separated by spaces): 1 2 2 3 4 5 6 7 4 3 2 2 3 4 1 12 1 12 13 14 5 15 8 9 10 11\n",
      "The distinct numbers are: 1 2 3 4 5 6 7 12 13 14 15 8 9 10 11 "
     ]
    }
   ],
   "source": [
    "'''(Print distinct numbers) Write a program that reads in numbers separated by a space in one line and displays distinct numbers\n",
    "(i.e., if a number appears mul- tiple times, it is displayed only once). (Hint: Read all the numbers and store them in list1.\n",
    "Create a new list list2. Add a number in list1 to list2. If the number is already in the list, ignore it.)'''\n",
    "\n",
    "# 10.5\n",
    "\n",
    "def distinct_numbers(numbers):\n",
    "    distinct = []\n",
    "    for num in numbers:\n",
    "        if num not in distinct:\n",
    "            distinct.append(num)\n",
    "    return distinct\n",
    "\n",
    "print(\"Enter numbers (separated by spaces):\", end=\" \")\n",
    "user_input = input().split()\n",
    "print(' '.join(user_input))\n",
    "numbers = [int(num) for num in user_input]\n",
    "\n",
    "distinct = distinct_numbers(numbers)\n",
    "print('The distinct numbers are:', end=\" \")\n",
    "for i in distinct:\n",
    "    print(i, end=\" \")"
   ]
  },
  {
   "cell_type": "code",
   "execution_count": 20,
   "metadata": {},
   "outputs": [
    {
     "name": "stdout",
     "output_type": "stream",
     "text": [
      "The first 50 prime numbers are\n",
      "    2     3     5     7     9    11    13    15    17    19 \n",
      "   21    23    25    27    29    31    33    35    37    39 \n",
      "   41    43    45    47    49    51    53    55    57    59 \n",
      "   61    63    65    67    69    71    73    75    77    79 \n",
      "   81    83    85    87    89    91    93    95    97    99 \n"
     ]
    }
   ],
   "source": [
    "'''(Revise Listing 5.13, PrimeNumber.py) Listing 5.13 determines whether a number n is prime by checking whether 2, 3, ..., n/2 is a divisor for n.\n",
    "If a divisor is found, n is not prime. A more efficient approach is to check whether any of the prime numbers less than or equal to 2n\n",
    "can divide n evenly. If not, n is prime. Rewrite Listing 5.13 to display the first 50 prime numbers using this approach.\n",
    "You need to use a list to store the prime numbers and later use them to check whether they are possible divisors for n.'''\n",
    "\n",
    "\n",
    "'''\n",
    "# 5.13 PrimeNumber.py\n",
    "\n",
    "NUMBER_OF_PRIMES = 50\n",
    "NUMBER_OF_PRIMES_PER_LINE = 10\n",
    "count = 0\n",
    "number = 2\n",
    "print(\"The first 50 prime numbers are\")\n",
    "while count < NUMBER_OF_PRIMES:\n",
    "    isPrime = True\n",
    "    divisor = 2\n",
    "    while divisor <= number / 2:\n",
    "        if number % divisor == 0:\n",
    "            isPrime = False\n",
    "            break\n",
    "        divisor += 1\n",
    "    if isPrime:\n",
    "        count += 1\n",
    "        print (format (number, \"5d\"), end = ' ')\n",
    "        if count % NUMBER_OF_PRIMES_PER_LINE == 0:\n",
    "            print()\n",
    "    number += 1'''\n",
    "\n",
    "NUMBER_OF_PRIMES = 50\n",
    "NUMBER_OF_PRIMES_PER_LINE = 10\n",
    "count = 0\n",
    "number = 2\n",
    "primes = []\n",
    "\n",
    "print(\"The first 50 prime numbers are\")\n",
    "while count < NUMBER_OF_PRIMES:\n",
    "    isPrime = True\n",
    "    for prime in primes:\n",
    "        if prime <= number // 2:\n",
    "            if number % prime == 0:\n",
    "                isPrime = False\n",
    "                break\n",
    "            break\n",
    "    if isPrime:\n",
    "        count += 1\n",
    "        primes.append(number)\n",
    "        print(format(number, \"5d\"), end=' ')\n",
    "        if count % NUMBER_OF_PRIMES_PER_LINE == 0:\n",
    "            print()\n",
    "    number += 1"
   ]
  },
  {
   "cell_type": "code",
   "execution_count": null,
   "metadata": {},
   "outputs": [],
   "source": []
  }
 ],
 "metadata": {
  "kernelspec": {
   "display_name": "Python 3",
   "language": "python",
   "name": "python3"
  },
  "language_info": {
   "codemirror_mode": {
    "name": "ipython",
    "version": 3
   },
   "file_extension": ".py",
   "mimetype": "text/x-python",
   "name": "python",
   "nbconvert_exporter": "python",
   "pygments_lexer": "ipython3",
   "version": "3.12.2"
  }
 },
 "nbformat": 4,
 "nbformat_minor": 2
}
