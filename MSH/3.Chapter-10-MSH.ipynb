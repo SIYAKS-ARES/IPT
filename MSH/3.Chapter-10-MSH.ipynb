{
 "cells": [
  {
   "cell_type": "code",
   "execution_count": 1,
   "metadata": {},
   "outputs": [
    {
     "name": "stdout",
     "output_type": "stream",
     "text": [
      "Student 0 score is 86 and grade is A\n",
      "Student 1 score is 43 and grade is F\n",
      "Student 2 score is 57 and grade is C\n",
      "Student 3 score is 71 and grade is B\n"
     ]
    }
   ],
   "source": [
    "# 10.1\n",
    "\n",
    "def assignGrades(scores):\n",
    "    best = max(scores) # First we assign the best score.\n",
    "    grades = []\n",
    "    for score in scores: # Then we scan all the scores again and grade them.\n",
    "        if score >= best - 10:\n",
    "            grades.append('A')\n",
    "            # The .append() function is used for adding an item to the end of an existing list.\n",
    "        elif score >= best - 20:\n",
    "            grades.append('B')\n",
    "        elif score >= best - 30:\n",
    "            grades.append('C')\n",
    "        elif score >= best - 40:\n",
    "            grades.append('D')\n",
    "        else:\n",
    "            grades.append('F')\n",
    "    return grades # The return key is a structure used when writing functions with parameters.\n",
    "\n",
    "scores = [86, 43, 57, 71]\n",
    "grades = assignGrades(scores)\n",
    "for i, grade in enumerate(grades):\n",
    "    '''\n",
    "    The enumerate() function is a powerful tool, we used this tool for repeating a\n",
    "    collection (list, bunch or string) while keeping track of the index of each item.\n",
    "    '''\n",
    "    print(f'Student {i} score is {scores[i]} and grade is {grade}')"
   ]
  },
  {
   "cell_type": "code",
   "execution_count": 2,
   "metadata": {},
   "outputs": [
    {
     "name": "stdout",
     "output_type": "stream",
     "text": [
      "9 is at index 0\n",
      "8 is at index 1\n",
      "7 is at index 2\n",
      "6 is at index 3\n",
      "5 is at index 4\n",
      "4 is at index 5\n",
      "3 is at index 6\n",
      "2 is at index 7\n",
      "1 is at index 8\n"
     ]
    }
   ],
   "source": [
    "# 10.2\n",
    "'''\n",
    "I tried to do it in a long way, but when I did some research, I saw it was a special method used for reverse a list.\n",
    "In ths problem we used the same powerful tool; enumarate(), thus the code is short and clear.\n",
    "'''\n",
    "\n",
    "def readIntegerList(numbers):\n",
    "    for i, num in enumerate(reversed(numbers)):\n",
    "        print(f\"{num} is at index {i}\")\n",
    "\n",
    "myList = [1, 2, 3, 4, 5, 6, 7, 8, 9]\n",
    "readIntegerList(myList)"
   ]
  },
  {
   "cell_type": "code",
   "execution_count": 4,
   "metadata": {},
   "outputs": [
    {
     "name": "stdout",
     "output_type": "stream",
     "text": [
      "Enter integers between 1 and 100 (separated by spaces!):\n",
      "22 occurs 2 times\n",
      "33 occurs 1 time\n",
      "44 occurs 2 times\n",
      "55 occurs 2 times\n",
      "66 occurs 2 times\n",
      "77 occurs 3 times\n",
      "88 occurs 1 time\n",
      "34 occurs 1 time\n",
      "11 occurs 1 time\n",
      "73 occurs 1 time\n",
      "23 occurs 1 time\n",
      "14 occurs 1 time\n"
     ]
    }
   ],
   "source": [
    "# 10.3\n",
    "\n",
    "def countNumbers(numbers):\n",
    "    counts = {} # We used dictionary and will be used store to count of occurrences of each number.\n",
    "    for num in numbers: # This \"for\" loop that iterates through each number in the input list \"numbers\".\n",
    "        '''This \"if else conditions\" checks if the current number already exists in the \"counts\" dictionary, if so, increment its occurrence count\n",
    "        and the current number does not exist in the \"counts\" dictionary, add it with an occurrence count of 1'''\n",
    "        if num in counts:\n",
    "            counts[num] += 1\n",
    "        else:\n",
    "            counts[num] = 1\n",
    "\n",
    "    # print (counts.keys()) # Control Area\n",
    "    # print (counts.values())\n",
    "    return counts\n",
    "\n",
    "print(\"Enter integers between 1 and 100 (separated by spaces!):\")\n",
    "user_input = input().split() # Here we take user inputs, splits it into individual elements, stores in the variable \"user_input\"\n",
    "numbers = []\n",
    "# This \"for\" loop converts each element to an integer using \"int()\" and appends each element to \"numbers()\"\n",
    "for num in user_input:\n",
    "    num_int = int(num)\n",
    "    if 1 <= num_int <= 100:\n",
    "        numbers.append(num_int)\n",
    "\n",
    "occurrences = countNumbers(numbers) # Here we are calling function that we write, with \"numbers()\" list and we send the returned \"counts\" to \"occourrences\"\n",
    "\n",
    "for num, count in occurrences.items(): # And lastly we give the user the output\n",
    "    if count < 2:\n",
    "        print(f\"{num} occurs {count} time\")\n",
    "    else:\n",
    "        print(f\"{num} occurs {count} times\")"
   ]
  },
  {
   "cell_type": "code",
   "execution_count": 5,
   "metadata": {},
   "outputs": [
    {
     "name": "stdout",
     "output_type": "stream",
     "text": [
      "Enter unspecified number of scores (separated by spaces): 23 526 234 252 777 33 4 63 666\n",
      "Number of scores above or equal to the average: 3\n",
      "Number of scores below the average: 6\n"
     ]
    }
   ],
   "source": [
    "'''(Analyze scores) Write a program that reads an unspecified number ofscores and determines how many\n",
    "scores are above or equal to the average and how many scores are below the average.\n",
    "Assume the input numbers are separated by one space in one line.'''\n",
    "\n",
    "# 10.4\n",
    "\n",
    "def above_below_avg(numbers):\n",
    "    avg = sum(numbers) / len(numbers)\n",
    "    above_avg = 0\n",
    "    below_avg = 0\n",
    "    for num in numbers:\n",
    "        if num >= avg:\n",
    "            above_avg += 1\n",
    "        else:\n",
    "            below_avg += 1\n",
    "    return above_avg, below_avg\n",
    "\n",
    "print(\"Enter unspecified number of scores (separated by spaces):\", end=\" \")\n",
    "user_input = input().split()\n",
    "print(' '.join(user_input))\n",
    "numbers = [int(num) for num in user_input]\n",
    "\n",
    "above_avg, below_avg = above_below_avg(numbers)\n",
    "print(\"Number of scores above or equal to the average:\", above_avg)\n",
    "print(\"Number of scores below the average:\", below_avg)"
   ]
  },
  {
   "cell_type": "code",
   "execution_count": 6,
   "metadata": {},
   "outputs": [
    {
     "name": "stdout",
     "output_type": "stream",
     "text": [
      "Enter numbers (separated by spaces): 11 22 44 55 77 8 4 23 57 34 532\n",
      "The distinct numbers are: 11 22 44 55 77 8 4 23 57 34 532 "
     ]
    }
   ],
   "source": [
    "'''(Print distinct numbers) Write a program that reads in numbers separated by a space in one line and displays distinct numbers\n",
    "(i.e., if a number appears mul- tiple times, it is displayed only once). (Hint: Read all the numbers and store them in list1.\n",
    "Create a new list list2. Add a number in list1 to list2. If the number is already in the list, ignore it.)'''\n",
    "\n",
    "# 10.5\n",
    "\n",
    "def distinct_numbers(numbers):\n",
    "    distinct = []\n",
    "    for num in numbers:\n",
    "        if num not in distinct:\n",
    "            distinct.append(num)\n",
    "    return distinct\n",
    "\n",
    "print(\"Enter numbers (separated by spaces):\", end=\" \")\n",
    "user_input = input().split()\n",
    "print(' '.join(user_input))\n",
    "numbers = [int(num) for num in user_input]\n",
    "\n",
    "distinct = distinct_numbers(numbers)\n",
    "print('The distinct numbers are:', end=\" \")\n",
    "for i in distinct:\n",
    "    print(i, end=\" \")"
   ]
  },
  {
   "cell_type": "code",
   "execution_count": 7,
   "metadata": {},
   "outputs": [
    {
     "name": "stdout",
     "output_type": "stream",
     "text": [
      "The first 50 prime numbers are\n",
      "    2     3     5     7     9    11    13    15    17    19 \n",
      "   21    23    25    27    29    31    33    35    37    39 \n",
      "   41    43    45    47    49    51    53    55    57    59 \n",
      "   61    63    65    67    69    71    73    75    77    79 \n",
      "   81    83    85    87    89    91    93    95    97    99 \n"
     ]
    }
   ],
   "source": [
    "'''(Revise Listing 5.13, PrimeNumber.py) Listing 5.13 determines whether a number n is prime by checking whether 2, 3, ..., n/2 is a divisor for n.\n",
    "If a divisor is found, n is not prime. A more efficient approach is to check whether any of the prime numbers less than or equal to 2n\n",
    "can divide n evenly. If not, n is prime. Rewrite Listing 5.13 to display the first 50 prime numbers using this approach.\n",
    "You need to use a list to store the prime numbers and later use them to check whether they are possible divisors for n.'''\n",
    "\n",
    "# 10.6\n",
    "\n",
    "'''\n",
    "# 5.13 PrimeNumber.py\n",
    "\n",
    "NUMBER_OF_PRIMES = 50\n",
    "NUMBER_OF_PRIMES_PER_LINE = 10\n",
    "count = 0\n",
    "number = 2\n",
    "print(\"The first 50 prime numbers are\")\n",
    "while count < NUMBER_OF_PRIMES:\n",
    "    isPrime = True\n",
    "    divisor = 2\n",
    "    while divisor <= number / 2:\n",
    "        if number % divisor == 0:\n",
    "            isPrime = False\n",
    "            break\n",
    "        divisor += 1\n",
    "    if isPrime:\n",
    "        count += 1\n",
    "        print (format (number, \"5d\"), end = ' ')\n",
    "        if count % NUMBER_OF_PRIMES_PER_LINE == 0:\n",
    "            print()\n",
    "    number += 1'''\n",
    "\n",
    "NUMBER_OF_PRIMES = 50\n",
    "NUMBER_OF_PRIMES_PER_LINE = 10\n",
    "count = 0\n",
    "number = 2\n",
    "primes = []\n",
    "\n",
    "print(\"The first 50 prime numbers are\")\n",
    "while count < NUMBER_OF_PRIMES:\n",
    "    isPrime = True\n",
    "    for prime in primes:\n",
    "        if prime <= number // 2:\n",
    "            if number % prime == 0:\n",
    "                isPrime = False\n",
    "                break\n",
    "            break\n",
    "    if isPrime:\n",
    "        count += 1\n",
    "        primes.append(number)\n",
    "        print(format(number, \"5d\"), end=' ')\n",
    "        if count % NUMBER_OF_PRIMES_PER_LINE == 0:\n",
    "            print()\n",
    "    number += 1"
   ]
  },
  {
   "cell_type": "code",
   "execution_count": 8,
   "metadata": {},
   "outputs": [
    {
     "name": "stdout",
     "output_type": "stream",
     "text": [
      "Number 0: 80 times\n",
      "Number 1: 104 times\n",
      "Number 2: 98 times\n",
      "Number 3: 99 times\n",
      "Number 4: 119 times\n",
      "Number 5: 96 times\n",
      "Number 6: 97 times\n",
      "Number 7: 109 times\n",
      "Number 8: 92 times\n",
      "Number 9: 106 times\n"
     ]
    }
   ],
   "source": [
    "# 10.7\n",
    "\n",
    "'''\n",
    "(Count single digits) Write a program that generates 1,000 random integers between 0 and 9 and displays the count for each number.\n",
    "(Hint: Use a list of ten integers, say counts, to store the counts for the number of 0s, 1s, ..., 9s.)\n",
    "'''\n",
    "\n",
    "import random\n",
    "\n",
    "random_numbers = [random.randint(0, 9) for _ in range(1000)]\n",
    "\n",
    "counts = [0] * 10\n",
    "\n",
    "for number in random_numbers:\n",
    "    counts[number] += 1\n",
    "    # print(\"number: \", number)\n",
    "\n",
    "for i in range(10):\n",
    "    print(f\"Number {i}: {counts[i]} times\")\n",
    "    # print(\"i: \", i)\n",
    "\n",
    "# print(random_numbers)"
   ]
  },
  {
   "cell_type": "code",
   "execution_count": 10,
   "metadata": {},
   "outputs": [
    {
     "name": "stdout",
     "output_type": "stream",
     "text": [
      "Enter numbers (separated by spaces): \n",
      "The smallest element is 2 and its index is 4\n"
     ]
    }
   ],
   "source": [
    "# 10.8\n",
    "\n",
    "'''\n",
    "(Find the index of the smallest element) Write a function that returns the index of the smallest element in a list of integers.\n",
    "If the number of such elements is greater than 1, return the smallest index. Use the following header:\n",
    "def indexOfSmallestElement(lst):\n",
    "Write a test program that prompts the user to enter a list of numbers, invokes this\n",
    "function to return the index of the smallest element, and displays the index.\n",
    "'''\n",
    "\n",
    "def smallest_element_index(lst): # or indexOfSmallestElement doesn't matter\n",
    "    if not lst:\n",
    "        return None\n",
    "    smallest = lst[0]\n",
    "    smallest_index = 0\n",
    "    for i in range(1, len(lst)):\n",
    "        if lst[i] < smallest:\n",
    "            smallest = lst[i]\n",
    "            smallest_index = i\n",
    "\n",
    "    return smallest_index\n",
    "\n",
    "print(\"Enter numbers (separated by spaces):\", end=\" \")\n",
    "user_input = input().split()\n",
    "\n",
    "print()\n",
    "\n",
    "numbers = [int(num) for num in user_input]\n",
    "\n",
    "smallest_index = smallest_element_index(numbers)\n",
    "\n",
    "if smallest_index is not None:\n",
    "    print(f\"The smallest element is {numbers[smallest_index]} and its index is {smallest_index}\")\n",
    "else:\n",
    "    print(\"The list is empty, no smallest element.\")"
   ]
  },
  {
   "cell_type": "code",
   "execution_count": 11,
   "metadata": {},
   "outputs": [
    {
     "data": {
      "text/plain": [
       "'\\n(Statistics: compute deviation) Exercise 5.46 computes the standard deviation of numbers.\\nThis exercise uses a different but equivalent formula to compute the standard deviation of n numbers.\\nnn\\naxi x +x + c +x a(xi -mean)2\\nmean = i=1 = 1 2 n deviation = i=1 nnQn-1\\nTo compute the standard deviation with this formula, you have to store the individual numbers using a list,\\nso that they can be used after the mean is obtained.\\nYour program should contain the following functions:\\n# Compute the standard deviation of values\\ndef deviation(x):\\n# Compute the mean of a list of values\\ndef mean(x):\\nWrite a test program that prompts the user to enter a list of numbers and displays the mean and standard deviation,\\nas shown in the following sample run:'"
      ]
     },
     "execution_count": 11,
     "metadata": {},
     "output_type": "execute_result"
    }
   ],
   "source": [
    "# 10.9\n",
    "\n",
    "'''\n",
    "(Statistics: compute deviation) Exercise 5.46 computes the standard deviation of numbers.\n",
    "This exercise uses a different but equivalent formula to compute the standard deviation of n numbers.\n",
    "nn\n",
    "axi x +x + c +x a(xi -mean)2\n",
    "mean = i=1 = 1 2 n deviation = i=1 nnQn-1\n",
    "To compute the standard deviation with this formula, you have to store the individual numbers using a list,\n",
    "so that they can be used after the mean is obtained.\n",
    "Your program should contain the following functions:\n",
    "# Compute the standard deviation of values\n",
    "def deviation(x):\n",
    "# Compute the mean of a list of values\n",
    "def mean(x):\n",
    "Write a test program that prompts the user to enter a list of numbers and displays the mean and standard deviation,\n",
    "as shown in the following sample run:'''\n",
    "\n",
    "# COULDN'T DO IT!"
   ]
  },
  {
   "cell_type": "code",
   "execution_count": 12,
   "metadata": {},
   "outputs": [
    {
     "name": "stdout",
     "output_type": "stream",
     "text": [
      "Enter numbers (separated by spaces): \n",
      "The reversed numbers are: 9 8 7 6 5 4 3 2 1 "
     ]
    }
   ],
   "source": [
    "# 10.10\n",
    "\n",
    "'''(Reverse a list) The reverse function in Section 10.8 reverses a list by copying it to a new list.\n",
    "Rewrite the function that reverses the list passed in the argument and returns this list.\n",
    "Write a test program that prompts the user to enter a list of num- bers, invokes the function to reverse the numbers, and displays the numbers.\n",
    "'''\n",
    "\n",
    "'''def reverse(lst):\n",
    "    return lst[::-1]'''\n",
    "\n",
    "def reverse(lst):\n",
    "    reversed_lst = []\n",
    "    for i in range(len(lst) - 1, -1, -1):\n",
    "        reversed_lst.append(lst[i])\n",
    "    return reversed_lst\n",
    "\n",
    "print(\"Enter numbers (separated by spaces):\", end=\" \")\n",
    "user_input = input().split()\n",
    "\n",
    "print()\n",
    "\n",
    "numbers = [int(num) for num in user_input]\n",
    "\n",
    "reversed_numbers = reverse(numbers)\n",
    "\n",
    "print(\"The reversed numbers are:\", end=\" \")\n",
    "for i in reversed_numbers:\n",
    "    print(i, end=\" \")\n",
    "    # print(\"i: \", i)\n",
    "    # print(\"reversed_numbers: \", reversed_numbers)"
   ]
  },
  {
   "cell_type": "code",
   "execution_count": 13,
   "metadata": {},
   "outputs": [
    {
     "name": "stdout",
     "output_type": "stream",
     "text": [
      "Enter numbers (separated by spaces): \n",
      "The shuffled numbers are: 2 6 5 7 3 9 1 4 8 "
     ]
    }
   ],
   "source": [
    "# 10.11\n",
    "\n",
    "'''(Random number chooser) You can shuffle a list using random.shuffle(lst). Write your own function without using random.shuffle(lst) to shuffle a list and return the list. Use the following function header:\n",
    "def shuffle(lst):\n",
    "Write a test program that prompts the user to enter a list of numbers, invokes the\n",
    "function to shuffle the numbers, and displays the numbers.'''\n",
    "\n",
    "import random\n",
    "\n",
    "def shuffle(lst):\n",
    "    for i in range(len(lst) - 1, 0, -1):\n",
    "        j = random.randint(0, i)\n",
    "        lst[i], lst[j] = lst[j], lst[i]\n",
    "    return lst\n",
    "\n",
    "print(\"Enter numbers (separated by spaces):\", end=\" \")\n",
    "user_input = input().split()\n",
    "\n",
    "print()\n",
    "\n",
    "numbers = [int(num) for num in user_input]\n",
    "\n",
    "shuffled_numbers = shuffle(numbers)\n",
    "\n",
    "print(\"The shuffled numbers are:\", end=\" \")\n",
    "for i in shuffled_numbers:\n",
    "    print(i, end=\" \")\n",
    "    # print(\"i: \", i)\n",
    "    # print(\"shuffled_numbers: \", shuffled_numbers)"
   ]
  },
  {
   "cell_type": "code",
   "execution_count": 5,
   "metadata": {},
   "outputs": [
    {
     "name": "stdout",
     "output_type": "stream",
     "text": [
      "Enter five numbers (separated by spaces): \n",
      "The GCD of the numbers is 3\n"
     ]
    }
   ],
   "source": [
    "# 10.12\n",
    "\n",
    "'''(Compute GCD) Write a function that returns the greatest common divisor (GCD) of integers in a list. Use the following function header:\n",
    "def gcd(numbers):\n",
    "Write a test program that prompts the user to enter five numbers, invokes the\n",
    "function to find the GCD of these numbers, and displays the GCD.'''\n",
    "\n",
    "def gcd(numbers):\n",
    "    def gcd_two_numbers(a, b):\n",
    "        while b:\n",
    "            a, b = b, a % b\n",
    "        return a\n",
    "\n",
    "    if not numbers:\n",
    "        return None\n",
    "\n",
    "    current_gcd = numbers[0]\n",
    "    for num in numbers[1:]:\n",
    "        current_gcd = gcd_two_numbers(current_gcd, num)\n",
    "\n",
    "    return current_gcd\n",
    "\n",
    "print(\"Enter five numbers (separated by spaces):\", end=\" \")\n",
    "user_input = input().split()\n",
    "\n",
    "print()\n",
    "\n",
    "numbers = [int(num) for num in user_input]\n",
    "\n",
    "gcd_value = gcd(numbers)\n",
    "\n",
    "print(f\"The GCD of the numbers is {gcd_value}\")"
   ]
  },
  {
   "cell_type": "code",
   "execution_count": 6,
   "metadata": {},
   "outputs": [
    {
     "name": "stdout",
     "output_type": "stream",
     "text": [
      "Enter numbers (separated by spaces): \n",
      "The eliminated numbers are: 1 2 3 4 5 6 7 8 9 "
     ]
    }
   ],
   "source": [
    "# 10.13\n",
    "\n",
    "'''(Eliminate duplicates) Write a function that returns a new list by eliminating the duplicate values in the list. Use the following function header:\n",
    "def eliminateDuplicates(lst):\n",
    "Write a test program that reads in a list of integers, invokes the function, and dis-\n",
    "plays the result.'''\n",
    "\n",
    "def eliminate_duplicates(lst):\n",
    "    new_lst = []\n",
    "    for i in lst:\n",
    "        if i not in new_lst:\n",
    "            new_lst.append(i)\n",
    "    return new_lst\n",
    "\n",
    "print(\"Enter numbers (separated by spaces):\", end=\" \")\n",
    "\n",
    "user_input = input().split()\n",
    "\n",
    "print()\n",
    "\n",
    "numbers = [int(num) for num in user_input]\n",
    "\n",
    "eliminated_numbers = eliminate_duplicates(numbers)\n",
    "\n",
    "print(\"The eliminated numbers are:\", end=\" \")\n",
    "for i in eliminated_numbers:\n",
    "    print(i, end=\" \")\n",
    "    # print(\"i: \", i)\n",
    "    # print(\"eliminated_numbers: \", eliminated_numbers)"
   ]
  },
  {
   "cell_type": "code",
   "execution_count": 9,
   "metadata": {},
   "outputs": [
    {
     "name": "stdout",
     "output_type": "stream",
     "text": [
      "Enter numbers (separated by spaces): \n",
      "The sorted numbers are: 1 2 3 4 4 5 5 6 7 8 8 9 "
     ]
    }
   ],
   "source": [
    "# 10.14\n",
    "\n",
    "'''(Revise selection sort) In Section 10.11.1, you used selection sort to sort a list.\n",
    "The selection-sort function repeatedly finds the smallest number in the current list and swaps it with the first one.\n",
    "Rewrite this program by finding the largest number and swapping it with the last one. Write a test program that reads in ten numbers,\n",
    "invokes the function, and displays the sorted numbers.'''\n",
    "\n",
    "def selection_sort(lst):\n",
    "    for i in range(len(lst) - 1, 0, -1):\n",
    "        max_index = 0\n",
    "        for j in range(1, i + 1):\n",
    "            if lst[j] > lst[max_index]:\n",
    "                max_index = j\n",
    "        lst[i], lst[max_index] = lst[max_index], lst[i]\n",
    "    return lst\n",
    "\n",
    "print(\"Enter numbers (separated by spaces):\", end=\" \")\n",
    "\n",
    "user_input = input().split()\n",
    "\n",
    "print()\n",
    "\n",
    "numbers = [int(num) for num in user_input]\n",
    "\n",
    "sorted_numbers = selection_sort(numbers)\n",
    "\n",
    "print(\"The sorted numbers are:\", end=\" \")\n",
    "for i in sorted_numbers:\n",
    "    print(i, end=\" \")\n",
    "    # print(\"i: \", i)\n",
    "    # print(\"sorted_numbers: \", sorted_numbers)"
   ]
  },
  {
   "cell_type": "code",
   "execution_count": 10,
   "metadata": {},
   "outputs": [
    {
     "name": "stdout",
     "output_type": "stream",
     "text": [
      "Enter numbers (separated by spaces): \n",
      "The list is sorted.\n"
     ]
    }
   ],
   "source": [
    "# 10.15\n",
    "\n",
    "'''(Sorted?) Write the following function that returns true if the list is already sorted in increasing order:\n",
    "def isSorted(lst):\n",
    "Write a test program that prompts the user to enter a list and displays whether the list is sorted or not.'''\n",
    "\n",
    "def is_sorted(lst):\n",
    "    for i in range(len(lst) - 1):\n",
    "        if lst[i] > lst[i + 1]:\n",
    "            return False\n",
    "    return True\n",
    "\n",
    "print(\"Enter numbers (separated by spaces):\", end=\" \")\n",
    "\n",
    "user_input = input().split()\n",
    "\n",
    "print()\n",
    "\n",
    "numbers = [int(num) for num in user_input]\n",
    "\n",
    "if is_sorted(numbers):\n",
    "    print(\"The list is sorted.\")\n",
    "    print(\"numbers: \", numbers)\n",
    "else:\n",
    "    print(\"The list is not sorted.\")\n",
    "    print(\"numbers: \", numbers)"
   ]
  }
 ],
 "metadata": {
  "kernelspec": {
   "display_name": "Python 3",
   "language": "python",
   "name": "python3"
  },
  "language_info": {
   "codemirror_mode": {
    "name": "ipython",
    "version": 3
   },
   "file_extension": ".py",
   "mimetype": "text/x-python",
   "name": "python",
   "nbconvert_exporter": "python",
   "pygments_lexer": "ipython3",
   "version": "3.12.3"
  }
 },
 "nbformat": 4,
 "nbformat_minor": 2
}
