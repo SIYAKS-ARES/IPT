{
 "cells": [
  {
   "cell_type": "markdown",
   "metadata": {},
   "source": [
    "# Yorum satırları ve kod içi İngilizce kısımlar doğru kod yazımında alıştırma olması için eklenmiştir. İlerleyen süreçte yorum satırları da İngilizce olarak eklenecektir."
   ]
  },
  {
   "cell_type": "code",
   "execution_count": 6,
   "metadata": {},
   "outputs": [
    {
     "name": "stdout",
     "output_type": "stream",
     "text": [
      "The number of positives is 5\n",
      "The number of negatives is 1\n",
      "The total is 12\n",
      "The average is 2.00\n"
     ]
    }
   ],
   "source": [
    "# 5.1\n",
    "\n",
    "count_positive = 0\n",
    "count_negative = 0\n",
    "total = 0\n",
    "count = 0\n",
    "\n",
    "# Burada for yerine while döngüsü kodu kısaltmak için kullanıldı.\n",
    "while True:\n",
    "    number = int(input(\"Enter an integer, the input ends if it is 0: \"))\n",
    "    if number == 0:\n",
    "        break\n",
    "\n",
    "    if number > 0:\n",
    "        count_positive += 1\n",
    "    elif number < 0:\n",
    "        count_negative += 1\n",
    "\n",
    "    total += number\n",
    "    count += 1\n",
    "\n",
    "if count == 0:\n",
    "    print(\"You didn't enter any number\")\n",
    "else:\n",
    "    average = total / count\n",
    "    print(f\"The number of positives is {count_positive}\")\n",
    "    print(f\"The number of negatives is {count_negative}\")\n",
    "    print(f\"The total is {total}\")\n",
    "    print(f\"The average is {average:.2f}\")"
   ]
  },
  {
   "cell_type": "code",
   "execution_count": 26,
   "metadata": {},
   "outputs": [
    {
     "name": "stdout",
     "output_type": "stream",
     "text": [
      "You are correct!\n",
      "You are correct!\n",
      "Your answer is wrong.\n",
      " 15 + 15 is 30\n",
      "You are correct!\n",
      "You are correct!\n",
      "Correct count is 4 out of 5 \n",
      "Test time is 11 seconds\n"
     ]
    }
   ],
   "source": [
    "# 5.2\n",
    "\n",
    "# Python'un güzel yanlarından biri de geniş kütüphane seçekleri ve kolay entegre edilebilmesi.\n",
    "import random\n",
    "import time\n",
    "\n",
    "correctCount = 0\n",
    "\n",
    "# Burada on soru çok kalabalık bir görüntü oluşturduğu için beşe indirildi.\n",
    "NUMBER_OF_QUESTIONS = 5\n",
    "# NUMBER_OF_QUESTIONS = 10\n",
    "\n",
    "startTime = time.time()\n",
    "\n",
    "for questionNumber in range(NUMBER_OF_QUESTIONS):\n",
    "    number1 = random.randint(1, 15)\n",
    "    number2 = random.randint(1, 15)\n",
    "    \n",
    "    answer = eval(input(\"What is \" + str(number1) + \" + \" + str(number2) + \"? \"))\n",
    "    \n",
    "    if number1 + number2 == answer:\n",
    "        print(\"You are correct!\")\n",
    "        correctCount += 1\n",
    "    else:\n",
    "        print(\"Your answer is wrong.\\n\", number1, \"+\", number2, \"is\", number1 + number2)\n",
    "\n",
    "endTime = time.time()\n",
    "testTime = int(endTime - startTime)\n",
    "print(\"Correct count is\", correctCount, \"out of\", NUMBER_OF_QUESTIONS, \"\\nTest time is\", testTime, \"seconds\")"
   ]
  },
  {
   "cell_type": "code",
   "execution_count": 8,
   "metadata": {},
   "outputs": [
    {
     "name": "stdout",
     "output_type": "stream",
     "text": [
      "Kilograms  Pounds\n",
      "1          2.2\n",
      "3          6.6\n",
      "5          11.0\n",
      "7          15.4\n",
      "9          19.8\n",
      "11         24.2\n",
      "13         28.6\n",
      "15         33.0\n",
      "17         37.4\n",
      "19         41.8\n",
      "21         46.2\n",
      "23         50.6\n",
      "25         55.0\n",
      "27         59.4\n",
      "29         63.8\n",
      "31         68.2\n",
      "33         72.6\n",
      "35         77.0\n",
      "37         81.4\n",
      "39         85.8\n",
      "41         90.2\n",
      "43         94.6\n",
      "45         99.0\n",
      "47         103.4\n",
      "49         107.8\n",
      "51         112.2\n",
      "53         116.6\n",
      "55         121.0\n",
      "57         125.4\n",
      "59         129.8\n",
      "61         134.2\n",
      "63         138.6\n",
      "65         143.0\n",
      "67         147.4\n",
      "69         151.8\n",
      "71         156.2\n",
      "73         160.6\n",
      "75         165.0\n",
      "77         169.4\n",
      "79         173.8\n",
      "81         178.2\n",
      "83         182.6\n",
      "85         187.0\n",
      "87         191.4\n",
      "89         195.8\n",
      "91         200.2\n",
      "93         204.6\n",
      "95         209.0\n",
      "97         213.4\n",
      "99         217.8\n",
      "101        222.2\n",
      "103        226.6\n",
      "105        231.0\n",
      "107        235.4\n",
      "109        239.8\n",
      "111        244.2\n",
      "113        248.6\n",
      "115        253.0\n",
      "117        257.4\n",
      "119        261.8\n",
      "121        266.2\n",
      "123        270.6\n",
      "125        275.0\n",
      "127        279.4\n",
      "129        283.8\n",
      "131        288.2\n",
      "133        292.6\n",
      "135        297.0\n",
      "137        301.4\n",
      "139        305.8\n",
      "141        310.2\n",
      "143        314.6\n",
      "145        319.0\n",
      "147        323.4\n",
      "149        327.8\n",
      "151        332.2\n",
      "153        336.6\n",
      "155        341.0\n",
      "157        345.4\n",
      "159        349.8\n",
      "161        354.2\n",
      "163        358.6\n",
      "165        363.0\n",
      "167        367.4\n",
      "169        371.8\n",
      "171        376.2\n",
      "173        380.6\n",
      "175        385.0\n",
      "177        389.4\n",
      "179        393.8\n",
      "181        398.2\n",
      "183        402.6\n",
      "185        407.0\n",
      "187        411.4\n",
      "189        415.8\n",
      "191        420.2\n",
      "193        424.6\n",
      "195        429.0\n",
      "197        433.4\n",
      "199        437.8\n"
     ]
    }
   ],
   "source": [
    "# 5.3\n",
    "\n",
    "print(f'{\"Kilograms\":<10} {\"Pounds\"}')\n",
    "\n",
    "for i in range(1, 200, 2):\n",
    "    pounds = i * 2.2\n",
    "    print(f'{i:<10} {pounds:.1f}')"
   ]
  },
  {
   "cell_type": "code",
   "execution_count": 9,
   "metadata": {},
   "outputs": [
    {
     "name": "stdout",
     "output_type": "stream",
     "text": [
      "Miles      Kilometers\n",
      "1          1.609\n",
      "2          3.218\n",
      "3          4.827\n",
      "4          6.436\n",
      "5          8.045\n",
      "6          9.654\n",
      "7          11.263\n",
      "8          12.872\n",
      "9          14.481\n",
      "10         16.090\n"
     ]
    }
   ],
   "source": [
    "# 5.4\n",
    "\n",
    "print(f'{\"Miles\":<10} {\"Kilometers\"}')\n",
    "\n",
    "for i in range(1, 11):\n",
    "    kilometers = i * 1.609\n",
    "    print(f'{i:<10} {kilometers:.3f}')"
   ]
  },
  {
   "cell_type": "code",
   "execution_count": 10,
   "metadata": {},
   "outputs": [
    {
     "name": "stdout",
     "output_type": "stream",
     "text": [
      "Kilograms  Pounds     | Pounds     Kilograms\n",
      "1          2.2        | 25         11.25\n",
      "3          6.6        | 45         20.25\n",
      "5          11.0       | 65         29.25\n",
      "7          15.4       | 85         38.25\n",
      "9          19.8       | 105        47.25\n",
      "11         24.2       | 125        56.25\n",
      "13         28.6       | 145        65.25\n",
      "15         33.0       | 165        74.25\n",
      "17         37.4       | 185        83.25\n",
      "19         41.8       | 205        92.25\n",
      "21         46.2       | 225        101.25\n",
      "23         50.6       | 245        110.25\n",
      "25         55.0       | 265        119.25\n",
      "27         59.4       | 285        128.25\n",
      "29         63.8       | 305        137.25\n",
      "31         68.2       | 325        146.25\n",
      "33         72.6       | 345        155.25\n",
      "35         77.0       | 365        164.25\n",
      "37         81.4       | 385        173.25\n",
      "39         85.8       | 405        182.25\n",
      "41         90.2       | 425        191.25\n",
      "43         94.6       | 445        200.25\n",
      "45         99.0       | 465        209.25\n",
      "47         103.4      | 485        218.25\n",
      "49         107.8      | 505        227.25\n",
      "51         112.2      | 525        236.25\n",
      "53         116.6      | 545        245.25\n",
      "55         121.0      | 565        254.25\n",
      "57         125.4      | 585        263.25\n",
      "59         129.8      | 605        272.25\n",
      "61         134.2      | 625        281.25\n",
      "63         138.6      | 645        290.25\n",
      "65         143.0      | 665        299.25\n",
      "67         147.4      | 685        308.25\n",
      "69         151.8      | 705        317.25\n",
      "71         156.2      | 725        326.25\n",
      "73         160.6      | 745        335.25\n",
      "75         165.0      | 765        344.25\n",
      "77         169.4      | 785        353.25\n",
      "79         173.8      | 805        362.25\n",
      "81         178.2      | 825        371.25\n",
      "83         182.6      | 845        380.25\n",
      "85         187.0      | 865        389.25\n",
      "87         191.4      | 885        398.25\n",
      "89         195.8      | 905        407.25\n",
      "91         200.2      | 925        416.25\n",
      "93         204.6      | 945        425.25\n",
      "95         209.0      | 965        434.25\n",
      "97         213.4      | 985        443.25\n",
      "99         217.8      | 1005       452.25\n",
      "101        222.2      | 1025       461.25\n",
      "103        226.6      | 1045       470.25\n",
      "105        231.0      | 1065       479.25\n",
      "107        235.4      | 1085       488.25\n",
      "109        239.8      | 1105       497.25\n",
      "111        244.2      | 1125       506.25\n",
      "113        248.6      | 1145       515.25\n",
      "115        253.0      | 1165       524.25\n",
      "117        257.4      | 1185       533.25\n",
      "119        261.8      | 1205       542.25\n",
      "121        266.2      | 1225       551.25\n",
      "123        270.6      | 1245       560.25\n",
      "125        275.0      | 1265       569.25\n",
      "127        279.4      | 1285       578.25\n",
      "129        283.8      | 1305       587.25\n",
      "131        288.2      | 1325       596.25\n",
      "133        292.6      | 1345       605.25\n",
      "135        297.0      | 1365       614.25\n",
      "137        301.4      | 1385       623.25\n",
      "139        305.8      | 1405       632.25\n",
      "141        310.2      | 1425       641.25\n",
      "143        314.6      | 1445       650.25\n",
      "145        319.0      | 1465       659.25\n",
      "147        323.4      | 1485       668.25\n",
      "149        327.8      | 1505       677.25\n",
      "151        332.2      | 1525       686.25\n",
      "153        336.6      | 1545       695.25\n",
      "155        341.0      | 1565       704.25\n",
      "157        345.4      | 1585       713.25\n",
      "159        349.8      | 1605       722.25\n",
      "161        354.2      | 1625       731.25\n",
      "163        358.6      | 1645       740.25\n",
      "165        363.0      | 1665       749.25\n",
      "167        367.4      | 1685       758.25\n",
      "169        371.8      | 1705       767.25\n",
      "171        376.2      | 1725       776.25\n",
      "173        380.6      | 1745       785.25\n",
      "175        385.0      | 1765       794.25\n",
      "177        389.4      | 1785       803.25\n",
      "179        393.8      | 1805       812.25\n",
      "181        398.2      | 1825       821.25\n",
      "183        402.6      | 1845       830.25\n",
      "185        407.0      | 1865       839.25\n",
      "187        411.4      | 1885       848.25\n",
      "189        415.8      | 1905       857.25\n",
      "191        420.2      | 1925       866.25\n",
      "193        424.6      | 1945       875.25\n",
      "195        429.0      | 1965       884.25\n",
      "197        433.4      | 1985       893.25\n",
      "199        437.8      | 2005       902.25\n"
     ]
    }
   ],
   "source": [
    "# 5.5\n",
    "\n",
    "print(f'{\"Kilograms\":<10} {\"Pounds\":<10} | {\"Pounds\":<10} {\"Kilograms\"}')\n",
    "\n",
    "for i in range(1, 200, 2):\n",
    "    pounds = i * 2.2\n",
    "    kilograms = (i * 10 + 15) * 0.45\n",
    "    print(f'{i:<10} {pounds:<10.1f} | {(i*10 + 15):<10} {kilograms:.2f}')"
   ]
  },
  {
   "cell_type": "code",
   "execution_count": 11,
   "metadata": {},
   "outputs": [
    {
     "name": "stdout",
     "output_type": "stream",
     "text": [
      "Miles      Kilometers | Kilometers Miles\n",
      "1          1.609      | 20         12.420\n",
      "2          3.218      | 25         15.525\n",
      "3          4.827      | 30         18.630\n",
      "4          6.436      | 35         21.735\n",
      "5          8.045      | 40         24.840\n",
      "6          9.654      | 45         27.945\n",
      "7          11.263     | 50         31.050\n",
      "8          12.872     | 55         34.155\n",
      "9          14.481     | 60         37.260\n",
      "10         16.090     | 65         40.365\n"
     ]
    }
   ],
   "source": [
    "# 5.6\n",
    "\n",
    "print(f'{\"Miles\":<10} {\"Kilometers\":<10} | {\"Kilometers\":<10} {\"Miles\"}')\n",
    "\n",
    "for i in range(1, 11):\n",
    "    kilometers = i * 1.609\n",
    "    miles = (i * 5 + 15) * 0.621\n",
    "    print(f'{i:<10} {kilometers:<10.3f} | {(i*5 + 15):<10} {miles:.3f}')"
   ]
  },
  {
   "cell_type": "code",
   "execution_count": 12,
   "metadata": {},
   "outputs": [
    {
     "name": "stdout",
     "output_type": "stream",
     "text": [
      "Degree     Sin        Cos\n",
      "0          0.0000     1.0000\n",
      "10         0.1736     0.9848\n",
      "20         0.3420     0.9397\n",
      "30         0.5000     0.8660\n",
      "40         0.6428     0.7660\n",
      "50         0.7660     0.6428\n",
      "60         0.8660     0.5000\n",
      "70         0.9397     0.3420\n",
      "80         0.9848     0.1736\n",
      "90         1.0000     0.0000\n",
      "100        0.9848     -0.1736\n",
      "110        0.9397     -0.3420\n",
      "120        0.8660     -0.5000\n",
      "130        0.7660     -0.6428\n",
      "140        0.6428     -0.7660\n",
      "150        0.5000     -0.8660\n",
      "160        0.3420     -0.9397\n",
      "170        0.1736     -0.9848\n",
      "180        0.0000     -1.0000\n",
      "190        -0.1736    -0.9848\n",
      "200        -0.3420    -0.9397\n",
      "210        -0.5000    -0.8660\n",
      "220        -0.6428    -0.7660\n",
      "230        -0.7660    -0.6428\n",
      "240        -0.8660    -0.5000\n",
      "250        -0.9397    -0.3420\n",
      "260        -0.9848    -0.1736\n",
      "270        -1.0000    -0.0000\n",
      "280        -0.9848    0.1736\n",
      "290        -0.9397    0.3420\n",
      "300        -0.8660    0.5000\n",
      "310        -0.7660    0.6428\n",
      "320        -0.6428    0.7660\n",
      "330        -0.5000    0.8660\n",
      "340        -0.3420    0.9397\n",
      "350        -0.1736    0.9848\n",
      "360        -0.0000    1.0000\n"
     ]
    }
   ],
   "source": [
    "# 5.7\n",
    "\n",
    "import math\n",
    "\n",
    "print(f'{\"Degree\":<10} {\"Sin\":<10} {\"Cos\"}')\n",
    "\n",
    "for i in range(0, 361, 10):\n",
    "    radians = math.radians(i)\n",
    "    sin_value = math.sin(radians)\n",
    "    cos_value = math.cos(radians)\n",
    "    print(f'{i:<10} {sin_value:<10.4f} {cos_value:.4f}')"
   ]
  },
  {
   "cell_type": "code",
   "execution_count": 13,
   "metadata": {},
   "outputs": [
    {
     "name": "stdout",
     "output_type": "stream",
     "text": [
      "Number     Square Root\n",
      "0          0.0000\n",
      "2          1.4142\n",
      "4          2.0000\n",
      "6          2.4495\n",
      "8          2.8284\n",
      "10         3.1623\n",
      "12         3.4641\n",
      "14         3.7417\n",
      "16         4.0000\n",
      "18         4.2426\n",
      "20         4.4721\n"
     ]
    }
   ],
   "source": [
    "# 5.8\n",
    "\n",
    "import math\n",
    "\n",
    "print(f'{\"Number\":<10} {\"Square Root\"}')\n",
    "\n",
    "for i in range(0, 21, 2):\n",
    "    sqrt_value = math.sqrt(i)\n",
    "    print(f'{i:<10} {sqrt_value:.4f}')"
   ]
  },
  {
   "cell_type": "code",
   "execution_count": 14,
   "metadata": {},
   "outputs": [
    {
     "name": "stdout",
     "output_type": "stream",
     "text": [
      "Tuition in 10 years: $16288.95\n",
      "Total cost for 4 years' worth of tuition starting 10 years from now: $73717.76\n"
     ]
    }
   ],
   "source": [
    "# 5.9\n",
    "\n",
    "tuition = 10000\n",
    "year = 0\n",
    "\n",
    "while year < 10:\n",
    "    tuition *= 1.05\n",
    "    year += 1\n",
    "\n",
    "print(f\"Tuition in 10 years: ${tuition:.2f}\")\n",
    "\n",
    "total_cost = 0\n",
    "while year < 14:\n",
    "    tuition *= 1.05\n",
    "    total_cost += tuition\n",
    "    year += 1\n",
    "\n",
    "print(f\"Total costs for 4 years of education that started 10 years later: ${total_cost:.2f}\")"
   ]
  },
  {
   "cell_type": "code",
   "execution_count": 19,
   "metadata": {},
   "outputs": [
    {
     "name": "stdout",
     "output_type": "stream",
     "text": [
      "The highest score is 64\n"
     ]
    }
   ],
   "source": [
    "# 5.10\n",
    "\n",
    "# \"score.txt\" file elimizde olmadığı için buradad farklı bir yola gidilip direkt kullanıcıdan bilgi alınmaya çalışıldı.\n",
    "\n",
    "number_of_students = int(input(\"Enter the number of students: \"))\n",
    "highest_score = 0\n",
    "\n",
    "# Buradaki döngü yapısıyla verilen sayı kadar dönüş yapılır.\n",
    "for _ in range(number_of_students):\n",
    "    score = int(input(\"Enter a student's score: \"))\n",
    "\n",
    "    if score > highest_score:\n",
    "        highest_score = score\n",
    "\n",
    "print(f\"The highest score is {highest_score}\")\n"
   ]
  },
  {
   "cell_type": "code",
   "execution_count": 20,
   "metadata": {},
   "outputs": [
    {
     "name": "stdout",
     "output_type": "stream",
     "text": [
      "The highest score is 99\n",
      "The second highest score is 54\n"
     ]
    }
   ],
   "source": [
    "# 5.11\n",
    "\n",
    "number_of_students = int(input(\"Enter the number of students: \"))\n",
    "highest_score = 0\n",
    "second_highest_score = 0\n",
    "\n",
    "for _ in range(number_of_students):\n",
    "    score = int(input(\"Enter a student's score: \"))\n",
    "\n",
    "    if score > highest_score:\n",
    "        second_highest_score = highest_score\n",
    "        highest_score = score\n",
    "    elif score > second_highest_score:\n",
    "        second_highest_score = score\n",
    "\n",
    "print(f\"The highest score is {highest_score}\")\n",
    "print(f\"The second highest score is {second_highest_score}\")"
   ]
  },
  {
   "cell_type": "code",
   "execution_count": 21,
   "metadata": {},
   "outputs": [
    {
     "name": "stdout",
     "output_type": "stream",
     "text": [
      "120 150 180 210 240 270 300 330 360 390 \n",
      "420 450 480 510 540 570 600 630 660 690 \n",
      "720 750 780 810 840 870 900 930 960 990 \n"
     ]
    }
   ],
   "source": [
    "# 5.12\n",
    "\n",
    "count = 0\n",
    "for number in range(100, 1001):\n",
    "    if number % 5 == 0 and number % 6 == 0:\n",
    "        print(number, end=' ')\n",
    "        count += 1\n",
    "        if count % 10 == 0:\n",
    "            print()"
   ]
  },
  {
   "cell_type": "code",
   "execution_count": 22,
   "metadata": {},
   "outputs": [
    {
     "name": "stdout",
     "output_type": "stream",
     "text": [
      "100 102 105 108 110 114 115 125 126 130 \n",
      "132 135 138 140 144 145 155 156 160 162 \n",
      "165 168 170 174 175 185 186 190 192 195 \n",
      "198 200 "
     ]
    }
   ],
   "source": [
    "# 5.13\n",
    "count = 0\n",
    "for number in range(100, 201):\n",
    "    if (number % 5 == 0 or number % 6 == 0) and not (number % 5 == 0 and number % 6 == 0):\n",
    "        print(number, end=' ')\n",
    "        count += 1\n",
    "        if count % 10 == 0:\n",
    "            print()"
   ]
  },
  {
   "cell_type": "code",
   "execution_count": 23,
   "metadata": {},
   "outputs": [
    {
     "name": "stdout",
     "output_type": "stream",
     "text": [
      "The smallest integer n such that n^2 is greater than 12,000 is 110\n"
     ]
    }
   ],
   "source": [
    "# 5.14\n",
    "\n",
    "n = 0\n",
    "while n**2 <= 12000:\n",
    "    n += 1\n",
    "print(f\"The smallest integer n such that n^2 is greater than 12,000 is {n}\")"
   ]
  },
  {
   "cell_type": "code",
   "execution_count": 24,
   "metadata": {},
   "outputs": [
    {
     "name": "stdout",
     "output_type": "stream",
     "text": [
      "The largest integer n such that n^3 is less than 12,000 is 22\n"
     ]
    }
   ],
   "source": [
    "# 5.15\n",
    "\n",
    "n = 0\n",
    "while (n+1)**3 < 12000:\n",
    "    n += 1\n",
    "print(f\"The largest integer n such that n^3 is less than 12,000 is {n}\")"
   ]
  }
 ],
 "metadata": {
  "kernelspec": {
   "display_name": "Python 3",
   "language": "python",
   "name": "python3"
  },
  "language_info": {
   "codemirror_mode": {
    "name": "ipython",
    "version": 3
   },
   "file_extension": ".py",
   "mimetype": "text/x-python",
   "name": "python",
   "nbconvert_exporter": "python",
   "pygments_lexer": "ipython3",
   "version": "3.12.2"
  }
 },
 "nbformat": 4,
 "nbformat_minor": 2
}
