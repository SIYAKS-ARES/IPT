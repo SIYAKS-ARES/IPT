{
 "cells": [
  {
   "cell_type": "code",
   "execution_count": null,
   "metadata": {},
   "outputs": [],
   "source": [
    "# Yorum satırları doğru kod yazımında alıştırma olması için eklenmiştir."
   ]
  },
  {
   "cell_type": "code",
   "execution_count": 1,
   "metadata": {},
   "outputs": [
    {
     "name": "stdout",
     "output_type": "stream",
     "text": [
      "The equation has no real roots.\n"
     ]
    }
   ],
   "source": [
    "# 4.1\n",
    "\n",
    "# Matematik kütüphanesi eklenir.\n",
    "import math\n",
    "\n",
    "# Değişkenler float tanımlı bir şekilde kullanıcıdan denklemin katsayıları istenir.\n",
    "a = float(input(\"Enter the coefficient a: \"))\n",
    "b = float(input(\"Enter the coefficient b: \"))\n",
    "c = float(input(\"Enter the coefficient c: \"))\n",
    "\n",
    "# Discriminant hesaplanır.\n",
    "discriminant = b**2 - 4*a*c\n",
    "\n",
    "# Gerekli koşul durumları kontrol edilir, rootlar hesaplanır, kullanıcıya çıktı verilir.\n",
    "if discriminant > 0:\n",
    "    root1 = (-b + math.sqrt(discriminant)) / (2*a) \n",
    "    root2 = (-b - math.sqrt(discriminant)) / (2*a)\n",
    "    print(f\"The equation has two roots: {root1} and {root2}\")\n",
    "# F-sözdizimi, çıkış mesajlarına root'ların değerlerini eklemek için kullanıldı.\n",
    "elif discriminant == 0:\n",
    "    root = -b / (2*a)\n",
    "    print(f\"The equation has one root: {root}\")\n",
    "else:\n",
    "    print(\"The equation has no real roots.\")"
   ]
  },
  {
   "cell_type": "code",
   "execution_count": 3,
   "metadata": {},
   "outputs": [
    {
     "name": "stdout",
     "output_type": "stream",
     "text": [
      "Enter the sum of 7, 0, and 5\n",
      "Correct!\n"
     ]
    }
   ],
   "source": [
    "# 4.2\n",
    "\n",
    "# Rastgele sayı üretmek için gerekli kütüphane eklenir.\n",
    "import random\n",
    "\n",
    "# Rastgele olarak üç sayı tanımlanır.\n",
    "num1 = random.randint(0, 9)\n",
    "num2 = random.randint(0, 9)\n",
    "num3 = random.randint(0, 9)\n",
    "\n",
    "# Kulanıcıdan numaraların toplamını girmesi istenir, \"user_sum\" ile hafızaya alınır ve kullanıcıya girdiği cevap gösterilir.\n",
    "print(f\"Enter the sum of {num1}, {num2}, and {num3}\")\n",
    "user_sum = int(input(\"Your answer: \"))\n",
    "\n",
    "# Gerçek cevap hesaplanır.\n",
    "pc_sum = num1 + num2 + num3\n",
    "\n",
    "# Gerekli koşul durumları kontrol edilerek kullanıcıya çıktı verilir.\n",
    "if user_sum == pc_sum:\n",
    "    print(\"Correct!\")\n",
    "else:\n",
    "    print(f\"Wrong. The correct answer is {pc_sum}.\")"
   ]
  },
  {
   "cell_type": "code",
   "execution_count": 4,
   "metadata": {},
   "outputs": [
    {
     "name": "stdout",
     "output_type": "stream",
     "text": [
      "x is -4.0 and y is 4.5\n"
     ]
    }
   ],
   "source": [
    "# 4.3\n",
    "\n",
    "# Kullanıcıdan sayılar istenir.\n",
    "a = float(input(\"Enter a: \"))\n",
    "b = float(input(\"Enter b: \"))\n",
    "c = float(input(\"Enter c: \"))\n",
    "d = float(input(\"Enter d: \"))\n",
    "e = float(input(\"Enter e: \"))\n",
    "f = float(input(\"Enter f: \"))\n",
    "\n",
    "# Önce 0 olma durumu kontrol edilerek kod temiz tutulur.  Ardından koşullar kontrol edilip kullanıcıya çıktı verilir.\n",
    "if a * d - b * c == 0:\n",
    "    print(\"The equation has no solution.\")\n",
    "else:\n",
    "    # Hesaplamalar yapılarak kullanıcıya sonuçlar çıktı olarak verilir.\n",
    "    x = (e * d - b * f) / (a * d - b * c)\n",
    "    y = (a * f - e * c) / (a * d - b * c)\n",
    "    print(f\"x is {x} and y is {y}\")"
   ]
  },
  {
   "cell_type": "code",
   "execution_count": 5,
   "metadata": {},
   "outputs": [
    {
     "name": "stdout",
     "output_type": "stream",
     "text": [
      "Enter the sum of 48 and 52\n",
      "False\n"
     ]
    }
   ],
   "source": [
    "# 4.4\n",
    "\n",
    "# Gerekli kütüphane eklenir.\n",
    "import random\n",
    "\n",
    "# 0 ile 100 arası rastgele iki sayı tanımlanır.\n",
    "num1 = random.randint(0, 99)\n",
    "num2 = random.randint(0, 99)\n",
    "\n",
    "# Kullanıcıdan toplamlarının girilmesi istenir.\n",
    "print(f\"Enter the sum of {num1} and {num2}\")\n",
    "\n",
    "# Kulanıcıdan numaraların toplamını girmesi istenir, \"user_sum\" ile hafızaya alınır ve kullanıcıya girdiği cevap gösterilir.\n",
    "user_sum = int(input(\"Your answer: \"))\n",
    "\n",
    "# Gerekli koşul durumları kontrol edilip kullanıcıya çıktı verilir.\n",
    "if user_sum == num1 + num2:\n",
    "    print(True)\n",
    "else:\n",
    "    print(False)"
   ]
  },
  {
   "cell_type": "code",
   "execution_count": null,
   "metadata": {},
   "outputs": [],
   "source": [
    "# 4.5\n",
    "\n",
    "# Haftanın günleri bir dizi/liste içine, ilk gün sıfır ile başlayacağından dolayı, alınır.\n",
    "days = [\"Sunday\", \"Monday\", \"Tuesday\", \"Wednesday\", \"Thursday\", \"Friday\", \"Saturday\"]\n",
    "\n",
    "# Kullanıcıya haftanın hangi gününde olunduğu sorulur. \"today\" değişkeni ile hafızaya alınır.\n",
    "today = int(input(\"Enter today's day (Sunday is 0, Monday is 1, ..., and Saturday is 6): \"))\n",
    "\n",
    "# Prompt the user to enter the number of days after today\n",
    "elapsed_days = int(input(\"Enter the number of days elapsed since today: \"))\n",
    "\n",
    "# Calculate the future day of the week\n",
    "future_day = (today + elapsed_days) % 7\n",
    "\n",
    "# Display the result\n",
    "print(f\"Today is {days[today]} and the future day is {days[future_day]}\")\n"
   ]
  }
 ],
 "metadata": {
  "kernelspec": {
   "display_name": "Python 3",
   "language": "python",
   "name": "python3"
  },
  "language_info": {
   "codemirror_mode": {
    "name": "ipython",
    "version": 3
   },
   "file_extension": ".py",
   "mimetype": "text/x-python",
   "name": "python",
   "nbconvert_exporter": "python",
   "pygments_lexer": "ipython3",
   "version": "3.12.2"
  }
 },
 "nbformat": 4,
 "nbformat_minor": 2
}
