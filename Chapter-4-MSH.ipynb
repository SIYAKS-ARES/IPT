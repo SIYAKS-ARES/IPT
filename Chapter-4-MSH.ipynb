{
 "cells": [
  {
   "cell_type": "code",
   "execution_count": null,
   "metadata": {},
   "outputs": [],
   "source": [
    "# Yorum satırları doğru kod yazımında alıştırma olması için eklenmiştir."
   ]
  },
  {
   "cell_type": "code",
   "execution_count": 1,
   "metadata": {},
   "outputs": [
    {
     "name": "stdout",
     "output_type": "stream",
     "text": [
      "The equation has no real roots.\n"
     ]
    }
   ],
   "source": [
    "# 4.1\n",
    "\n",
    "# Matematik kütüphanesi eklenir.\n",
    "import math\n",
    "\n",
    "# Değişkenler float tanımlı bir şekilde kullanıcıdan denklemin katsayıları istenir.\n",
    "a = float(input(\"Enter the coefficient a: \"))\n",
    "b = float(input(\"Enter the coefficient b: \"))\n",
    "c = float(input(\"Enter the coefficient c: \"))\n",
    "\n",
    "# Discriminant hesaplanır.\n",
    "discriminant = b**2 - 4*a*c\n",
    "\n",
    "# Gerekli koşul durumları kontrol edilir, rootlar hesaplanır, kullanıcıya çıktı verilir.\n",
    "if discriminant > 0:\n",
    "    root1 = (-b + math.sqrt(discriminant)) / (2*a) \n",
    "    root2 = (-b - math.sqrt(discriminant)) / (2*a)\n",
    "    print(f\"The equation has two roots: {root1} and {root2}\")\n",
    "# F-sözdizimi, çıkış mesajlarına root'ların değerlerini eklemek için kullanıldı.\n",
    "elif discriminant == 0:\n",
    "    root = -b / (2*a)\n",
    "    print(f\"The equation has one root: {root}\")\n",
    "else:\n",
    "    print(\"The equation has no real roots.\")"
   ]
  },
  {
   "cell_type": "code",
   "execution_count": 3,
   "metadata": {},
   "outputs": [
    {
     "name": "stdout",
     "output_type": "stream",
     "text": [
      "Enter the sum of 7, 0, and 5\n",
      "Correct!\n"
     ]
    }
   ],
   "source": [
    "# 4.2\n",
    "\n",
    "# Rastgele sayı üretmek için gerekli kütüphane eklenir.\n",
    "import random\n",
    "\n",
    "# Rastgele olarak üç sayı tanımlanır.\n",
    "num1 = random.randint(0, 9)\n",
    "num2 = random.randint(0, 9)\n",
    "num3 = random.randint(0, 9)\n",
    "\n",
    "# Kulanıcıdan numaraların toplamını girmesi istenir, \"user_sum\" ile hafızaya alınır ve kullanıcıya girdiği cevap gösterilir.\n",
    "print(f\"Enter the sum of {num1}, {num2}, and {num3}\")\n",
    "user_sum = int(input(\"Your answer: \"))\n",
    "\n",
    "# Gerçek cevap hesaplanır.\n",
    "pc_sum = num1 + num2 + num3\n",
    "\n",
    "# Gerekli koşul durumları kontrol edilerek kullanıcıya çıktı verilir.\n",
    "if user_sum == pc_sum:\n",
    "    print(\"Correct!\")\n",
    "else:\n",
    "    print(f\"Wrong. The correct answer is {pc_sum}.\")"
   ]
  },
  {
   "cell_type": "code",
   "execution_count": 4,
   "metadata": {},
   "outputs": [
    {
     "name": "stdout",
     "output_type": "stream",
     "text": [
      "x is -4.0 and y is 4.5\n"
     ]
    }
   ],
   "source": [
    "# 4.3\n",
    "\n",
    "# Kullanıcıdan sayılar istenir.\n",
    "a = float(input(\"Enter a: \"))\n",
    "b = float(input(\"Enter b: \"))\n",
    "c = float(input(\"Enter c: \"))\n",
    "d = float(input(\"Enter d: \"))\n",
    "e = float(input(\"Enter e: \"))\n",
    "f = float(input(\"Enter f: \"))\n",
    "\n",
    "# Önce 0 olma durumu kontrol edilerek kod temiz tutulur.  Ardından koşullar kontrol edilip kullanıcıya çıktı verilir.\n",
    "if a * d - b * c == 0:\n",
    "    print(\"The equation has no solution.\")\n",
    "else:\n",
    "    # Hesaplamalar yapılarak kullanıcıya sonuçlar çıktı olarak verilir.\n",
    "    x = (e * d - b * f) / (a * d - b * c)\n",
    "    y = (a * f - e * c) / (a * d - b * c)\n",
    "    print(f\"x is {x} and y is {y}\")"
   ]
  },
  {
   "cell_type": "code",
   "execution_count": 5,
   "metadata": {},
   "outputs": [
    {
     "name": "stdout",
     "output_type": "stream",
     "text": [
      "Enter the sum of 48 and 52\n",
      "False\n"
     ]
    }
   ],
   "source": [
    "# 4.4\n",
    "\n",
    "# Gerekli kütüphane eklenir.\n",
    "import random\n",
    "\n",
    "# 0 ile 100 arası rastgele iki sayı tanımlanır.\n",
    "num1 = random.randint(0, 99)\n",
    "num2 = random.randint(0, 99)\n",
    "\n",
    "# Kullanıcıdan toplamlarının girilmesi istenir.\n",
    "print(f\"Enter the sum of {num1} and {num2}\")\n",
    "\n",
    "# Kulanıcıdan numaraların toplamını girmesi istenir, \"user_sum\" ile hafızaya alınır ve kullanıcıya girdiği cevap gösterilir.\n",
    "user_sum = int(input(\"Your answer: \"))\n",
    "\n",
    "# Gerekli koşul durumları kontrol edilip kullanıcıya çıktı verilir.\n",
    "if user_sum == num1 + num2:\n",
    "    print(True)\n",
    "else:\n",
    "    print(False)"
   ]
  },
  {
   "cell_type": "code",
   "execution_count": 1,
   "metadata": {},
   "outputs": [
    {
     "name": "stdout",
     "output_type": "stream",
     "text": [
      "Today is Sunday and the future day is Saturday\n"
     ]
    }
   ],
   "source": [
    "# 4.5\n",
    "\n",
    "# Haftanın günleri bir dizi/liste içine, ilk gün sıfır ile başlayacağından dolayı, alınır.\n",
    "days = [\"Sunday\", \"Monday\", \"Tuesday\", \"Wednesday\", \"Thursday\", \"Friday\", \"Saturday\"]\n",
    "\n",
    "# Kullanıcıya haftanın hangi gününde olunduğu sorulur. \"today\" değişkeni ile hafızaya alınır.\n",
    "today = int(input(\"Enter today's day (Sunday is 0, Monday is 1, ..., and Saturday is 6): \"))\n",
    "\n",
    "# Kullanıcıya kaç gün geçtiği sorulur\n",
    "elapsed_days = int(input(\"Enter the number of days elapsed since today: \"))\n",
    "\n",
    "# GÜn hesaplanır\n",
    "future_day = (today + elapsed_days) % 7\n",
    "\n",
    "# Sonuç gösterilir.\n",
    "print(f\"Today is {days[today]} and the future day is {days[future_day]}\")\n"
   ]
  },
  {
   "cell_type": "code",
   "execution_count": 1,
   "metadata": {},
   "outputs": [
    {
     "name": "stdout",
     "output_type": "stream",
     "text": [
      "BMI:  23.671253629592222\n",
      "You are normal\n"
     ]
    }
   ],
   "source": [
    "# 4.6\n",
    "\n",
    "# Kullanıcıdan boy değerleri metre ve cm, ağırlık değeri kilogram cinsinden istenir.\n",
    "height_m = float(input(\"Please enter the height in meters: \"))\n",
    "height_cm = float(input(\"Please enter remaining height in centimeters: \"))\n",
    "weight = float(input(\"Please enter weight in kg: \"))\n",
    "\n",
    "# Boyu santimetre cinsinden metre cinsine çevirip BMI hesabı yapıp ekrana yazdırılır.\n",
    "height_total = height_m + height_cm/100\n",
    "BMI = weight/(height_total**2)\n",
    "print(\"BMI: \",BMI)\n",
    "\n",
    "# Koşullar ile kullanıcının durumu karşılaştırılıp kullanıcıya verilir.\n",
    "if BMI < 18:\n",
    "    print(\"You are underweight\")\n",
    "elif BMI < 25:\n",
    "    print(\"You are normal\")\n",
    "elif BMI <30:\n",
    "    print(\"You are overweight\")\n",
    "else:\n",
    "    print(\"You are obese\")"
   ]
  },
  {
   "cell_type": "code",
   "execution_count": 2,
   "metadata": {},
   "outputs": [
    {
     "name": "stdout",
     "output_type": "stream",
     "text": [
      "Your amount 14.67 consists of:\n",
      "\t 14 dollars\n",
      "\t 2 quarters\n",
      "\t 1 dime\n",
      "\t 1 nickel\n",
      "\t 2 penies\n"
     ]
    }
   ],
   "source": [
    "# 4.7\n",
    "\n",
    "# Receive the amount\n",
    "amount = eval(input(\"Enter an amount, for example, 11.56: \"))\n",
    "# Convert the amount to cents\n",
    "remainingAmount = int(amount * 100)\n",
    "# Find the number of one dollars\n",
    "dollars = remainingAmount // 100\n",
    "remainingAmount = remainingAmount % 100\n",
    "# Find the number of quarters in the remaining amount\n",
    "quarters = remainingAmount // 25\n",
    "remainingAmount = remainingAmount % 25\n",
    "# Find the number of dimes in the remaining amount\n",
    "dimes = remainingAmount // 10\n",
    "remainingAmount = remainingAmount % 10\n",
    "# Find the number of nickels in the remaining amount\n",
    "nickels = remainingAmount // 5\n",
    "remainingAmount = remainingAmount % 5\n",
    "# Find the number of pennies in the remaining amount\n",
    "pennies = remainingAmount\n",
    "# Display the results\n",
    "print(\"Your amount\", amount, \"consists of:\")\n",
    "\n",
    "if dollars == 1:\n",
    "    print(\"\\t\", dollars, \"dollar\")\n",
    "else:\n",
    "    print(\"\\t\", dollars, \"dollars\")\n",
    "if quarters == 1:\n",
    "    print(\"\\t\", quarters, \"quarter\")\n",
    "else:\n",
    "    print(\"\\t\", quarters, \"quarters\")\n",
    "if dimes == 1:\n",
    "    print(\"\\t\", dimes, \"dime\")\n",
    "else:\n",
    "    print(\"\\t\", dimes, \"dimes\")\n",
    "if nickels == 1:\n",
    "    print(\"\\t\", nickels, \"nickel\")\n",
    "else:\n",
    "    print(\"\\t\", nickels, \"nickels\")\n",
    "if pennies == 1:\n",
    "    print(\"\\t\", pennies, \"pennie\")\n",
    "else:\n",
    "    print(\"\\t\", pennies, \"penies\")"
   ]
  },
  {
   "cell_type": "code",
   "execution_count": 3,
   "metadata": {},
   "outputs": [
    {
     "name": "stdout",
     "output_type": "stream",
     "text": [
      "The numbers in increasing order are: 1.0 2.0 3.0\n"
     ]
    }
   ],
   "source": [
    "# 4.8\n",
    "\n",
    "num1 = float(input(\"Please enter first number:\"))\n",
    "num2 = float(input(\"Please enter second number:\"))\n",
    "num3 = float(input(\"Please enter third number:\"))\n",
    "\n",
    "sorted_nums = sorted([num1,num2,num3])\n",
    "\n",
    "print(\"The numbers in increasing order are:\",sorted_nums[0],sorted_nums[1],sorted_nums[2])\n"
   ]
  }
 ],
 "metadata": {
  "kernelspec": {
   "display_name": "Python 3",
   "language": "python",
   "name": "python3"
  },
  "language_info": {
   "codemirror_mode": {
    "name": "ipython",
    "version": 3
   },
   "file_extension": ".py",
   "mimetype": "text/x-python",
   "name": "python",
   "nbconvert_exporter": "python",
   "pygments_lexer": "ipython3",
   "version": "3.12.2"
  }
 },
 "nbformat": 4,
 "nbformat_minor": 2
}
