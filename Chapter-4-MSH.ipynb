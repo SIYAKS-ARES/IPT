{
 "cells": [
  {
   "cell_type": "markdown",
   "metadata": {},
   "source": [
    "# Yorum satırları ve kod içi İngilizce kısımlar doğru kod yazımında alıştırma olması için eklenmiştir. İlerleyen süreçte yorum satırları da İngilizce olarak eklenecektir."
   ]
  },
  {
   "cell_type": "code",
   "execution_count": 1,
   "metadata": {},
   "outputs": [
    {
     "name": "stdout",
     "output_type": "stream",
     "text": [
      "The equation has no real roots.\n"
     ]
    }
   ],
   "source": [
    "# 4.1\n",
    "\n",
    "# Matematik kütüphanesi eklenir.\n",
    "import math\n",
    "\n",
    "# Değişkenler float tanımlı bir şekilde kullanıcıdan denklemin katsayıları istenir.\n",
    "a = float(input(\"Enter the coefficient a: \"))\n",
    "b = float(input(\"Enter the coefficient b: \"))\n",
    "c = float(input(\"Enter the coefficient c: \"))\n",
    "\n",
    "# Discriminant hesaplanır.\n",
    "discriminant = b**2 - 4*a*c\n",
    "\n",
    "# Gerekli koşul durumları kontrol edilir, rootlar hesaplanır, kullanıcıya çıktı verilir.\n",
    "if discriminant > 0:\n",
    "    root1 = (-b + math.sqrt(discriminant)) / (2*a) \n",
    "    root2 = (-b - math.sqrt(discriminant)) / (2*a)\n",
    "    print(f\"The equation has two roots: {root1} and {root2}\")\n",
    "# F-sözdizimi, çıkış mesajlarına root'ların değerlerini eklemek için kullanıldı.\n",
    "elif discriminant == 0:\n",
    "    root = -b / (2*a)\n",
    "    print(f\"The equation has one root: {root}\")\n",
    "else:\n",
    "    print(\"The equation has no real roots.\")"
   ]
  },
  {
   "cell_type": "code",
   "execution_count": 3,
   "metadata": {},
   "outputs": [
    {
     "name": "stdout",
     "output_type": "stream",
     "text": [
      "Enter the sum of 7, 0, and 5\n",
      "Correct!\n"
     ]
    }
   ],
   "source": [
    "# 4.2\n",
    "\n",
    "# Rastgele sayı üretmek için gerekli kütüphane eklenir.\n",
    "import random\n",
    "\n",
    "# Rastgele olarak üç sayı tanımlanır.\n",
    "num1 = random.randint(0, 9)\n",
    "num2 = random.randint(0, 9)\n",
    "num3 = random.randint(0, 9)\n",
    "\n",
    "# Kulanıcıdan numaraların toplamını girmesi istenir, \"user_sum\" ile hafızaya alınır ve kullanıcıya girdiği cevap gösterilir.\n",
    "print(f\"Enter the sum of {num1}, {num2}, and {num3}\")\n",
    "user_sum = int(input(\"Your answer: \"))\n",
    "\n",
    "# Gerçek cevap hesaplanır.\n",
    "pc_sum = num1 + num2 + num3\n",
    "\n",
    "# Gerekli koşul durumları kontrol edilerek kullanıcıya çıktı verilir.\n",
    "if user_sum == pc_sum:\n",
    "    print(\"Correct!\")\n",
    "else:\n",
    "    print(f\"Wrong. The correct answer is {pc_sum}.\")"
   ]
  },
  {
   "cell_type": "code",
   "execution_count": 4,
   "metadata": {},
   "outputs": [
    {
     "name": "stdout",
     "output_type": "stream",
     "text": [
      "x is -4.0 and y is 4.5\n"
     ]
    }
   ],
   "source": [
    "# 4.3\n",
    "\n",
    "# Kullanıcıdan sayılar istenir.\n",
    "a = float(input(\"Enter a: \"))\n",
    "b = float(input(\"Enter b: \"))\n",
    "c = float(input(\"Enter c: \"))\n",
    "d = float(input(\"Enter d: \"))\n",
    "e = float(input(\"Enter e: \"))\n",
    "f = float(input(\"Enter f: \"))\n",
    "\n",
    "# Önce 0 olma durumu kontrol edilerek kod temiz tutulur.  Ardından koşullar kontrol edilip kullanıcıya çıktı verilir.\n",
    "if a * d - b * c == 0:\n",
    "    print(\"The equation has no solution.\")\n",
    "else:\n",
    "    # Hesaplamalar yapılarak kullanıcıya sonuçlar çıktı olarak verilir.\n",
    "    x = (e * d - b * f) / (a * d - b * c)\n",
    "    y = (a * f - e * c) / (a * d - b * c)\n",
    "    print(f\"x is {x} and y is {y}\")"
   ]
  },
  {
   "cell_type": "code",
   "execution_count": 5,
   "metadata": {},
   "outputs": [
    {
     "name": "stdout",
     "output_type": "stream",
     "text": [
      "Enter the sum of 48 and 52\n",
      "False\n"
     ]
    }
   ],
   "source": [
    "# 4.4\n",
    "\n",
    "# Gerekli kütüphane eklenir.\n",
    "import random\n",
    "\n",
    "# 0 ile 100 arası rastgele iki sayı tanımlanır.\n",
    "num1 = random.randint(0, 99)\n",
    "num2 = random.randint(0, 99)\n",
    "\n",
    "# Kullanıcıdan toplamlarının girilmesi istenir.\n",
    "print(f\"Enter the sum of {num1} and {num2}\")\n",
    "\n",
    "# Kulanıcıdan numaraların toplamını girmesi istenir, \"user_sum\" ile hafızaya alınır ve kullanıcıya girdiği cevap gösterilir.\n",
    "user_sum = int(input(\"Your answer: \"))\n",
    "\n",
    "# Gerekli koşul durumları kontrol edilip kullanıcıya çıktı verilir.\n",
    "if user_sum == num1 + num2:\n",
    "    print(True)\n",
    "else:\n",
    "    print(False)"
   ]
  },
  {
   "cell_type": "code",
   "execution_count": 6,
   "metadata": {},
   "outputs": [
    {
     "name": "stdout",
     "output_type": "stream",
     "text": [
      "Today is Wednesday and the future day is Monday\n"
     ]
    }
   ],
   "source": [
    "# 4.5\n",
    "\n",
    "# Haftanın günleri bir dizi/liste içine, ilk gün sıfır ile başlayacağından dolayı, alınır.\n",
    "days = [\"Sunday\", \"Monday\", \"Tuesday\", \"Wednesday\", \"Thursday\", \"Friday\", \"Saturday\"]\n",
    "\n",
    "# Kullanıcıya haftanın hangi gününde olunduğu sorulur. \"today\" değişkeni ile hafızaya alınır.\n",
    "today = int(input(\"Enter today's day (Sunday is 0, Monday is 1, ..., and Saturday is 6): \"))\n",
    "\n",
    "# Prompt the user to enter the number of days after today\n",
    "elapsed_days = int(input(\"Enter the number of days elapsed since today: \"))\n",
    "\n",
    "# Calculate the future day of the week\n",
    "future_day = (today + elapsed_days) % 7\n",
    "\n",
    "# Display the result\n",
    "print(f\"Today is {days[today]} and the future day is {days[future_day]}\")\n"
   ]
  },
  {
   "cell_type": "code",
   "execution_count": 1,
   "metadata": {},
   "outputs": [
    {
     "name": "stdout",
     "output_type": "stream",
     "text": [
      "BMI:  23.671253629592222\n",
      "You are normal\n"
     ]
    }
   ],
   "source": [
    "# 4.6\n",
    "\n",
    "# Kullanıcıdan boy değerleri metre ve cm, ağırlık değeri kilogram cinsinden istenir.\n",
    "height_m = float(input(\"Please enter the height in meters: \"))\n",
    "height_cm = float(input(\"Please enter remaining height in centimeters: \"))\n",
    "weight = float(input(\"Please enter weight in kg: \"))\n",
    "\n",
    "# Boyu santimetre cinsinden metre cinsine çevirip BMI hesabı yapıp ekrana yazdırılır.\n",
    "height_total = height_m + height_cm/100\n",
    "BMI = weight/(height_total**2)\n",
    "print(\"BMI: \",BMI)\n",
    "\n",
    "# Koşullar ile kullanıcının durumu karşılaştırılıp kullanıcıya verilir.\n",
    "if BMI < 18:\n",
    "    print(\"You are underweight\")\n",
    "elif BMI < 25:\n",
    "    print(\"You are normal\")\n",
    "elif BMI <30:\n",
    "    print(\"You are overweight\")\n",
    "else:\n",
    "    print(\"You are obese\")"
   ]
  },
  {
   "cell_type": "code",
   "execution_count": 5,
   "metadata": {},
   "outputs": [
    {
     "name": "stdout",
     "output_type": "stream",
     "text": [
      "Your amount 123.42 consists of:\n",
      "\t 123 dollars\n",
      "\t 1 quarter\n",
      "\t 1 dime\n",
      "\t 1 nickel\n",
      "\t 2 penies\n"
     ]
    }
   ],
   "source": [
    "# 4.7\n",
    "\n",
    "# Kullanıcıdan düzenlenmesi istenen miktar alınır.\n",
    "amount = eval(input(\"Enter an amount, for example, 11.56: \"))\n",
    "\n",
    "# Miktarı cents'lere dönüştürülür.\n",
    "remainingAmount = int(amount * 100)\n",
    "\n",
    "# Banknot ve madeni para miktarları hesaplanır.\n",
    "dollars = remainingAmount // 100\n",
    "remainingAmount %= 100\n",
    "\n",
    "quarters = remainingAmount // 25\n",
    "remainingAmount %= 25\n",
    "\n",
    "dimes = remainingAmount // 10\n",
    "remainingAmount %= 10\n",
    "\n",
    "nickels = remainingAmount // 5\n",
    "remainingAmount %= 5\n",
    "\n",
    "pennies = remainingAmount\n",
    "\n",
    "# Sonuçlar kullanıcıya koşullar ile kontrol edilip sunulur.\n",
    "print(\"Your amount\", amount, \"consists of:\")\n",
    "\n",
    "if dollars == 1:\n",
    "    print(\"\\t\", dollars, \"dollar\")\n",
    "else:\n",
    "    print(\"\\t\", dollars, \"dollars\")\n",
    "if quarters == 1:\n",
    "    print(\"\\t\", quarters, \"quarter\")\n",
    "else:\n",
    "    print(\"\\t\", quarters, \"quarters\")\n",
    "if dimes == 1:\n",
    "    print(\"\\t\", dimes, \"dime\")\n",
    "else:\n",
    "    print(\"\\t\", dimes, \"dimes\")\n",
    "if nickels == 1:\n",
    "    print(\"\\t\", nickels, \"nickel\")\n",
    "else:\n",
    "    print(\"\\t\", nickels, \"nickels\")\n",
    "if pennies == 1:\n",
    "    print(\"\\t\", pennies, \"pennie\")\n",
    "else:\n",
    "    print(\"\\t\", pennies, \"penies\")"
   ]
  },
  {
   "cell_type": "code",
   "execution_count": 3,
   "metadata": {},
   "outputs": [
    {
     "name": "stdout",
     "output_type": "stream",
     "text": [
      "The numbers in increasing order are: 134.0 232.0 2345.0\n"
     ]
    }
   ],
   "source": [
    "    # 4.8\n",
    "\n",
    "num1 = float(input(\"Please enter first number:\"))\n",
    "num2 = float(input(\"Please enter second number:\"))\n",
    "num3 = float(input(\"Please enter third number:\"))\n",
    "\n",
    "sorted_nums = sorted([num1,num2,num3])\n",
    "\n",
    "print(\"The numbers in increasing order are:\",sorted_nums[0],sorted_nums[1],sorted_nums[2])"
   ]
  },
  {
   "cell_type": "code",
   "execution_count": 7,
   "metadata": {},
   "outputs": [
    {
     "name": "stdout",
     "output_type": "stream",
     "text": [
      "Package 2 has the better price.\n"
     ]
    }
   ],
   "source": [
    "# 4.9\n",
    "\n",
    "# Kullanıcıdan ilk ve ikinci paketlerin ağırlık ve fiyat bilgisi alınır.\n",
    "weight1 = float(input(\"Enter the weight of the first package: \"))\n",
    "price1 = float(input(\"Enter the price of the first package: \"))\n",
    "\n",
    "weight2 = float(input(\"Enter the weight of the second package: \"))\n",
    "price2 = float(input(\"Enter the price of the second package: \"))\n",
    "\n",
    "# Gerekli hesaplamalar yapılır.\n",
    "unit_price1 = price1 / weight1\n",
    "unit_price2 = price2 / weight2\n",
    "\n",
    "# Gerekli koşullar ile kullanıcıya çıktı verilir.\n",
    "if unit_price1 < unit_price2:\n",
    "    print(\"Package 1 has the better price.\")\n",
    "elif unit_price1 > unit_price2:\n",
    "    print(\"Package 2 has the better price.\")\n",
    "else:\n",
    "    print(\"Both packages have the same price.\")"
   ]
  },
  {
   "cell_type": "code",
   "execution_count": 8,
   "metadata": {},
   "outputs": [
    {
     "name": "stdout",
     "output_type": "stream",
     "text": [
      "You are correct!\n"
     ]
    }
   ],
   "source": [
    "# 4.10\n",
    "\n",
    "import random\n",
    "\n",
    "# Yüzden küçük rastgele iki sayı üretilip hafızaya alınır.\n",
    "number1 = random.randint(0, 99)\n",
    "number2 = random.randint(0, 99)\n",
    "\n",
    "# Kullanıcıdan hesaplama sonucu istenir.\n",
    "answer = eval(input(\"What is \" + str(number1) + \" * \" + str(number2) + \"? \"))\n",
    "\n",
    "# Kullanıcan alınan cevap kontrol edilip kullanıcıya çıktı verilir.\n",
    "if number1 * number2 == answer:\n",
    "    print(\"You are correct!\")\n",
    "else:\n",
    "    print(\"Your answer is wrong.\\n\", number1, '*', number2, \"is\", number1 * number2, '.')\n"
   ]
  },
  {
   "cell_type": "code",
   "execution_count": 11,
   "metadata": {},
   "outputs": [
    {
     "name": "stdout",
     "output_type": "stream",
     "text": [
      "February 12312412 has 29 days\n"
     ]
    }
   ],
   "source": [
    "# 4.11\n",
    "\n",
    "# Kullanıcıdan ay ve yılı girmesi istenir.\n",
    "month = int(input(\"Enter the month (1-12): \"))\n",
    "year = int(input(\"Enter the year: \"))\n",
    "\n",
    "# Önce şubat ayı kontrol edilir, ardından diğer kontroller ile birlikte kullanıcıya çıktı verilir. \n",
    "if month == 2:\n",
    "# Burada en kısa nasıl yapabılabilceğini araştırıp bulduklarımı koda\n",
    "    if year % 4 == 0 and year % 100 != 0 or year % 400 == 0:\n",
    "        print(f\"February {year} has 29 days\")\n",
    "    else:\n",
    "        print(f\"February {year} has 28 days\")\n",
    "\n",
    "elif month == 4 or month == 6 or month == 9 or m == 11:\n",
    "    print(f\"Month {month} of year {year} has 30 days\")\n",
    "elif month == 1 or month == 3 or month == 5 or month == 7 or month == 8 or month == 10 or month == 12:\n",
    "    print(f\"Month {month} of year {year} has 31 days\")\n",
    "else:\n",
    "    print(\"Invalid month entered.\")"
   ]
  },
  {
   "cell_type": "code",
   "execution_count": 3,
   "metadata": {},
   "outputs": [
    {
     "name": "stdout",
     "output_type": "stream",
     "text": [
      "Is 15 divisible by 5 and 6? False\n",
      "Is 15 divisible by 5 or 6? True\n",
      "Is 15 divisible by 5 or 6, but not both? True\n"
     ]
    }
   ],
   "source": [
    "# 4.12\n",
    "\n",
    "# Kullanıcıdan bir sayı istenir.\n",
    "number = int(input(\"Enter an integer: \"))\n",
    "\n",
    "# Kullanıcıdan alınan sayının bölünüp bölünmeme durumu kontrol edilir.\n",
    "divisible_by_5_and_6 = (number % 5 == 0) and (number % 6 == 0)\n",
    "\n",
    "divisible_by_5_or_6 = (number % 5 == 0) or (number % 6 == 0)\n",
    "\n",
    "divisible_byOnly_5_or_6 = (number % 5 == 0) != (number % 6 == 0)\n",
    "\n",
    "# Kullanıcıya sonuçlar verilir.\n",
    "print(f\"Is {number} divisible by 5 and 6? {divisible_by_5_and_6}\")\n",
    "print(f\"Is {number} divisible by 5 or 6? {divisible_by_5_or_6}\")\n",
    "print(f\"Is {number} divisible by 5 or 6, but not both? {divisible_byOnly_5_or_6}\")\n"
   ]
  }
 ],
 "metadata": {
  "kernelspec": {
   "display_name": "Python 3",
   "language": "python",
   "name": "python3"
  },
  "language_info": {
   "codemirror_mode": {
    "name": "ipython",
    "version": 3
   },
   "file_extension": ".py",
   "mimetype": "text/x-python",
   "name": "python",
   "nbconvert_exporter": "python",
   "pygments_lexer": "ipython3",
   "version": "3.12.2"
  }
 },
 "nbformat": 4,
 "nbformat_minor": 2
}
