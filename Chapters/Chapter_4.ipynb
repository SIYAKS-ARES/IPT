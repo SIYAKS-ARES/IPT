{
  "nbformat": 4,
  "nbformat_minor": 0,
  "metadata": {
    "colab": {
      "provenance": [],
      "toc_visible": true
    },
    "kernelspec": {
      "name": "python3",
      "display_name": "Python 3"
    },
    "language_info": {
      "name": "python"
    }
  },
  "cells": [
    {
      "cell_type": "code",
      "execution_count": null,
      "metadata": {
        "colab": {
          "base_uri": "https://localhost:8080/"
        },
        "id": "TjYv1vagtHr3",
        "outputId": "136e9268-8e9b-45f5-8f0a-700307d40a16"
      },
      "outputs": [
        {
          "output_type": "stream",
          "name": "stdout",
          "text": [
            "a'nın değerini girin: 16\n",
            "b'nin değerini girin: 25\n",
            "c'nin değerini girin: 36\n",
            "Denklemin gerçek kökü yoktur.\n"
          ]
        }
      ],
      "source": [
        "#1\n",
        "def kok_bul(a, b, c):\n",
        "    discriminant = b ** 2 - 4 * a * c\n",
        "\n",
        "    if discriminant > 0:\n",
        "        kok1 = (-b + discriminant ** 0.5) / (2 * a)\n",
        "        kok2 = (-b - discriminant ** 0.5) / (2 * a)\n",
        "        print(f\"Denklemin iki gerçek kökü vardır: {kok1} ve {kok2}\")\n",
        "    elif discriminant == 0:\n",
        "        kok = -b / (2 * a)\n",
        "        print(f\"Denklemin bir gerçek kökü vardır: {kok}\")\n",
        "    else:\n",
        "        print(\"Denklemin gerçek kökü yoktur.\")\n",
        "\n",
        "\n",
        "a = float(input(\"a'nın değerini girin: \"))\n",
        "b = float(input(\"b'nin değerini girin: \"))\n",
        "c = float(input(\"c'nin değerini girin: \"))\n",
        "\n",
        "kok_bul(a, b, c)\n"
      ]
    },
    {
      "cell_type": "code",
      "source": [
        "#2\n",
        "import random\n",
        "\n",
        "# Üç tek basamaklı sayı üret\n",
        "sayi1 = random.randint(0, 9)\n",
        "sayi2 = random.randint(0, 9)\n",
        "sayi3 = random.randint(0, 9)\n",
        "\n",
        "# Doğru toplamı hesapla\n",
        "dogru_toplam = sayi1 + sayi2 + sayi3\n",
        "\n",
        "# Kullanıcıdan toplamı girmesini iste\n",
        "kullanici_toplam = int(input(f\"{sayi1}, {sayi2} ve {sayi3} sayılarının toplamı kaçtır? \"))\n",
        "\n",
        "# Kullanıcının cevabını kontrol et\n",
        "if kullanici_toplam == dogru_toplam:\n",
        "    print(\"Tebrikler! Doğru cevap.\")\n",
        "else:\n",
        "    print(f\"Üzgünüm, doğru cevap {dogru_toplam}.\")\n"
      ],
      "metadata": {
        "colab": {
          "base_uri": "https://localhost:8080/"
        },
        "id": "AZndtvGvtJlf",
        "outputId": "7a8ba971-2ac7-4e3e-aabd-97c3075bab71"
      },
      "execution_count": null,
      "outputs": [
        {
          "output_type": "stream",
          "name": "stdout",
          "text": [
            "3, 2 ve 4 sayılarının toplamı kaçtır? 9\n",
            "Tebrikler! Doğru cevap.\n"
          ]
        }
      ]
    },
    {
      "cell_type": "code",
      "source": [
        "#3\n",
        "def solve_equation(a, b, c, d, e, f):\n",
        "    determinant = a * d - b * c\n",
        "\n",
        "    if determinant == 0:\n",
        "        print(\"Denklemin çözümü yok.\")\n",
        "    else:\n",
        "        x = (e * d - b * f) / determinant\n",
        "        y = (a * f - e * c) / determinant\n",
        "        print(f\"x = {x} ve y = {y}\")\n",
        "\n",
        "\n",
        "a, b, c, d, e, f = map(float, input(\"a, b, c, d, e, f değerlerini girin (virgülle ayrılmış): \").split(','))\n",
        "\n",
        "solve_equation(a, b, c, d, e, f)\n"
      ],
      "metadata": {
        "colab": {
          "base_uri": "https://localhost:8080/"
        },
        "id": "kOe75CQjtJip",
        "outputId": "167f2784-8969-48f9-8519-3cfaf97de681"
      },
      "execution_count": null,
      "outputs": [
        {
          "output_type": "stream",
          "name": "stdout",
          "text": [
            "a, b, c, d, e, f değerlerini girin (virgülle ayrılmış): 2,3,2,3,2,3\n",
            "Denklemin çözümü yok.\n"
          ]
        }
      ]
    },
    {
      "cell_type": "code",
      "source": [
        "#4\n",
        "import random\n",
        "\n",
        "# İki tane 100'den küçük rastgele tam sayı üret\n",
        "sayi1 = random.randint(0, 99)\n",
        "sayi2 = random.randint(0, 99)\n",
        "\n",
        "# Doğru toplamı hesapla\n",
        "dogru_toplam = sayi1 + sayi2\n",
        "\n",
        "# Kullanıcıdan toplamı girmesini iste\n",
        "kullanici_toplam = int(input(f\"{sayi1} + {sayi2} kaçtır? \"))\n",
        "\n",
        "# Kullanıcının cevabını kontrol et\n",
        "if kullanici_toplam == dogru_toplam:\n",
        "    print(\"Doğru!\")\n",
        "else:\n",
        "    print(\"Yanlış!\")\n"
      ],
      "metadata": {
        "colab": {
          "base_uri": "https://localhost:8080/"
        },
        "id": "iR2zh_awtJgJ",
        "outputId": "12fe872c-1498-4d67-a30e-a84995127aa5"
      },
      "execution_count": null,
      "outputs": [
        {
          "output_type": "stream",
          "name": "stdout",
          "text": [
            "10 + 10 kaçtır? 20\n",
            "Doğru!\n"
          ]
        }
      ]
    },
    {
      "cell_type": "code",
      "source": [
        "#5\n",
        "# Kullanıcıdan bugünkü günü ve kaç gün sonrasını öğren\n",
        "bugunku_gun = int(input(\"Bugünkü günü girin (Pazar=0, Pazartesi=1, ..., Cumartesi=6): \"))\n",
        "gelecek_gun_sayisi = int(input(\"Kaç gün sonrasını öğrenmek istiyorsunuz? \"))\n",
        "\n",
        "# Gelecek günün indeksini hesapla\n",
        "gelecek_gun_indeksi = (bugunku_gun + gelecek_gun_sayisi) % 7\n",
        "\n",
        "# Günlerin isimlerini içeren bir liste oluştur\n",
        "gunler = [\"Pazar\", \"Pazartesi\", \"Salı\", \"Çarşamba\", \"Perşembe\", \"Cuma\", \"Cumartesi\"]\n",
        "\n",
        "# Sonucu ekrana yazdır\n",
        "print(f\"{gelecek_gun_sayisi} gün sonra gün: {gunler[gelecek_gun_indeksi]}\")\n"
      ],
      "metadata": {
        "colab": {
          "base_uri": "https://localhost:8080/"
        },
        "id": "nfTsk7rNtJdc",
        "outputId": "732f1805-9079-4e61-90ec-39eadcc1c35b"
      },
      "execution_count": null,
      "outputs": [
        {
          "output_type": "stream",
          "name": "stdout",
          "text": [
            "Bugünkü günü girin (Pazar=0, Pazartesi=1, ..., Cumartesi=6): 4\n",
            "Kaç gün sonrasını öğrenmek istiyorsunuz? 32\n",
            "32 gün sonra gün: Pazartesi\n"
          ]
        }
      ]
    },
    {
      "cell_type": "code",
      "source": [
        "#6\n",
        "# Kullanıcıdan kilo (pounds) ve boy (feet ve inches) bilgilerini al\n",
        "kilo = float(input(\"Kilonuzu pound cinsinden girin: \"))\n",
        "boy_feet = int(input(\"Boyunuzun feet kısmını girin: \"))\n",
        "boy_inches = int(input(\"Boyunuzun inches kısmını girin: \"))\n",
        "\n",
        "# Boyu sadece inches cinsine dönüştür\n",
        "boy_inches_toplam = boy_feet * 12 + boy_inches\n",
        "\n",
        "# BMI'yi hesapla\n",
        "bmi = kilo * 703 / (boy_inches_toplam ** 2)\n",
        "\n",
        "# BMI'ye göre durumu belirle\n",
        "if bmi < 18.5:\n",
        "    durum = \"Zayıf\"\n",
        "elif bmi < 25:\n",
        "    durum = \"Normal\"\n",
        "elif bmi < 30:\n",
        "    durum = \"Fazla Kilolu\"\n",
        "else:\n",
        "    durum = \"Obez\"\n",
        "\n",
        "# Sonucu ekrana yazdır\n",
        "print(f\"BMI'niz: {bmi:.2f}\")\n",
        "print(f\"Durumunuz: {durum}\")\n"
      ],
      "metadata": {
        "colab": {
          "base_uri": "https://localhost:8080/"
        },
        "id": "F7GrpHKJtJa5",
        "outputId": "1b82f158-d85b-4b7f-ae3a-a51552dfbe7e"
      },
      "execution_count": null,
      "outputs": [
        {
          "output_type": "stream",
          "name": "stdout",
          "text": [
            "Kilonuzu pound cinsinden girin: 110\n",
            "Boyunuzun feet kısmını girin: 200\n",
            "Boyunuzun inches kısmını girin: 6\n",
            "BMI'niz: 0.01\n",
            "Durumunuz: Zayıf\n"
          ]
        }
      ]
    },
    {
      "cell_type": "code",
      "source": [
        "#7\n",
        "# Kullanıcıdan ödenecek miktarı ve ödenen miktarı al\n",
        "miktar = float(input(\"Ödenecek miktarı girin (örneğin, 11.56): \"))\n",
        "odenmis_miktar = float(input(\"Ödenen miktarı girin (örneğin, 15.0): \"))\n",
        "\n",
        "# Geri verilmesi gereken miktarı hesapla\n",
        "geri_verilecek_miktar = odenmis_miktar - miktar\n",
        "\n",
        "# Geri verilecek miktarın tam kısmını bul\n",
        "kurus_kismi = int(geri_verilecek_miktar * 100)\n",
        "\n",
        "# Kağıt para birimlerini tanımla\n",
        "birimler = [\n",
        "    (\"dolar\", 100),\n",
        "    (\"çeyrek\", 25),\n",
        "    (\"dime\", 10),\n",
        "    (\"nikel\", 5),\n",
        "    (\"penny\", 1)\n",
        "]\n",
        "\n",
        "# Geri verilmesi gereken her bir birimi hesapla\n",
        "for birim_ad, birim_degeri in birimler:\n",
        "    adet = kurus_kismi // birim_degeri\n",
        "    if adet > 0:\n",
        "        if adet == 1:\n",
        "            print(f\"{adet} {birim_ad}\")\n",
        "        else:\n",
        "            print(f\"{adet} {birim_ad}ler\")\n",
        "        kurus_kismi %= birim_degeri\n"
      ],
      "metadata": {
        "colab": {
          "base_uri": "https://localhost:8080/"
        },
        "id": "NfNoZBcItJYP",
        "outputId": "4ddc388f-bb3c-4db8-fae4-70034c41c541"
      },
      "execution_count": null,
      "outputs": [
        {
          "output_type": "stream",
          "name": "stdout",
          "text": [
            "Ödenecek miktarı girin (örneğin, 11.56): 12\n",
            "Ödenen miktarı girin (örneğin, 15.0): 15\n",
            "3 dolarler\n"
          ]
        }
      ]
    },
    {
      "cell_type": "code",
      "source": [
        "#8\n",
        "# Kullanıcıdan üç tamsayıyı al\n",
        "sayi1 = int(input(\"Birinci tamsayıyı girin: \"))\n",
        "sayi2 = int(input(\"İkinci tamsayıyı girin: \"))\n",
        "sayi3 = int(input(\"Üçüncü tamsayıyı girin: \"))\n",
        "\n",
        "# Sayıları sırala\n",
        "if sayi1 <= sayi2 <= sayi3:\n",
        "    sirali_sayilar = [sayi1, sayi2, sayi3]\n",
        "elif sayi1 <= sayi3 <= sayi2:\n",
        "    sirali_sayilar = [sayi1, sayi3, sayi2]\n",
        "elif sayi2 <= sayi1 <= sayi3:\n",
        "    sirali_sayilar = [sayi2, sayi1, sayi3]\n",
        "elif sayi2 <= sayi3 <= sayi1:\n",
        "    sirali_sayilar = [sayi2, sayi3, sayi1]\n",
        "elif sayi3 <= sayi1 <= sayi2:\n",
        "    sirali_sayilar = [sayi3, sayi1, sayi2]\n",
        "else:\n",
        "    sirali_sayilar = [sayi3, sayi2, sayi1]\n",
        "\n",
        "# Sıralanmış sayıları ekrana yazdır\n",
        "print(\"Sıralı sayılar:\", end=\" \")\n",
        "for sayi in sirali_sayilar:\n",
        "    print(sayi, end=\" \")\n"
      ],
      "metadata": {
        "colab": {
          "base_uri": "https://localhost:8080/"
        },
        "id": "e5rWVxVZtJVb",
        "outputId": "e31452b7-65ca-403a-bc64-ce36c8e23358"
      },
      "execution_count": null,
      "outputs": [
        {
          "output_type": "stream",
          "name": "stdout",
          "text": [
            "Birinci tamsayıyı girin: 23\n",
            "İkinci tamsayıyı girin: 23\n",
            "Üçüncü tamsayıyı girin: 23\n",
            "Sıralı sayılar: 23 23 23 "
          ]
        }
      ]
    },
    {
      "cell_type": "code",
      "source": [
        "#9\n",
        "# İlk paketin ağırlığını ve fiyatını al\n",
        "ilk_agirlik = float(input(\"İlk paketin ağırlığını girin (kg): \"))\n",
        "ilk_fiyat = float(input(\"İlk paketin fiyatını girin (TL): \"))\n",
        "\n",
        "# İkinci paketin ağırlığını ve fiyatını al\n",
        "ikinci_agirlik = float(input(\"İkinci paketin ağırlığını girin (kg): \"))\n",
        "ikinci_fiyat = float(input(\"İkinci paketin fiyatını girin (TL): \"))\n",
        "\n",
        "# Birim fiyatları hesapla\n",
        "birim_fiyat_ilk = ilk_fiyat / ilk_agirlik\n",
        "birim_fiyat_ikinci = ikinci_fiyat / ikinci_agirlik\n",
        "\n",
        "# Hangi paketin daha iyi fiyat olduğunu kontrol et\n",
        "if birim_fiyat_ilk < birim_fiyat_ikinci:\n",
        "    print(\"İlk paket daha iyi fiyatlıdır.\")\n",
        "elif birim_fiyat_ilk > birim_fiyat_ikinci:\n",
        "    print(\"İkinci paket daha iyi fiyatlıdır.\")\n",
        "else:\n",
        "    print(\"İki paket de aynı fiyatlıdır.\")\n",
        "\n"
      ],
      "metadata": {
        "id": "JUm6vY6ktJO-"
      },
      "execution_count": null,
      "outputs": []
    },
    {
      "cell_type": "code",
      "source": [
        "#10\n",
        "import random\n",
        "\n",
        "# İki tane 100'den küçük rastgele tam sayı üret\n",
        "sayi1 = random.randint(0, 99)\n",
        "sayi2 = random.randint(0, 99)\n",
        "\n",
        "# Çarpma sorusu oluştur\n",
        "soru = f\"{sayi1} x {sayi2} = ?\"\n",
        "\n",
        "# Doğru cevabı hesapla\n",
        "dogru_cevap = sayi1 * sayi2\n",
        "\n",
        "# Kullanıcıdan cevabı al\n",
        "kullanici_cevap = int(input(f\"{soru} \"))\n",
        "\n",
        "# Cevabı kontrol et\n",
        "if kullanici_cevap == dogru_cevap:\n",
        "    print(\"Tebrikler! Doğru cevap.\")\n",
        "else:\n",
        "    print(f\"Üzgünüm, doğru cevap {dogru_cevap}.\")\n"
      ],
      "metadata": {
        "id": "3HPKoLBKtIm4"
      },
      "execution_count": null,
      "outputs": []
    },
    {
      "cell_type": "code",
      "source": [
        "#11\n",
        "# Kullanıcıdan ay ve yıl bilgilerini al\n",
        "ay = int(input(\"Ayı girin (1-12): \"))\n",
        "yil = int(input(\"Yılı girin: \"))\n",
        "\n",
        "# Ayın kaç gün olduğunu bulmak için bir sözlük kullan\n",
        "gunler = {\n",
        "    1: 31,\n",
        "    2: 29 if (yil % 4 == 0 and yil % 100 != 0) or (yil % 400 == 0) else 28,\n",
        "    3: 31,\n",
        "    4: 30,\n",
        "    5: 31,\n",
        "    6: 30,\n",
        "    7: 31,\n",
        "    8: 31,\n",
        "    9: 30,\n",
        "    10: 31,\n",
        "    11: 30,\n",
        "    12: 31\n",
        "}\n",
        "\n",
        "# Sonucu ekrana yazdır\n",
        "print(f\"{ay}/{yil} {gunler[ay]} gün içerir.\")\n"
      ],
      "metadata": {
        "id": "r3vvnFa8vYHg"
      },
      "execution_count": null,
      "outputs": []
    },
    {
      "cell_type": "code",
      "source": [
        "#12\n",
        "# Kullanıcıdan bir tamsayı al\n",
        "sayi = int(input(\"Bir tamsayı girin: \"))\n",
        "\n",
        "# Sayının 5 ve 6'ya bölünüp bölünmediğini kontrol et\n",
        "if sayi % 5 == 0 and sayi % 6 == 0:\n",
        "    print(f\"{sayi}, hem 5'e hem de 6'ya bölünür.\")\n",
        "elif sayi % 5 == 0 or sayi % 6 == 0:\n",
        "    print(f\"{sayi}, 5'e veya 6'ya bölünür, ancak her ikisine birden değil.\")\n",
        "else:\n",
        "    print(f\"{sayi}, ne 5'e ne de 6'ya bölünür.\")\n"
      ],
      "metadata": {
        "id": "SiIoc4HovX7R"
      },
      "execution_count": null,
      "outputs": []
    },
    {
      "cell_type": "code",
      "source": [
        "#13\n",
        "# Vergi oranlarını ve limitlerini tanımla\n",
        "VERGI_ORANLARI = [\n",
        "    (8350, 0.10),\n",
        "    (33950, 0.15),\n",
        "    (82250, 0.25),\n",
        "    (171550, 0.28),\n",
        "    (372950, 0.33)\n",
        "]\n",
        "\n",
        "VERGI_LIMITLERI = [\n",
        "    (16700, 0.10),\n",
        "    (67900, 0.15),\n",
        "    (137050, 0.25),\n",
        "    (208850, 0.28),\n",
        "    (372950, 0.33)\n",
        "]\n",
        "\n",
        "# Vergiyi hesaplayan fonksiyonu tanımla\n",
        "def compute_tax(married, gelir):\n",
        "    if married:\n",
        "        vergi_limitleri = VERGI_LIMITLERI\n",
        "    else:\n",
        "        vergi_limitleri = VERGI_ORANLARI\n",
        "\n",
        "    vergi = 0\n",
        "    for limit, oran in vergi_limitleri:\n",
        "        if gelir > limit:\n",
        "            vergi += limit * oran\n",
        "            gelir -= limit\n",
        "        else:\n",
        "            vergi += gelir * oran\n",
        "            break\n",
        "    return vergi\n",
        "\n",
        "# Test et\n",
        "def main():\n",
        "    gelir = float(input(\"Gelirinizi girin: \"))\n",
        "    medeni_durum = input(\"Medeni durumunuzu girin (evli için 'e', bekar için 'b'): \").lower()\n",
        "\n",
        "    if medeni_durum == 'e':\n",
        "        married = True\n",
        "    else:\n",
        "        married = False\n",
        "\n",
        "    vergi = compute_tax(married, gelir)\n",
        "    print(\"Ödemeniz gereken vergi: {:.2f}\".format(vergi))\n",
        "\n",
        "if __name__ == \"__main__\":\n",
        "    main()\n"
      ],
      "metadata": {
        "id": "syJGIfQ_vX4P"
      },
      "execution_count": null,
      "outputs": []
    },
    {
      "cell_type": "code",
      "source": [
        "#14\n",
        "import random\n",
        "\n",
        "# Rastgele bir sayı üreterek, 0 veya 1 değeri ile hangi tarafın geldiğini belirle\n",
        "tura_yazi = random.randint(0, 1)\n",
        "\n",
        "# Kullanıcıdan tahminini al\n",
        "tahmin = input(\"Tura mı yazı mı geldiğini tahmin edin (tura/yazi): \").lower()\n",
        "\n",
        "# Tahminin doğruluğunu kontrol et\n",
        "if (tura_yazi == 0 and tahmin == \"tura\") or (tura_yazi == 1 and tahmin == \"yazi\"):\n",
        "    print(\"Tebrikler, doğru tahmin!\")\n",
        "else:\n",
        "    print(\"Üzgünüm, yanlış tahmin!\")\n"
      ],
      "metadata": {
        "id": "0Ru7vTY_vX1M"
      },
      "execution_count": null,
      "outputs": []
    },
    {
      "cell_type": "code",
      "source": [
        "#15\n",
        "import random\n",
        "\n",
        "# Üç basamaklı rasgele bir sayı üret\n",
        "lottery_number = random.randint(100, 999)\n",
        "\n",
        "# Kullanıcıdan üç basamaklı bir sayı girmesini iste\n",
        "user_number = int(input(\"Üç basamaklı bir sayı girin (100-999): \"))\n",
        "\n",
        "# Rasgele sayıyı basamaklara ayır\n",
        "lottery_digit1 = lottery_number // 100\n",
        "lottery_digit2 = (lottery_number % 100) // 10\n",
        "lottery_digit3 = lottery_number % 10\n",
        "\n",
        "# Kullanıcı sayısını basamaklara ayır\n",
        "user_digit1 = user_number // 100\n",
        "user_digit2 = (user_number % 100) // 10\n",
        "user_digit3 = user_number % 10\n",
        "\n",
        "# Kazanan durumu kontrol et\n",
        "if user_number == lottery_number:\n",
        "    prize = 10000\n",
        "elif (user_digit1 == lottery_digit1 or user_digit1 == lottery_digit2 or user_digit1 == lottery_digit3) and \\\n",
        "     (user_digit2 == lottery_digit1 or user_digit2 == lottery_digit2 or user_digit2 == lottery_digit3) and \\\n",
        "     (user_digit3 == lottery_digit1 or user_digit3 == lottery_digit2 or user_digit3 == lottery_digit3):\n",
        "    prize = 3000\n",
        "elif user_digit1 == lottery_digit1 or user_digit1 == lottery_digit2 or user_digit1 == lottery_digit3 or \\\n",
        "     user_digit2 == lottery_digit1 or user_digit2 == lottery_digit2 or user_digit2 == lottery_digit3 or \\\n",
        "     user_digit3 == lottery_digit1 or user_digit3 == lottery_digit2 or user_digit3 == lottery_digit3:\n",
        "    prize = 1000\n",
        "else:\n",
        "    prize = 0\n",
        "\n",
        "# Sonucu ekrana yazdır\n",
        "if prize > 0:\n",
        "    print(f\"Tebrikler, kazandınız! Ödülünüz ${prize}.\")\n",
        "else:\n",
        "    print(\"Üzgünüm, kazanamadınız.\")\n"
      ],
      "metadata": {
        "id": "KudBVeAtvXxM"
      },
      "execution_count": null,
      "outputs": []
    },
    {
      "cell_type": "code",
      "source": [
        "#16\n",
        "import random\n",
        "\n",
        "# Rastgele bir büyük harf oluştur\n",
        "random_letter = chr(random.randint(65, 90))\n",
        "\n",
        "# Sonucu ekrana yazdır\n",
        "print(\"Rastgele büyük harf:\", random_letter)\n"
      ],
      "metadata": {
        "id": "3wgZK7RavdnZ"
      },
      "execution_count": null,
      "outputs": []
    },
    {
      "cell_type": "code",
      "source": [
        "#17\n",
        "import random\n",
        "\n",
        "# Kullanıcıdan seçim al\n",
        "kullanici_secim = int(input(\"0: Makas, 1: Taş, 2: Kağıt - Seçiminizi yapın: \"))\n",
        "\n",
        "# Bilgisayarın seçimini belirle\n",
        "bilgisayar_secim = random.randint(0, 2)\n",
        "\n",
        "# Seçimleri yazdır\n",
        "if kullanici_secim == 0:\n",
        "    print(\"Sizin seçiminiz: Makas\")\n",
        "elif kullanici_secim == 1:\n",
        "    print(\"Sizin seçiminiz: Taş\")\n",
        "elif kullanici_secim == 2:\n",
        "    print(\"Sizin seçiminiz: Kağıt\")\n",
        "\n",
        "if bilgisayar_secim == 0:\n",
        "    print(\"Bilgisayarın seçimi: Makas\")\n",
        "elif bilgisayar_secim == 1:\n",
        "    print(\"Bilgisayarın seçimi: Taş\")\n",
        "elif bilgisayar_secim == 2:\n",
        "    print(\"Bilgisayarın seçimi: Kağıt\")\n",
        "\n",
        "# Kazananı kontrol et\n",
        "if kullanici_secim == bilgisayar_secim:\n",
        "    print(\"Berabere!\")\n",
        "elif (kullanici_secim == 0 and bilgisayar_secim == 2) or \\\n",
        "     (kullanici_secim == 1 and bilgisayar_secim == 0) or \\\n",
        "     (kullanici_secim == 2 and bilgisayar_secim == 1):\n",
        "    print(\"Tebrikler, kazandınız!\")\n",
        "else:\n",
        "    print(\"Üzgünüm, bilgisayar kazandı!\")\n"
      ],
      "metadata": {
        "id": "tbIUDgP8vdfg"
      },
      "execution_count": null,
      "outputs": []
    },
    {
      "cell_type": "code",
      "source": [
        "#18\n",
        "# Kullanıcıdan döviz kuru ve dönüşüm yönünü al\n",
        "doviz_kuru = float(input(\"Dolar ve RMB arasındaki döviz kuru: \"))\n",
        "yon = int(input(\"0: Doları RMB'ye dönüştür, 1: RMB'yi Dolara dönüştür: \"))\n",
        "\n",
        "# Kullanıcının seçimine göre dönüşüm yap\n",
        "if yon == 0:\n",
        "    dolar_miktari = float(input(\"Dönüştürmek istediğiniz dolar miktarını girin: \"))\n",
        "    rmb_miktari = dolar_miktari * doviz_kuru\n",
        "    print(f\"{dolar_miktari} dolar, {rmb_miktari} RMB'ye eşittir.\")\n",
        "elif yon == 1:\n",
        "    rmb_miktari = float(input(\"Dönüştürmek istediğiniz RMB miktarını girin: \"))\n",
        "    dolar_miktari = rmb_miktari / doviz_kuru\n",
        "    print(f\"{rmb_miktari} RMB, {dolar_miktari} dolara eşittir.\")\n",
        "else:\n",
        "    print(\"Geçersiz giriş. Lütfen 0 veya 1 girin.\")\n"
      ],
      "metadata": {
        "id": "wQoLD5Ffvdc0"
      },
      "execution_count": null,
      "outputs": []
    },
    {
      "cell_type": "code",
      "source": [
        "#19\n",
        "# Kullanıcıdan üç kenar uzunluğunu al\n",
        "kenar1 = float(input(\"Birinci kenar uzunluğunu girin: \"))\n",
        "kenar2 = float(input(\"İkinci kenar uzunluğunu girin: \"))\n",
        "kenar3 = float(input(\"Üçüncü kenar uzunluğunu girin: \"))\n",
        "\n",
        "# Üç kenarın toplamını kontrol et\n",
        "if kenar1 + kenar2 > kenar3 and kenar1 + kenar3 > kenar2 and kenar2 + kenar3 > kenar1:\n",
        "    # Eğer üç kenar da belirli bir üçgeni oluşturuyorsa, çevre hesapla\n",
        "    cevre = kenar1 + kenar2 + kenar3\n",
        "    print(\"Üçgenin çevresi:\", cevre)\n",
        "else:\n",
        "    print(\"Girdi geçersiz. Lütfen üç kenarın bir üçgen oluşturduğundan emin olun.\")\n",
        "\n"
      ],
      "metadata": {
        "id": "BO8NuEQgvdaM"
      },
      "execution_count": null,
      "outputs": []
    },
    {
      "cell_type": "code",
      "source": [
        "#20\n",
        "# Kullanıcıdan sıcaklık ve rüzgar hızını al\n",
        "sıcaklık = float(input(\"Sıcaklığı girin (°F): \"))\n",
        "rüzgar_hızı = float(input(\"Rüzgar hızını girin (mil/saat): \"))\n",
        "\n",
        "# Sıcaklık ve rüzgar hızının geçerliliğini kontrol et\n",
        "if sıcaklık < -58 or sıcaklık > 41:\n",
        "    print(\"Geçersiz sıcaklık değeri. Sıcaklık -58°F ile 41°F arasında olmalıdır.\")\n",
        "elif rüzgar_hızı < 2:\n",
        "    print(\"Geçersiz rüzgar hızı değeri. Rüzgar hızı 2 mil/saat veya daha fazla olmalıdır.\")\n",
        "else:\n",
        "    # Rüzgar şiddeti faktörünü hesapla\n",
        "    rüzgar_şiddeti_faktörü = 35.74 + 0.6215 * sıcaklık - 35.75 * rüzgar_hızı ** 0.16 + 0.4275 * sıcaklık * rüzgar_hızı ** 0.16\n",
        "\n",
        "    # Sonucu ekrana yazdır\n",
        "    print(\"Rüzgar hissi sıcaklığı:\", rüzgar_şiddeti_faktörü)\n"
      ],
      "metadata": {
        "id": "JQiG4tY2vdXS"
      },
      "execution_count": null,
      "outputs": []
    },
    {
      "cell_type": "code",
      "source": [
        "#21\n",
        "# Kullanıcıdan yıl, ay ve gün bilgilerini al\n",
        "yıl = int(input(\"Yılı girin (örneğin, 2022): \"))\n",
        "ay = int(input(\"Ayı girin (1-12): \"))\n",
        "gün = int(input(\"Günü girin (1-31): \"))\n",
        "\n",
        "# Ocak ve Şubat'ı 13 ve 14 olarak değiştir ve yılı geçmiş yıla ayarla\n",
        "if ay == 1 or ay == 2:\n",
        "    ay += 12\n",
        "    yıl -= 1\n",
        "\n",
        "# Zeller's Congruence formülü için gerekli hesaplamaları yap\n",
        "q = gün\n",
        "m = ay\n",
        "j = yıl // 100\n",
        "k = yıl % 100\n",
        "\n",
        "# Zeller's Congruence formülünü kullanarak günü hesapla\n",
        "h = (q + (13 * (m + 1)) // 5 + k + k // 4 + j // 4 + 5 * j) % 7\n",
        "\n",
        "# Günü haftanın adına dönüştür\n",
        "hafta_günleri = [\"Cumartesi\", \"Pazar\", \"Pazartesi\", \"Salı\", \"Çarşamba\", \"Perşembe\", \"Cuma\"]\n",
        "hafta_günü = hafta_günleri[h]\n",
        "\n",
        "# Sonucu ekrana yazdır\n",
        "print(f\"{yıl}-{ay}-{gün} tarihi {hafta_günü} gününe denk gelir.\")\n"
      ],
      "metadata": {
        "id": "2p5D8ceUxTSd"
      },
      "execution_count": null,
      "outputs": []
    },
    {
      "cell_type": "code",
      "source": [
        "#22\n",
        "# Kullanıcıdan koordinatları al\n",
        "x = float(input(\"x koordinatını girin: \"))\n",
        "y = float(input(\"y koordinatını girin: \"))\n",
        "\n",
        "# Koordinatların dairenin içinde olup olmadığını kontrol et\n",
        "mesafe_kare = x ** 2 + y ** 2\n",
        "daire_yarıcap_kare = 10 ** 2\n",
        "\n",
        "if mesafe_kare <= daire_yarıcap_kare:\n",
        "    print(\"Girdiğiniz nokta dairenin içindedir.\")\n",
        "else:\n",
        "    print(\"Girdiğiniz nokta dairenin dışındadır.\")\n"
      ],
      "metadata": {
        "id": "yntagaQlxTQN"
      },
      "execution_count": null,
      "outputs": []
    },
    {
      "cell_type": "code",
      "source": [
        "#23\n",
        "# Kullanıcıdan koordinatları al\n",
        "x = float(input(\"x koordinatını girin: \"))\n",
        "y = float(input(\"y koordinatını girin: \"))\n",
        "\n",
        "# Koordinatların dikdörtgenin içinde olup olmadığını kontrol et\n",
        "if abs(x) <= 10 / 2 and abs(y) <= 5.0 / 2:\n",
        "    print(\"Girdiğiniz nokta dikdörtgenin içindedir.\")\n",
        "else:\n",
        "    print(\"Girdiğiniz nokta dikdörtgenin dışındadır.\")\n"
      ],
      "metadata": {
        "id": "5OJDv-TzxTNm"
      },
      "execution_count": null,
      "outputs": []
    },
    {
      "cell_type": "code",
      "source": [
        "#24\n",
        "import random\n",
        "\n",
        "# Desteden bir kart seç\n",
        "rank = random.choice([\"Ace\", \"2\", \"3\", \"4\", \"5\", \"6\", \"7\", \"8\", \"9\", \"10\", \"Jack\", \"Queen\", \"King\"])\n",
        "suit = random.choice([\"Clubs\", \"Diamonds\", \"Hearts\", \"Spades\"])\n",
        "\n",
        "# Seçilen kartı ekrana yazdır\n",
        "print(\"Seçilen kart:\", rank, \"of\", suit)\n"
      ],
      "metadata": {
        "id": "VD6UJ8-8xTK1"
      },
      "execution_count": null,
      "outputs": []
    },
    {
      "cell_type": "code",
      "source": [
        "#25\n",
        "# Kullanıcıdan dört nokta bilgisini al\n",
        "x1, y1 = map(float, input(\"Line 1 - Enter point 1 (x1, y1): \").split(','))\n",
        "x2, y2 = map(float, input(\"Line 1 - Enter point 2 (x2, y2): \").split(','))\n",
        "x3, y3 = map(float, input(\"Line 2 - Enter point 1 (x3, y3): \").split(','))\n",
        "x4, y4 = map(float, input(\"Line 2 - Enter point 2 (x4, y4): \").split(','))\n",
        "\n",
        "# Linear equation coefficients\n",
        "a = y1 - y2\n",
        "b = -(x1 - x2)\n",
        "c = y3 - y4\n",
        "d = -(x3 - x4)\n",
        "e = (y1 - y2) * x1 - (x1 - x2) * y1\n",
        "f = (y3 - y4) * x3 - (x3 - x4) * y3\n",
        "\n",
        "# Calculate determinant\n",
        "determinant = a * d - b * c\n",
        "\n",
        "# If the determinant is 0, lines are parallel\n",
        "if determinant == 0:\n",
        "    print(\"The two lines are parallel and do not intersect.\")\n",
        "else:\n",
        "    # Calculate intersecting point using Cramer's rule\n",
        "    x = (e * d - b * f) / determinant\n",
        "    y = (a * f - e * c) / determinant\n",
        "    print(\"The intersecting point is at ({:.2f}, {:.2f})\".format(x, y))\n"
      ],
      "metadata": {
        "id": "ZxuZ8tDFxTIJ"
      },
      "execution_count": null,
      "outputs": []
    },
    {
      "cell_type": "code",
      "source": [
        "#26\n",
        "# Kullanıcıdan üç basamaklı bir tamsayı al\n",
        "sayi = int(input(\"Üç basamaklı bir sayı girin: \"))\n",
        "\n",
        "# Sayının basamaklarını ayır\n",
        "birler = sayi % 10\n",
        "onlar = (sayi // 10) % 10\n",
        "yüzler = sayi // 100\n",
        "\n",
        "# Sayının palindrom olup olmadığını kontrol et\n",
        "if birler == yüzler:\n",
        "    print(f\"{sayi} bir palindrom sayıdır.\")\n",
        "else:\n",
        "    print(f\"{sayi} bir palindrom sayı değildir.\")\n"
      ],
      "metadata": {
        "id": "qq7XkS7dxTFG"
      },
      "execution_count": null,
      "outputs": []
    },
    {
      "cell_type": "code",
      "source": [
        "#27\n",
        "# Kullanıcıdan noktanın koordinatlarını al\n",
        "x, y = map(float, input(\"Noktanın koordinatlarını girin (x, y): \").split(','))\n",
        "\n",
        "# Üçgenin içinde olup olmadığını kontrol et\n",
        "if 0 <= x <= 200 and 0 <= y <= 100 and y <= 2 * x:\n",
        "    print(\"Girdiğiniz nokta üçgenin içindedir.\")\n",
        "else:\n",
        "    print(\"Girdiğiniz nokta üçgenin dışındadır.\")\n"
      ],
      "metadata": {
        "id": "TCPgnNdZxTCX"
      },
      "execution_count": null,
      "outputs": []
    },
    {
      "cell_type": "code",
      "source": [
        "#28\n",
        "# İlk dikdörtgenin bilgilerini kullanıcıdan al\n",
        "x1, y1 = map(float, input(\"İlk dikdörtgenin merkez koordinatlarını girin (x, y): \").split(','))\n",
        "genislik1 = float(input(\"İlk dikdörtgenin genişliğini girin: \"))\n",
        "yükseklik1 = float(input(\"İlk dikdörtgenin yüksekliğini girin: \"))\n",
        "\n",
        "# İkinci dikdörtgenin bilgilerini kullanıcıdan al\n",
        "x2, y2 = map(float, input(\"İkinci dikdörtgenin merkez koordinatlarını girin (x, y): \").split(','))\n",
        "genislik2 = float(input(\"İkinci dikdörtgenin genişliğini girin: \"))\n",
        "yükseklik2 = float(input(\"İkinci dikdörtgenin yüksekliğini girin: \"))\n",
        "\n",
        "# İlk dikdörtgenin köşe noktalarını hesapla\n",
        "x1_min = x1 - genislik1 / 2\n",
        "x1_max = x1 + genislik1 / 2\n",
        "y1_min = y1 - yükseklik1 / 2\n",
        "y1_max = y1 + yükseklik1 / 2\n",
        "\n",
        "# İkinci dikdörtgenin köşe noktalarını hesapla\n",
        "x2_min = x2 - genislik2 / 2\n",
        "x2_max = x2 + genislik2 / 2\n",
        "y2_min = y2 - yükseklik2 / 2\n",
        "y2_max = y2 + yükseklik2 / 2\n",
        "\n",
        "# İkinci dikdörtgenin içinde olup olmadığını kontrol et\n",
        "if x2_min >= x1_min and x2_max <= x1_max and y2_min >= y1_min and y2_max <= y1_max:\n",
        "    print(\"İkinci dikdörtgen birinci dikdörtgenin içindedir.\")\n",
        "elif x2_max < x1_min or x2_min > x1_max or y2_max < y1_min or y2_min > y1_max:\n",
        "    print(\"İkinci dikdörtgen birinci dikdörtgenin dışında.\")\n",
        "else:\n",
        "    print(\"İkinci dikdörtgen birinci dikdörtgenle kesişmektedir.\")\n"
      ],
      "metadata": {
        "id": "54jhHCG1xS_l"
      },
      "execution_count": null,
      "outputs": []
    },
    {
      "cell_type": "code",
      "source": [
        "#29\n",
        "import math\n",
        "\n",
        "# İlk dairenin merkez koordinatlarını ve yarıçapını kullanıcıdan al\n",
        "x1, y1 = map(float, input(\"İlk dairenin merkez koordinatlarını girin (x, y): \").split(','))\n",
        "r1 = float(input(\"İlk dairenin yarıçapını girin: \"))\n",
        "\n",
        "# İkinci dairenin merkez koordinatlarını ve yarıçapını kullanıcıdan al\n",
        "x2, y2 = map(float, input(\"İkinci dairenin merkez koordinatlarını girin (x, y): \").split(','))\n",
        "r2 = float(input(\"İkinci dairenin yarıçapını girin: \"))\n",
        "\n",
        "# İki dairenin merkezleri arasındaki uzaklığı hesapla\n",
        "uzaklık = math.sqrt((x2 - x1) ** 2 + (y2 - y1) ** 2)\n",
        "\n",
        "# İkinci dairenin birinci dairenin içinde olup olmadığını kontrol et\n",
        "if uzaklık <= abs(r1 - r2):\n",
        "    print(\"İkinci daire birinci dairenin içindedir.\")\n",
        "# İkinci dairenin birinci dairenin dışında olup olmadığını kontrol et\n",
        "elif uzaklık > r1 + r2:\n",
        "    print(\"İkinci daire birinci dairenin dışında.\")\n",
        "# İkinci dairenin birinci daireyle kesişip kesişmediğini kontrol et\n",
        "else:\n",
        "    print(\"İkinci daire birinci daireyle kesişmektedir.\")\n"
      ],
      "metadata": {
        "id": "sd6euvlbxS89"
      },
      "execution_count": null,
      "outputs": []
    },
    {
      "cell_type": "code",
      "source": [
        "#30\n",
        "import time\n",
        "\n",
        "# Mevcut saati al\n",
        "mevcut_zaman = time.localtime()\n",
        "\n",
        "# Mevcut zamanın saat, dakika ve saniye bileşenlerini al\n",
        "saat = mevcut_zaman.tm_hour\n",
        "dakika = mevcut_zaman.tm_min\n",
        "saniye = mevcut_zaman.tm_sec\n",
        "\n",
        "# Saati 12 saatlik formata çevir\n",
        "if saat > 12:\n",
        "    saat -= 12\n",
        "elif saat == 0:\n",
        "    saat = 12\n",
        "\n",
        "# Mevcut saati ekrana yazdır\n",
        "print(\"Mevcut zaman {:02d}:{:02d}:{:02d} {}\".format(saat, dakika, saniye, \"ÖS\" if mevcut_zaman.tm_hour >= 12 else \"ÖÖ\"))\n"
      ],
      "metadata": {
        "id": "KeDPlLf8xS6V"
      },
      "execution_count": null,
      "outputs": []
    },
    {
      "cell_type": "code",
      "source": [
        "#31 # Kullanıcıdan üç noktanın koordinatlarını al\n",
        "x0, y0 = map(float, input(\"p0 noktasının koordinatlarını girin (x0, y0): \").split(','))\n",
        "x1, y1 = map(float, input(\"p1 noktasının koordinatlarını girin (x1, y1): \").split(','))\n",
        "x2, y2 = map(float, input(\"p2 noktasının koordinatlarını girin (x2, y2): \").split(','))\n",
        "\n",
        "# Noktanın solunda, sağında veya aynı çizgi üzerinde olduğunu belirle\n",
        "konum = (x1 - x0) * (y2 - y0) - (x2 - x0) * (y1 - y0)\n",
        "\n",
        "if konum > 0:\n",
        "    print(\"p2 noktası çizginin sol tarafında.\")\n",
        "elif konum < 0:\n",
        "    print(\"p2 noktası çizginin sağ tarafında.\")\n",
        "else:\n",
        "    print(\"p2 noktası çizginin üzerindedir.\")\n"
      ],
      "metadata": {
        "id": "XessSlwdxS36"
      },
      "execution_count": null,
      "outputs": []
    },
    {
      "cell_type": "code",
      "source": [
        "#32\n",
        "def nokta_cizgi_uzerinde_mi(x0, y0, x1, y1, x2, y2):\n",
        "    # İki nokta arasındaki çizginin x ve y mesafelerini hesapla\n",
        "    dx = x1 - x0\n",
        "    dy = y1 - y0\n",
        "\n",
        "    # p0 ve p1 arasındaki çizginin uzunluğunu hesapla\n",
        "    uzunluk_kare = dx ** 2 + dy ** 2\n",
        "\n",
        "    # p2'nin p0-p1 çizgisine olan x ve y mesafelerini hesapla\n",
        "    u = ((x2 - x0) * dx + (y2 - y0) * dy) / uzunluk_kare\n",
        "\n",
        "    # p2'nin p0-p1 çizgisindeki projeksiyonunu hesapla\n",
        "    x_projeksiyon = x0 + u * dx\n",
        "    y_projeksiyon = y0 + u * dy\n",
        "\n",
        "    # Eğer p2'nin projeksiyonu p0 ve p1 arasındaysa, p2 çizginin üzerindedir\n",
        "    return x0 <= x_projeksiyon <= x1 and y0 <= y_projeksiyon <= y1\n",
        "\n",
        "# Kullanıcıdan üç noktanın koordinatlarını al\n",
        "x0, y0 = map(float, input(\"p0 noktasının koordinatlarını girin (x0, y0): \").split(','))\n",
        "x1, y1 = map(float, input(\"p1 noktasının koordinatlarını girin (x1, y1): \").split(','))\n",
        "x2, y2 = map(float, input(\"p2 noktasının koordinatlarını girin (x2, y2): \").split(','))\n",
        "\n",
        "# p2'nin çizgi segmentinde olup olmadığını kontrol et\n",
        "if nokta_cizgi_uzerinde_mi(x0, y0, x1, y1, x2, y2):\n",
        "    print(\"p2 noktası p0 ile p1 arasındaki çizgi segmentinin üzerindedir.\")\n",
        "else:\n",
        "    print(\"p2 noktası p0 ile p1 arasındaki çizgi segmentinin üzerinde değildir.\")\n"
      ],
      "metadata": {
        "id": "yTMYRbv8xS1I"
      },
      "execution_count": null,
      "outputs": []
    },
    {
      "cell_type": "code",
      "source": [
        "#33\n",
        "# Kullanıcıdan bir tamsayı girmesini iste\n",
        "tamsayi = int(input(\"0 ile 15 arasında bir tamsayı girin: \"))\n",
        "\n",
        "# Tamsayının onaltılık karşılığını hesapla\n",
        "if 0 <= tamsayi <= 9:\n",
        "    onaltılık = str(tamsayi)\n",
        "else:\n",
        "    onaltılık = chr(ord('A') + tamsayi - 10)\n",
        "\n",
        "# Sonucu ekrana yazdır\n",
        "print(f\"Girdiğiniz tamsayının onaltılık karşılığı: {onaltılık}\")\n"
      ],
      "metadata": {
        "id": "QdKKmyfHxSyY"
      },
      "execution_count": null,
      "outputs": []
    },
    {
      "cell_type": "code",
      "source": [
        "#34\n",
        "# Kullanıcıdan bir onaltılık karakter girmesini iste\n",
        "onaltılık_karakter = input(\"Bir onaltılık karakter girin: \")\n",
        "\n",
        "# Onaltılık karakterin ondalık karşılığını hesapla\n",
        "if '0' <= onaltılık_karakter <= '9':\n",
        "    ondalık = int(onaltılık_karakter)\n",
        "else:\n",
        "    ondalık = ord(onaltılık_karakter.upper()) - ord('A') + 10\n",
        "\n",
        "# Sonucu ekrana yazdır\n",
        "print(f\"Girdiğiniz onaltılık karakterin ondalık karşılığı: {ondalık}\")\n"
      ],
      "metadata": {
        "id": "GqCppthQxSu4"
      },
      "execution_count": null,
      "outputs": []
    },
    {
      "cell_type": "code",
      "source": [
        "#35\n",
        "import turtle\n",
        "\n",
        "def nokta_cizgi_uzerinde_mi(x0, y0, x1, y1, x2, y2):\n",
        "    # İki nokta arasındaki çizginin x ve y mesafelerini hesapla\n",
        "    dx = x1 - x0\n",
        "    dy = y1 - y0\n",
        "\n",
        "    # p0 ve p1 arasındaki çizginin uzunluğunu hesapla\n",
        "    uzunluk_kare = dx ** 2 + dy ** 2\n",
        "\n",
        "    # p2'nin p0-p1 çizgisine olan x ve y mesafelerini hesapla\n",
        "    u = ((x2 - x0) * dx + (y2 - y0) * dy) / uzunluk_kare\n",
        "\n",
        "    # p2'nin p0-p1 çizgisindeki projeksiyonunu hesapla\n",
        "    x_projeksiyon = x0 + u * dx\n",
        "    y_projeksiyon = y0 + u * dy\n",
        "\n",
        "    # Eğer p2'nin projeksiyonu p0 ve p1 arasındaysa, p2 çizginin üzerindedir\n",
        "    return x0 <= x_projeksiyon <= x1 and y0 <= y_projeksiyon <= y1\n",
        "\n",
        "# Kullanıcıdan üç noktanın koordinatlarını al\n",
        "x0, y0 = map(float, input(\"p0 noktasının koordinatlarını girin (x0, y0): \").split(','))\n",
        "x1, y1 = map(float, input(\"p1 noktasının koordinatlarını girin (x1, y1): \").split(','))\n",
        "x2, y2 = map(float, input(\"p2 noktasının koordinatlarını girin (x2, y2): \").split(','))\n",
        "\n",
        "# Noktanın pozisyonunu belirle\n",
        "if nokta_cizgi_uzerinde_mi(x0, y0, x1, y1, x2, y2):\n",
        "    turtle.penup()\n",
        "    turtle.goto(x0, y0)\n",
        "    turtle.pendown()\n",
        "    turtle.write(\"p2, p0-p1 çizgisinin üzerindedir.\")\n",
        "else:\n",
        "    turtle.penup()\n",
        "    turtle.goto(x0, y0)\n",
        "    turtle.pendown()\n",
        "    turtle.write(\"p2, p0-p1 çizgisinin dışındadır.\")\n"
      ],
      "metadata": {
        "id": "06QJrWBTxSr1"
      },
      "execution_count": null,
      "outputs": []
    },
    {
      "cell_type": "code",
      "source": [
        "#36\n",
        "import turtle\n",
        "import random\n",
        "import math\n",
        "\n",
        "# Çemberin merkezi ve yarıçapı\n",
        "cx, cy = 0, 0\n",
        "radius = 100\n",
        "\n",
        "# Kare çizin\n",
        "turtle.penup()\n",
        "turtle.goto(cx - radius, cy - radius)\n",
        "turtle.pendown()\n",
        "turtle.setheading(0)  # Kareyi çizmek için doğru yöne dön\n",
        "for _ in range(4):\n",
        "    turtle.forward(2 * radius)\n",
        "    turtle.left(90)\n",
        "\n",
        "# Çemberi çiz\n",
        "turtle.penup()\n",
        "turtle.goto(cx, cy - radius)\n",
        "turtle.pendown()\n",
        "turtle.circle(radius)\n",
        "\n",
        "# Rastgele bir nokta oluştur\n",
        "px = random.uniform(cx - radius, cx + radius)\n",
        "py = random.uniform(cy - radius, cy + radius)\n",
        "\n",
        "# Noktayı çiz\n",
        "turtle.penup()\n",
        "turtle.goto(px, py)\n",
        "turtle.pendown()\n",
        "turtle.dot(5, \"red\")\n",
        "\n",
        "# Noktanın çemberin içinde olup olmadığını kontrol et\n",
        "uzaklık = math.sqrt((px - cx) ** 2 + (py - cy) ** 2)\n",
        "if uzaklık <= radius:\n",
        "    turtle.penup()\n",
        "    turtle.goto(0, -150)\n",
        "    turtle.pendown()\n",
        "    turtle.write(\"Nokta çemberin içindedir.\", align=\"center\")\n",
        "else:\n",
        "    turtle.penup()\n",
        "    turtle.goto(0, -150)\n",
        "    turtle.pendown()\n",
        "    turtle.write(\"Nokta çemberin dışındadır.\", align=\"center\")\n",
        "\n",
        "turtle.done()\n"
      ],
      "metadata": {
        "id": "5AupzK_OxSou"
      },
      "execution_count": null,
      "outputs": []
    },
    {
      "cell_type": "code",
      "source": [
        "#37\n",
        "import turtle\n",
        "\n",
        "# Kullanıcıdan bir nokta girmesini iste\n",
        "x, y = map(float, input(\"Bir nokta girin (x, y): \").split(','))\n",
        "\n",
        "# Kare çizin\n",
        "turtle.penup()\n",
        "turtle.goto(-50, -25)  # Kareyi merkeze hizala\n",
        "turtle.pendown()\n",
        "for _ in range(2):\n",
        "    turtle.forward(100)\n",
        "    turtle.left(90)\n",
        "    turtle.forward(50)\n",
        "    turtle.left(90)\n",
        "\n",
        "# Noktayı çiz\n",
        "turtle.penup()\n",
        "turtle.goto(x, y)\n",
        "turtle.pendown()\n",
        "turtle.dot(5, \"red\")\n",
        "\n",
        "# Noktanın karenin içinde olup olmadığını kontrol et\n",
        "if -50 <= x <= 50 and -25 <= y <= 25:\n",
        "    turtle.penup()\n",
        "    turtle.goto(0, -70)\n",
        "    turtle.pendown()\n",
        "    turtle.write(\"Nokta karenin içindedir.\", align=\"center\")\n",
        "else:\n",
        "    turtle.penup()\n",
        "    turtle.goto(0, -70)\n",
        "    turtle.pendown()\n",
        "    turtle.write(\"Nokta karenin dışındadır.\", align=\"center\")\n",
        "\n",
        "turtle.done()\n"
      ],
      "metadata": {
        "id": "gB2CsFAqxSk6"
      },
      "execution_count": null,
      "outputs": []
    },
    {
      "cell_type": "code",
      "source": [
        "#38\n",
        "def is_inside(x1, y1, w1, h1, x2, y2, w2, h2):\n",
        "    # İkinci dikdörtgenin sol üst köşesinin ilk dikdörtgenin içinde olup olmadığını kontrol et\n",
        "    if x1 - w1 / 2 <= x2 - w2 / 2 and y1 + h1 / 2 >= y2 + h2 / 2:\n",
        "        return True\n",
        "    else:\n",
        "        return False\n",
        "\n",
        "def is_overlapping(x1, y1, w1, h1, x2, y2, w2, h2):\n",
        "    # İki dikdörtgenin çakışıp çakışmadığını kontrol et\n",
        "    if (abs(x1 - x2) < (w1 + w2) / 2) and (abs(y1 - y2) < (h1 + h2) / 2):\n",
        "        return True\n",
        "    else:\n",
        "        return False\n",
        "\n",
        "# Birinci dikdörtgenin bilgilerini al\n",
        "x1 = float(input(\"Birinci dikdörtgenin merkez x koordinatını girin: \"))\n",
        "y1 = float(input(\"Birinci dikdörtgenin merkez y koordinatını girin: \"))\n",
        "w1 = float(input(\"Birinci dikdörtgenin genişliğini girin: \"))\n",
        "h1 = float(input(\"Birinci dikdörtgenin yüksekliğini girin: \"))\n",
        "\n",
        "# İkinci dikdörtgenin bilgilerini al\n",
        "x2 = float(input(\"İkinci dikdörtgenin merkez x koordinatını girin: \"))\n",
        "y2 = float(input(\"İkinci dikdörtgenin merkez y koordinatını girin: \"))\n",
        "w2 = float(input(\"İkinci dikdörtgenin genişliğini girin: \"))\n",
        "h2 = float(input(\"İkinci dikdörtgenin yüksekliğini girin: \"))\n",
        "\n",
        "# İkinci dikdörtgenin birinci dikdörtgenin içinde veya üst üste gelip gelmediğini kontrol et\n",
        "if is_inside(x1, y1, w1, h1, x2, y2, w2, h2):\n",
        "    print(\"İkinci dikdörtgen birinci dikdörtgenin içindedir.\")\n",
        "elif is_inside(x2, y2, w2, h2, x1, y1, w1, h1):\n",
        "    print(\"Birinci dikdörtgen ikinci dikdörtgenin içindedir.\")\n",
        "elif is_overlapping(x1, y1, w1, h1, x2, y2, w2, h2):\n",
        "    print(\"İki dikdörtgen üst üste gelmektedir.\")\n",
        "else:\n",
        "    print(\"İki dikdörtgen birbirinden ayrılmıştır.\")\n"
      ],
      "metadata": {
        "id": "GFbvPiwbxSiD"
      },
      "execution_count": null,
      "outputs": []
    },
    {
      "cell_type": "code",
      "source": [
        "#39\n",
        "import turtle\n",
        "import math\n",
        "\n",
        "def is_inside(x1, y1, r1, x2, y2, r2):\n",
        "    # İkinci dairenin birinci dairenin içinde olup olmadığını kontrol et\n",
        "    distance_between_centers = math.sqrt((x2 - x1) ** 2 + (y2 - y1) ** 2)\n",
        "    return distance_between_centers + r2 <= r1\n",
        "\n",
        "def is_overlapping(x1, y1, r1, x2, y2, r2):\n",
        "    # İki dairenin çakışıp çakışmadığını kontrol et\n",
        "    distance_between_centers = math.sqrt((x2 - x1) ** 2 + (y2 - y1) ** 2)\n",
        "    return distance_between_centers < r1 + r2\n",
        "\n",
        "# Birinci dairenin bilgilerini al\n",
        "x1 = float(input(\"Birinci dairenin merkez x koordinatını girin: \"))\n",
        "y1 = float(input(\"Birinci dairenin merkez y koordinatını girin: \"))\n",
        "r1 = float(input(\"Birinci dairenin yarıçapını girin: \"))\n",
        "\n",
        "# İkinci dairenin bilgilerini al\n",
        "x2 = float(input(\"İkinci dairenin merkez x koordinatını girin: \"))\n",
        "y2 = float(input(\"İkinci dairenin merkez y koordinatını girin: \"))\n",
        "r2 = float(input(\"İkinci dairenin yarıçapını girin: \"))\n",
        "\n",
        "# İkinci dairenin birinci dairenin içinde veya üst üste gelip gelmediğini kontrol et\n",
        "if is_inside(x1, y1, r1, x2, y2, r2):\n",
        "    print(\"İkinci daire birinci dairenin içindedir.\")\n",
        "elif is_inside(x2, y2, r2, x1, y1, r1):\n",
        "    print(\"Birinci daire ikinci dairenin içindedir.\")\n",
        "elif is_overlapping(x1, y1, r1, x2, y2, r2):\n",
        "    print(\"İki daire üst üste gelmektedir.\")\n",
        "else:\n",
        "    print(\"İki daire birbirinden ayrılmıştır.\")\n",
        "\n",
        "# Daireleri çiz\n",
        "turtle.penup()\n",
        "turtle.goto(x1, y1 - r1)\n",
        "turtle.pendown()\n",
        "turtle.circle(r1)\n",
        "\n",
        "turtle.penup()\n",
        "turtle.goto(x2, y2 - r2)\n",
        "turtle.pendown()\n",
        "turtle.circle(r2)\n",
        "\n",
        "turtle.done()\n"
      ],
      "metadata": {
        "id": "jlULKqqtykRT"
      },
      "execution_count": null,
      "outputs": []
    }
  ]
}