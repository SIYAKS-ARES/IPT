{
  "nbformat": 4,
  "nbformat_minor": 0,
  "metadata": {
    "colab": {
      "provenance": []
    },
    "kernelspec": {
      "name": "python3",
      "display_name": "Python 3"
    },
    "language_info": {
      "name": "python"
    }
  },
  "cells": [
    {
      "cell_type": "code",
      "execution_count": null,
      "metadata": {
        "id": "pUbiEcKtihqM"
      },
      "outputs": [],
      "source": [
        "#1\n",
        "def getPentagonalNumber(n):\n",
        "    return n * (3 * n - 1) // 2\n",
        "\n",
        "def ilk_100_pentagonal_sayiyi_goster():\n",
        "    sayilar_per_satir = 10\n",
        "    for i in range(1, 101):\n",
        "        print(getPentagonalNumber(i), end=' ')\n",
        "        if i % sayilar_per_satir == 0:\n",
        "            print()\n",
        "\n",
        "# Test programını çalıştır\n",
        "ilk_100_pentagonal_sayiyi_goster()\n"
      ]
    },
    {
      "cell_type": "code",
      "source": [
        "#2\n",
        "def rakamlarin_toplami(n):\n",
        "    toplam = 0\n",
        "    while n != 0:\n",
        "        rakam = n % 10\n",
        "        toplam += rakam\n",
        "        n //= 10\n",
        "    return toplam\n",
        "\n",
        "# Kullanıcıdan bir tamsayı girmesini iste\n",
        "sayi = int(input(\"Bir tamsayı girin: \"))\n",
        "\n",
        "# Rakamların toplamını hesapla ve ekrana yazdır\n",
        "print(\"Girdiğiniz sayının rakamlarının toplamı:\", rakamlarin_toplami(sayi))\n"
      ],
      "metadata": {
        "id": "9F-dEV3EilQu"
      },
      "execution_count": null,
      "outputs": []
    },
    {
      "cell_type": "code",
      "source": [
        "#3\n",
        "def ters_cevir(sayi):\n",
        "    ters_sayi = 0\n",
        "    while sayi != 0:\n",
        "        son_rakam = sayi % 10\n",
        "        ters_sayi = ters_sayi * 10 + son_rakam\n",
        "        sayi //= 10\n",
        "    return ters_sayi\n",
        "\n",
        "def palindrome_mu(sayi):\n",
        "    return sayi == ters_cevir(sayi)\n",
        "\n",
        "# Kullanıcıdan bir tamsayı girmesini iste\n",
        "sayi = int(input(\"Bir tamsayı girin: \"))\n",
        "\n",
        "# Girilen sayının palindrome olup olmadığını kontrol et ve sonucu ekrana yazdır\n",
        "if palindrome_mu(sayi):\n",
        "    print(sayi, \"bir palindrome sayıdır.\")\n",
        "else:\n",
        "    print(sayi, \"bir palindrome sayı değildir.\")\n"
      ],
      "metadata": {
        "id": "wDXqu7WgilNt"
      },
      "execution_count": null,
      "outputs": []
    },
    {
      "cell_type": "code",
      "source": [
        "#4\n",
        "def ters_cevir(sayi):\n",
        "    ters_sayi = 0\n",
        "    while sayi != 0:\n",
        "        son_rakam = sayi % 10\n",
        "        ters_sayi = ters_sayi * 10 + son_rakam\n",
        "        sayi //= 10\n",
        "    return ters_sayi\n",
        "\n",
        "# Kullanıcıdan bir tamsayı girmesini iste\n",
        "sayi = int(input(\"Bir tamsayı girin: \"))\n",
        "\n",
        "# Girilen sayının tersini hesapla ve ekrana yazdır\n",
        "print(\"Girilen sayının tersi:\", ters_cevir(sayi))\n"
      ],
      "metadata": {
        "id": "R7PWa5P_ilK5"
      },
      "execution_count": null,
      "outputs": []
    },
    {
      "cell_type": "code",
      "source": [
        "#5\n",
        "def sirali_sayilari_goster(sayi1, sayi2, sayi3):\n",
        "    sirali_liste = [sayi1, sayi2, sayi3]\n",
        "    sirali_liste.sort()\n",
        "    print(\"Sıralanmış sayılar:\", sirali_liste[0], sirali_liste[1], sirali_liste[2])\n",
        "\n",
        "# Kullanıcıdan üç tamsayı girmesini iste\n",
        "sayi1 = int(input(\"Birinci sayıyı girin: \"))\n",
        "sayi2 = int(input(\"İkinci sayıyı girin: \"))\n",
        "sayi3 = int(input(\"Üçüncü sayıyı girin: \"))\n",
        "\n",
        "# Girilen sayıları artan sırada göster\n",
        "sirali_sayilari_goster(sayi1, sayi2, sayi3)\n"
      ],
      "metadata": {
        "id": "2-E0KqYwilH-"
      },
      "execution_count": null,
      "outputs": []
    },
    {
      "cell_type": "code",
      "source": [
        "#6\n",
        "def desen_goster(n):\n",
        "    for i in range(1, n + 1):\n",
        "        # Boşlukları ekle\n",
        "        for j in range(n - i):\n",
        "            print(\" \", end=\" \")\n",
        "        # Sayıları ekle\n",
        "        for j in range(i, 0, -1):\n",
        "            print(j, end=\" \")\n",
        "        print()\n",
        "\n",
        "# Kullanıcıdan bir sayı girmesini iste\n",
        "n = int(input(\"Bir sayı girin: \"))\n",
        "\n",
        "# Deseni göster\n",
        "desen_goster(n)\n"
      ],
      "metadata": {
        "id": "elVbL8kvilE9"
      },
      "execution_count": null,
      "outputs": []
    },
    {
      "cell_type": "code",
      "source": [
        "#7\n",
        "def gelecekYatirimDegeri(yatirimMiktari, aylikFaizOrani, yillar):\n",
        "    gelecekDeger = yatirimMiktari * (1 + aylikFaizOrani) ** (yillar * 12)\n",
        "    return gelecekDeger\n",
        "\n",
        "# Kullanıcıdan yatırım miktarını ve yıllık faiz oranını girmesini iste\n",
        "yatirimMiktari = float(input(\"Yatırım miktarını girin: \"))\n",
        "yillikFaizOrani = float(input(\"Yıllık faiz oranını yüzde olarak girin: \")) / 100\n",
        "\n",
        "# Tabloyu başlık ile yazdır\n",
        "print(\"Yıl     Gelecek Değer\")\n",
        "print(\"------------------------\")\n",
        "\n",
        "# Gelecek değerleri hesapla ve tabloyu yazdır\n",
        "for yil in range(1, 31):\n",
        "    gelecekDeger = gelecekYatirimDegeri(yatirimMiktari, yillikFaizOrani / 12, yil)\n",
        "    print(f\"{yil:<8}{gelecekDeger:.2f}\")\n"
      ],
      "metadata": {
        "id": "jVUmyf3PilCP"
      },
      "execution_count": null,
      "outputs": []
    },
    {
      "cell_type": "code",
      "source": [
        "#8\n",
        "def celsiusToFahrenheit(celsius):\n",
        "    fahrenheit = (9 / 5) * celsius + 32\n",
        "    return fahrenheit\n",
        "\n",
        "def fahrenheitToCelsius(fahrenheit):\n",
        "    celsius = (5 / 9) * (fahrenheit - 32)\n",
        "    return celsius\n",
        "\n",
        "# Celsius to Fahrenheit table\n",
        "print(\"Celsius\\tFahrenheit\")\n",
        "print(\"------------------\")\n",
        "for celsius in range(0, 101, 10):\n",
        "    fahrenheit = celsiusToFahrenheit(celsius)\n",
        "    print(f\"{celsius}\\t{fahrenheit:.1f}\")\n",
        "\n",
        "print(\"\\n\")\n",
        "\n",
        "# Fahrenheit to Celsius table\n",
        "print(\"Fahrenheit\\tCelsius\")\n",
        "print(\"--------------------\")\n",
        "for fahrenheit in range(32, 212, 10):\n",
        "    celsius = fahrenheitToCelsius(fahrenheit)\n",
        "    print(f\"{fahrenheit}\\t\\t{celsius:.1f}\")\n"
      ],
      "metadata": {
        "id": "9Yn10Pm4ik_d"
      },
      "execution_count": null,
      "outputs": []
    },
    {
      "cell_type": "code",
      "source": [
        "#9\n",
        "def footToMeter(foot):\n",
        "    meter = foot / 0.305\n",
        "    return meter\n",
        "\n",
        "def meterToFoot(meter):\n",
        "    foot = 0.305 * meter\n",
        "    return foot\n",
        "\n",
        "# Feet to meters table\n",
        "print(\"Feet\\tMeters\")\n",
        "print(\"---------------\")\n",
        "for foot in range(1, 11):\n",
        "    meter = footToMeter(foot)\n",
        "    print(f\"{foot}\\t{meter:.2f}\")\n",
        "\n",
        "print(\"\\n\")\n",
        "\n",
        "# Meters to feet table\n",
        "print(\"Meters\\tFeet\")\n",
        "print(\"---------------\")\n",
        "for meter in range(1, 11):\n",
        "    foot = meterToFoot(meter)\n",
        "    print(f\"{meter}\\t{foot:.2f}\")\n"
      ],
      "metadata": {
        "id": "fWabWAyhik82"
      },
      "execution_count": null,
      "outputs": []
    },
    {
      "cell_type": "code",
      "source": [
        "#10\n",
        "def isPrime(number):\n",
        "    divisor = 2\n",
        "    while divisor <= number / 2:\n",
        "        if number % divisor == 0:\n",
        "            return False\n",
        "        divisor += 1\n",
        "    return True\n",
        "\n",
        "def countPrimesBelow10000():\n",
        "    count = 0\n",
        "    for i in range(2, 10000):\n",
        "        if isPrime(i):\n",
        "            count += 1\n",
        "    return count\n",
        "\n",
        "# Find the number of prime numbers less than 10,000\n",
        "prime_count = countPrimesBelow10000()\n",
        "print(\"Number of prime numbers less than 10,000:\", prime_count)\n"
      ],
      "metadata": {
        "id": "1X_n_e8uik55"
      },
      "execution_count": null,
      "outputs": []
    },
    {
      "cell_type": "code",
      "source": [
        "#11\n",
        "def komisyonHesapla(satisMiktari):\n",
        "    if satisMiktari <= 5000:\n",
        "        komisyon = satisMiktari * 0.08\n",
        "    elif satisMiktari <= 10000:\n",
        "        komisyon = 5000 * 0.08 + (satisMiktari - 5000) * 0.10\n",
        "    else:\n",
        "        komisyon = 5000 * 0.08 + 5000 * 0.10 + (satisMiktari - 10000) * 0.12\n",
        "    return komisyon\n",
        "\n",
        "# Komisyon tablosunu göster\n",
        "print(\"Satış Miktarı\\tKomisyon\")\n",
        "print(\"---------------------------\")\n",
        "for miktar in range(10000, 100001, 5000):\n",
        "    komisyon = komisyonHesapla(miktar)\n",
        "    print(f\"${miktar}\\t\\t${komisyon:.2f}\")\n"
      ],
      "metadata": {
        "id": "6ZNHJNNOik3F"
      },
      "execution_count": null,
      "outputs": []
    },
    {
      "cell_type": "code",
      "source": [
        "#12\n",
        "def printChars(ch1, ch2, numberPerLine):\n",
        "    count = 0\n",
        "    for i in range(ord(ch1), ord(ch2) + 1):\n",
        "        print(chr(i), end=\" \")\n",
        "        count += 1\n",
        "        if count % numberPerLine == 0:\n",
        "            print()\n",
        "\n",
        "# Test programını çalıştır\n",
        "printChars('1', 'Z', 10)\n"
      ],
      "metadata": {
        "id": "V_aX4H3Pik0d"
      },
      "execution_count": null,
      "outputs": []
    },
    {
      "cell_type": "code",
      "source": [
        "#15\n",
        "def computeTax(status, taxableIncome):\n",
        "    # Tax rates for different statuses\n",
        "    rates = [[0.10, 0.15, 0.25, 0.28, 0.33, 0.35],\n",
        "             [0.10, 0.15, 0.25, 0.28, 0.33, 0.35],\n",
        "             [0.10, 0.15, 0.25, 0.28, 0.33, 0.35],\n",
        "             [0.10, 0.15, 0.25, 0.28, 0.33, 0.35]]\n",
        "\n",
        "    brackets = [[8350, 33950, 82250, 171550, 372950],\n",
        "                [16700, 67900, 137050, 208850, 372950],\n",
        "                [8350, 33950, 68525, 104425, 186475],\n",
        "                [11950, 45500, 117450, 190200, 372950]]\n",
        "\n",
        "    # Find the applicable rate and bracket\n",
        "    if taxableIncome <= brackets[status][0]:\n",
        "        tax = taxableIncome * rates[status][0]\n",
        "    else:\n",
        "        tax = brackets[status][0] * rates[status][0]\n",
        "        for i in range(1, len(rates[status])):\n",
        "            if taxableIncome <= brackets[status][i]:\n",
        "                tax += (taxableIncome - brackets[status][i-1]) * rates[status][i]\n",
        "                break\n",
        "            else:\n",
        "                tax += (brackets[status][i] - brackets[status][i-1]) * rates[status][i]\n",
        "\n",
        "    return tax\n",
        "\n",
        "# Print tax table\n",
        "print(\"Taxable Income\\tSingle\\tMarried Joint\\tMarried Separate\\tHead of Household\")\n",
        "print(\"-----------------------------------------------------------------------------\")\n",
        "for income in range(50000, 60001, 50):\n",
        "    print(f\"${income}\\t\\t\", end=\"\")\n",
        "    for status in range(4):\n",
        "        tax = computeTax(status, income)\n",
        "        print(f\"${tax:.2f}\\t\\t\", end=\"\")\n",
        "    print()\n"
      ],
      "metadata": {
        "id": "rgWLx9ZLikxt"
      },
      "execution_count": null,
      "outputs": []
    }
  ]
}