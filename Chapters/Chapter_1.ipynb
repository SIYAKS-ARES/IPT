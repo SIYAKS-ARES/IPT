{
  "nbformat": 4,
  "nbformat_minor": 0,
  "metadata": {
    "colab": {
      "provenance": []
    },
    "kernelspec": {
      "name": "python3",
      "display_name": "Python 3"
    },
    "language_info": {
      "name": "python"
    }
  },
  "cells": [
    {
      "cell_type": "code",
      "execution_count": null,
      "metadata": {
        "id": "UHmL45lV9QIX"
      },
      "outputs": [],
      "source": [
        "#1\n",
        "print(\"Welcome to Python\")\n",
        "print(\"Welcome to Computer Science\")\n",
        "print(\"Programming is fun\")\n"
      ]
    },
    {
      "cell_type": "code",
      "source": [
        "#2\n",
        "for _ in range(5):\n",
        "    print(\"Welcome to Python\")\n"
      ],
      "metadata": {
        "id": "haUDjXXW9Zhz"
      },
      "execution_count": null,
      "outputs": []
    },
    {
      "cell_type": "code",
      "source": [
        "#5\n",
        "result = (9.5 * 4.5 - 2.5 * 3) / (45.5 - 3.5)\n",
        "print(result)\n"
      ],
      "metadata": {
        "id": "YeSApPUL9ZZq"
      },
      "execution_count": null,
      "outputs": []
    },
    {
      "cell_type": "code",
      "source": [
        "#6\n",
        "result = 1 + 2 + 3 + 4 + 5 + 6 + 7 + 8 + 9\n",
        "print(result)\n"
      ],
      "metadata": {
        "id": "_HEKosdh9ZW_"
      },
      "execution_count": null,
      "outputs": []
    },
    {
      "cell_type": "code",
      "source": [
        "#8\n",
        "import math\n",
        "\n",
        "radius = 5.5\n",
        "area = radius * radius * math.pi\n",
        "perimeter = 2 * radius * math.pi\n",
        "\n",
        "print(\"Dairenin Alanı:\", area)\n",
        "print(\"Dairenin Çevresi:\", perimeter)\n"
      ],
      "metadata": {
        "id": "HQ2PezNb9ZR2"
      },
      "execution_count": null,
      "outputs": []
    },
    {
      "cell_type": "code",
      "source": [
        "#9\n",
        "width = 4.5\n",
        "height = 7.9\n",
        "\n",
        "area = width * height\n",
        "perimeter = 2 * (width + height)\n",
        "\n",
        "print(\"Dikdörtgenin Alanı:\", area)\n",
        "print(\"Dikdörtgenin Çevresi:\", perimeter)\n"
      ],
      "metadata": {
        "id": "sDuWz9gb9ZPT"
      },
      "execution_count": null,
      "outputs": []
    },
    {
      "cell_type": "code",
      "source": [
        "#10\n",
        "distance_km = 14\n",
        "time_hours = (45 * 60 + 30) / 3600  # toplam süreyi saat cinsine çevirme\n",
        "\n",
        "distance_miles = distance_km / 1.6  # kilometreleri mil cinsine çevirme\n",
        "speed_mph = distance_miles / time_hours\n",
        "\n",
        "print(\"Ortalama Hız (mph):\", speed_mph)\n"
      ],
      "metadata": {
        "id": "RIfwdCsN9ZMo"
      },
      "execution_count": null,
      "outputs": []
    },
    {
      "cell_type": "code",
      "source": [
        "#11\n",
        "current_population = 312032486\n",
        "seconds_per_year = 365 * 24 * 60 * 60\n",
        "\n",
        "births_per_year = seconds_per_year // 7\n",
        "deaths_per_year = seconds_per_year // 13\n",
        "immigrants_per_year = seconds_per_year // 45\n",
        "\n",
        "for year in range(1, 6):\n",
        "    population_change = births_per_year - deaths_per_year + immigrants_per_year\n",
        "    current_population += population_change\n",
        "    print(f\"Yıl {year}: {current_population}\")\n",
        "\n"
      ],
      "metadata": {
        "id": "mYFl5jU39ZJ0"
      },
      "execution_count": null,
      "outputs": []
    }
  ]
}