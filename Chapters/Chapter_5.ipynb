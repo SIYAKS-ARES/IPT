{
  "nbformat": 4,
  "nbformat_minor": 0,
  "metadata": {
    "colab": {
      "provenance": []
    },
    "kernelspec": {
      "name": "python3",
      "display_name": "Python 3"
    },
    "language_info": {
      "name": "python"
    }
  },
  "cells": [
    {
      "cell_type": "code",
      "execution_count": null,
      "metadata": {
        "id": "qc0wRIi2exSX"
      },
      "outputs": [],
      "source": [
        "#1\n",
        "# Değişkenlerin başlangıç değerlerini tanımla\n",
        "positive_count = 0\n",
        "negative_count = 0\n",
        "total = 0\n",
        "count = 0\n",
        "\n",
        "# Kullanıcıdan girdi al\n",
        "while True:\n",
        "    num = int(input(\"Bir tamsayı girin (0 programı sonlandırır): \"))\n",
        "\n",
        "    # Girdi 0 ise döngüyü sonlandır\n",
        "    if num == 0:\n",
        "        break\n",
        "\n",
        "    # Girdi pozitifse pozitif sayısını arttır\n",
        "    if num > 0:\n",
        "        positive_count += 1\n",
        "    # Girdi negatifse negatif sayısını arttır\n",
        "    elif num < 0:\n",
        "        negative_count += 1\n",
        "\n",
        "    # Girdi sıfır değilse toplam değeri ve sayacı arttır\n",
        "    if num != 0:\n",
        "        total += num\n",
        "        count += 1\n",
        "\n",
        "# Eğer hiç girdi yoksa ortalamayı 0 olarak belirle\n",
        "if count == 0:\n",
        "    average = 0\n",
        "else:\n",
        "    # Ortalamayı hesapla\n",
        "    average = total / count\n",
        "\n",
        "# Sonuçları ekrana yazdır\n",
        "print(\"Pozitif sayılar:\", positive_count)\n",
        "print(\"Negatif sayılar:\", negative_count)\n",
        "print(\"Toplam:\", total)\n",
        "print(\"Ortalama:\", average)\n"
      ]
    },
    {
      "cell_type": "code",
      "source": [
        "#2\n",
        "import random\n",
        "import time\n",
        "\n",
        "# Başlangıç değerlerini tanımla\n",
        "correct_count = 0\n",
        "start_time = time.time()  # Test süresinin başlangıç zamanını kaydet\n",
        "\n",
        "# 10 adet toplama sorusu oluştur\n",
        "for i in range(10):\n",
        "    # İki rastgele tamsayı seç\n",
        "    num1 = random.randint(1, 15)\n",
        "    num2 = random.randint(1, 15)\n",
        "\n",
        "    # Soruyu kullanıcıya göster ve cevabı al\n",
        "    answer = int(input(f\"{num1} + {num2} kaçtır? \"))\n",
        "\n",
        "    # Doğru cevabı kontrol et\n",
        "    if answer == num1 + num2:\n",
        "        print(\"Doğru!\")\n",
        "        correct_count += 1\n",
        "    else:\n",
        "        print(\"Yanlış!\")\n",
        "\n",
        "# Test süresini ve doğru cevap sayısını hesapla\n",
        "end_time = time.time()  # Test süresinin bitiş zamanını kaydet\n",
        "test_time = end_time - start_time\n",
        "\n",
        "# Sonuçları ekrana yazdır\n",
        "print(f\"Toplam doğru sayısı: {correct_count}\")\n",
        "print(f\"Test süresi: {round(test_time, 2)} saniye\")\n"
      ],
      "metadata": {
        "id": "QAjzNOQIe065"
      },
      "execution_count": null,
      "outputs": []
    },
    {
      "cell_type": "code",
      "source": [
        "#3\n",
        "# Başlık yazdır\n",
        "print(\"Kilogram\\tPound\")\n",
        "\n",
        "# Kilogramdan pound'a dönüşüm yaparak tabloyu yazdır\n",
        "for kg in range(1, 11):\n",
        "    pound = kg * 2.2\n",
        "    print(f\"{kg}\\t\\t{pound}\")\n"
      ],
      "metadata": {
        "id": "Y0yD7Dvre04A"
      },
      "execution_count": null,
      "outputs": []
    },
    {
      "cell_type": "code",
      "source": [
        "#4\n",
        "# Başlık yazdır\n",
        "print(\"Miles\\tKilometers\")\n",
        "\n",
        "# Mil'den kilometreye dönüşüm yaparak tabloyu yazdır\n",
        "for miles in range(1, 11):\n",
        "    kilometers = miles * 1.609\n",
        "    print(f\"{miles}\\t{kilometers}\")\n"
      ],
      "metadata": {
        "id": "1epR2gR0e01N"
      },
      "execution_count": null,
      "outputs": []
    },
    {
      "cell_type": "code",
      "source": [
        "#5\n",
        "# Başlık yazdır\n",
        "print(\"Kilograms\\tPounds\\t\\t|\\tPounds\\t\\tKilograms\")\n",
        "\n",
        "# Kilogramdan pound'a ve pound'dan kilograma dönüşüm yaparak tabloları yazdır\n",
        "for kg in range(1, 11):\n",
        "    pounds = kg * 2.2\n",
        "    kilograms_from_pounds = pounds * 0.45\n",
        "    print(f\"{kg}\\t\\t{pounds:.1f}\\t\\t|\\t{pounds:.1f}\\t\\t{kilograms_from_pounds:.2f}\")\n"
      ],
      "metadata": {
        "id": "pn4_GrK1e0yZ"
      },
      "execution_count": null,
      "outputs": []
    },
    {
      "cell_type": "code",
      "source": [
        "#6\n",
        "# Başlık yazdır\n",
        "print(\"Miles\\tKilometers\\t|\\tKilometers\\tMiles\")\n",
        "\n",
        "# Mil'den kilometreye ve kilometreden mili dönüşüm yaparak tabloları yazdır\n",
        "for miles in range(1, 11):\n",
        "    kilometers = miles * 1.609\n",
        "    miles_from_kilometers = kilometers * 0.621\n",
        "    print(f\"{miles}\\t{kilometers:.3f}\\t\\t|\\t{kilometers:.3f}\\t\\t{miles_from_kilometers:.3f}\")\n"
      ],
      "metadata": {
        "id": "r8szXe5me0vh"
      },
      "execution_count": null,
      "outputs": []
    },
    {
      "cell_type": "code",
      "source": [
        "#7\n",
        "import math\n",
        "\n",
        "# Başlık yazdır\n",
        "print(\"Degrees\\tSin Value\\tCos Value\")\n",
        "\n",
        "# Dereceden sinüs ve kosinüs değerlerini hesaplayarak tabloyu yazdır\n",
        "for degrees in range(0, 361, 10):\n",
        "    radians = math.radians(degrees)\n",
        "    sin_value = round(math.sin(radians), 4)\n",
        "    cos_value = round(math.cos(radians), 4)\n",
        "    print(f\"{degrees}\\t{sin_value}\\t\\t{cos_value}\")\n"
      ],
      "metadata": {
        "id": "ChxMG9iue0s1"
      },
      "execution_count": null,
      "outputs": []
    },
    {
      "cell_type": "code",
      "source": [
        "#8\n",
        "import math\n",
        "\n",
        "# Başlık yazdır\n",
        "print(\"Number\\tSquare Root\")\n",
        "\n",
        "# 0 ile 20 arasındaki sayıların kareköklerini hesaplayarak tabloyu yazdır\n",
        "for number in range(21):\n",
        "    square_root = math.sqrt(number)\n",
        "    print(f\"{number}\\t{square_root}\")\n"
      ],
      "metadata": {
        "id": "DHmF04R4e0qB"
      },
      "execution_count": null,
      "outputs": []
    },
    {
      "cell_type": "code",
      "source": [
        "#9\n",
        "# Başlangıç değerlerini tanımla\n",
        "tuition = 10000  # Bu yılki öğrenim ücreti\n",
        "increase_rate = 0.05  # Yıllık artış oranı\n",
        "total_cost = 0  # Toplam ödenen öğrenim ücreti\n",
        "\n",
        "# 10 yıl boyunca öğrenim ücretini hesapla\n",
        "for year in range(1, 11):\n",
        "    tuition = tuition * (1 + increase_rate)  # Yıllık artış oranıyla öğrenim ücretini güncelle\n",
        "    if year == 10:\n",
        "        future_tuition = tuition  # 10 yıl sonra öğrenim ücretini kaydet\n",
        "    if year >= 10 and year <= 13:  # 10 yıl sonra 4 yıl boyunca öğrenim ücretini hesapla\n",
        "        total_cost += tuition\n",
        "\n",
        "# Sonuçları ekrana yazdır\n",
        "print(f\"10 yıl sonra öğrenim ücreti: ${future_tuition:.2f}\")\n",
        "print(f\"10 yıl sonra başlayarak 4 yıl boyunca toplam ödenen öğrenim ücreti: ${total_cost:.2f}\")\n"
      ],
      "metadata": {
        "id": "j75AgOQxe0nB"
      },
      "execution_count": null,
      "outputs": []
    },
    {
      "cell_type": "code",
      "source": [
        "#10\n",
        "# Dosyadan en yüksek puanı bulan program\n",
        "\n",
        "# Dosya adını ve yolu belirt\n",
        "file_name = \"score.txt\"\n",
        "\n",
        "try:\n",
        "    # Dosyayı aç ve okuma modunda içeriği oku\n",
        "    with open(file_name, \"r\") as file:\n",
        "        # Dosyadaki puanları oku ve en yüksek puanı bul\n",
        "        scores = [int(score.strip()) for score in file.readlines()]\n",
        "        highest_score = max(scores)\n",
        "\n",
        "        # En yüksek puanı ekrana yazdır\n",
        "        print(\"En yüksek puan:\", highest_score)\n",
        "\n",
        "except FileNotFoundError:\n",
        "    print(f\"{file_name} adında bir dosya bulunamadı.\")\n",
        "except ValueError:\n",
        "    print(\"Dosya içeriği geçersiz. Lütfen her satırda bir tam sayı olacak şekilde düzenleyin.\")\n"
      ],
      "metadata": {
        "id": "GylumuKVe0kJ"
      },
      "execution_count": null,
      "outputs": []
    },
    {
      "cell_type": "code",
      "source": [
        "#11\n",
        "# Kullanıcıdan öğrenci sayısını ve her öğrencinin puanını giren ve en yüksek iki puanı bulan program\n",
        "\n",
        "# Kullanıcıdan öğrenci sayısını al\n",
        "num_students = int(input(\"Öğrenci sayısını girin: \"))\n",
        "\n",
        "# En yüksek iki puanı tutacak değişkenleri tanımla\n",
        "highest_score = float('-inf')  # En yüksek puanı negatif sonsuz olarak başlat\n",
        "second_highest_score = float('-inf')  # İkinci en yüksek puanı negatif sonsuz olarak başlat\n",
        "\n",
        "# Her öğrencinin puanını giren ve en yüksek iki puanı bulan döngü\n",
        "for i in range(num_students):\n",
        "    score = float(input(f\"{i+1}. öğrencinin puanını girin: \"))\n",
        "\n",
        "    # Girilen puan en yüksek puanı geçiyorsa\n",
        "    if score > highest_score:\n",
        "        second_highest_score = highest_score  # Eski en yüksek puanı ikinci en yüksek olarak kaydet\n",
        "        highest_score = score  # Yeni en yüksek puanı güncelle\n",
        "    # Girilen puan en yüksek puanı geçmiyor ama en yüksek ikinci puanı geçiyorsa\n",
        "    elif score > second_highest_score:\n",
        "        second_highest_score = score  # Yeni ikinci en yüksek puanı güncelle\n",
        "\n",
        "# En yüksek ve ikinci en yüksek puanları ekrana yazdır\n",
        "print(f\"En yüksek puan: {highest_score}\")\n",
        "print(f\"Ikinci en yüksek puan: {second_highest_score}\")\n"
      ],
      "metadata": {
        "id": "713dhd-Ie0hB"
      },
      "execution_count": null,
      "outputs": []
    },
    {
      "cell_type": "code",
      "source": [
        "#12\n",
        "# 100 ile 1000 arasındaki 5 ve 6'ya tam bölünebilen sayıları bulan ve her satırda on adet sayı yazdıran program\n",
        "\n",
        "count = 0  # Sayacı başlat\n",
        "\n",
        "# 100 ile 1000 arasındaki sayıları kontrol et\n",
        "for num in range(100, 1001):\n",
        "    # 5 ve 6'ya tam bölünebilen sayıları bul\n",
        "    if num % 5 == 0 and num % 6 == 0:\n",
        "        # Sayıyı ekrana yazdır ve bir boşluk bırak\n",
        "        print(num, end=\" \")\n",
        "        count += 1  # Sayacı arttır\n",
        "\n",
        "        # Her satırda on adet sayıyı kontrol et\n",
        "        if count % 10 == 0:\n",
        "            print()  # Yeni bir satıra geç\n",
        "\n"
      ],
      "metadata": {
        "id": "1GfJydwXe0eg"
      },
      "execution_count": null,
      "outputs": []
    },
    {
      "cell_type": "code",
      "source": [
        "#13\n",
        "# 100 ile 200 arasındaki 5 veya 6'ya tam bölünebilen ancak her ikisine birden bölünemeyen sayıları bulan ve her satırda on adet sayı yazdıran program\n",
        "\n",
        "count = 0  # Sayacı başlat\n",
        "\n",
        "# 100 ile 200 arasındaki sayıları kontrol et\n",
        "for num in range(100, 201):\n",
        "    # 5'e tam bölünen sayıları bul\n",
        "    divisible_by_5 = num % 5 == 0\n",
        "    # 6'ya tam bölünen sayıları bul\n",
        "    divisible_by_6 = num % 6 == 0\n",
        "\n",
        "    # Sadece 5'e veya sadece 6'ya tam bölünen ve her ikisine birden tam bölünmeyen sayıları bul\n",
        "    if (divisible_by_5 or divisible_by_6) and not (divisible_by_5 and divisible_by_6):\n",
        "        # Sayıyı ekrana yazdır ve bir boşluk bırak\n",
        "        print(num, end=\" \")\n",
        "        count += 1  # Sayacı arttır\n",
        "\n",
        "        # Her satırda on adet sayıyı kontrol et\n",
        "        if count % 10 == 0:\n",
        "            print()  # Yeni bir satıra geç\n",
        "\n"
      ],
      "metadata": {
        "id": "xk0gC-Sge0bp"
      },
      "execution_count": null,
      "outputs": []
    },
    {
      "cell_type": "code",
      "source": [
        "#14\n",
        "# n^2'nin 12,000'den büyük olduğu en küçük n değerini bulan program\n",
        "\n",
        "n = 1  # Başlangıç değeri olarak n'i 1 olarak ayarla\n",
        "\n",
        "# n^2'nin 12,000'den büyük olduğu en küçük n değerini bul\n",
        "while n ** 2 <= 12000:\n",
        "    n += 1\n",
        "\n",
        "# Sonucu ekrana yazdır\n",
        "print(\"n^2, 12,000'den büyük olduğu ilk n:\", n)\n"
      ],
      "metadata": {
        "id": "SAcS8g9xe0Yp"
      },
      "execution_count": null,
      "outputs": []
    },
    {
      "cell_type": "code",
      "source": [
        "#15\n",
        "# n^3'ün 12,000'den küçük olduğu en büyük n değerini bulan program\n",
        "\n",
        "n = 1  # Başlangıç değeri olarak n'i 1 olarak ayarla\n",
        "\n",
        "# n^3'ün 12,000'den küçük olduğu en büyük n değerini bul\n",
        "while n ** 3 < 12000:\n",
        "    n += 1\n",
        "\n",
        "# n^3'ün 12,000'den küçük olduğu son n değerini bir azalt\n",
        "n -= 1\n",
        "\n",
        "# Sonucu ekrana yazdır\n",
        "print(\"n^3, 12,000'den küçük olduğu son n:\", n)\n"
      ],
      "metadata": {
        "id": "QiWKw-DNe0V3"
      },
      "execution_count": null,
      "outputs": []
    },
    {
      "cell_type": "code",
      "source": [
        "#16\n",
        "# İki tamsayının en büyük ortak bölenini bulan program\n",
        "\n",
        "# Kullanıcıdan iki tamsayıyı al\n",
        "n1 = int(input(\"Birinci tamsayıyı girin: \"))\n",
        "n2 = int(input(\"İkinci tamsayıyı girin: \"))\n",
        "\n",
        "# d'yi n1 ve n2'nin minimumu olarak belirle\n",
        "d = min(n1, n2)\n",
        "\n",
        "# n1 ve n2 için d, d-1, d-2, ..., 2, 1'e kadar olan değerleri kontrol et\n",
        "while d >= 1:\n",
        "    if n1 % d == 0 and n2 % d == 0:\n",
        "        # d, n1 ve n2 için bir bölense, en büyük ortak böleni bulduk\n",
        "        gcd = d\n",
        "        break\n",
        "    d -= 1\n",
        "\n",
        "# Sonucu ekrana yazdır\n",
        "print(f\"{n1} ve {n2} için en büyük ortak bölen: {gcd}\")\n"
      ],
      "metadata": {
        "id": "MCtJAJUze0TB"
      },
      "execution_count": null,
      "outputs": []
    },
    {
      "cell_type": "code",
      "source": [
        "#17\n",
        "# ASCII karakter tablosundaki karakterleri ! ile ~ arasında ekrana yazdıran program\n",
        "\n",
        "start_char = ord('!')  # Başlangıç karakteri: !\n",
        "end_char = ord('~')    # Bitiş karakteri: ~\n",
        "chars_per_line = 10    # Her satırda yazılacak karakter sayısı\n",
        "\n",
        "# ASCII karakter tablosundaki karakterleri ! ile ~ arasında yazdır\n",
        "for char_code in range(start_char, end_char + 1):\n",
        "    # ASCII karakterini ekrana yazdır\n",
        "    print(chr(char_code), end=\" \")\n",
        "\n",
        "    # Her chars_per_line adet karakterden sonra bir satır atla\n",
        "    if (char_code - start_char + 1) % chars_per_line == 0:\n",
        "        print()\n"
      ],
      "metadata": {
        "id": "644_rCgFe0P6"
      },
      "execution_count": null,
      "outputs": []
    },
    {
      "cell_type": "code",
      "source": [
        "#18\n",
        "# Bir tamsayının en küçük asal bölenlerini bulan program\n",
        "\n",
        "# Kullanıcıdan bir tamsayı al\n",
        "num = int(input(\"Bir tamsayı girin: \"))\n",
        "\n",
        "# En küçük asal bölenleri bul\n",
        "print(f\"{num} sayısının en küçük asal bölenleri: \", end=\"\")\n",
        "\n",
        "# 2'ye kadar olan tamsayıları test et\n",
        "factor = 2\n",
        "while factor <= num:\n",
        "    if num % factor == 0:\n",
        "        # factor, num'nın bir böleniyse, factor'ı ekrana yazdır ve num'u factor'a böl\n",
        "        print(factor, end=\", \")\n",
        "        num //= factor\n",
        "    else:\n",
        "        # factor, num'nın bir böleni değilse, factor'ı bir arttır\n",
        "        factor += 1\n"
      ],
      "metadata": {
        "id": "TLzzpng8e0NI"
      },
      "execution_count": null,
      "outputs": []
    },
    {
      "cell_type": "code",
      "source": [
        "#19\n",
        "# Kullanıcıdan bir tamsayı al\n",
        "num = int(input(\"1 ile 15 arasında bir tamsayı girin: \"))\n",
        "\n",
        "# Pyramid oluştur\n",
        "for i in range(1, num + 1):\n",
        "    # Boşlukları ekle\n",
        "    print(\" \" * (num - i), end=\"\")\n",
        "    # Artan sayıları ekle\n",
        "    for j in range(1, i + 1):\n",
        "        print(j, end=\" \")\n",
        "    # Azalan sayıları ekle\n",
        "    for k in range(i - 1, 0, -1):\n",
        "        print(k, end=\" \")\n",
        "    print()\n"
      ],
      "metadata": {
        "id": "RrlEC4d_e0KS"
      },
      "execution_count": null,
      "outputs": []
    },
    {
      "cell_type": "code",
      "source": [
        "#20\n",
        "# Düz üçgen deseni\n",
        "print(\"Düz üçgen deseni:\")\n",
        "for i in range(1, 6):\n",
        "    print(\"*\" * i)\n",
        "\n",
        "# Ters üçgen deseni\n",
        "print(\"\\nTers üçgen deseni:\")\n",
        "for i in range(5, 0, -1):\n",
        "    print(\"*\" * i)\n",
        "\n",
        "# Düz üçgen deseni, soldan hizalı\n",
        "print(\"\\nDüz üçgen deseni, soldan hizalı:\")\n",
        "for i in range(1, 6):\n",
        "    print(\"*\" * i)\n",
        "\n",
        "# Düz üçgen deseni, sağdan hizalı\n",
        "print(\"\\nDüz üçgen deseni, sağdan hizalı:\")\n",
        "for i in range(1, 6):\n",
        "    print(\" \" * (5 - i), end=\"\")\n",
        "    print(\"*\" * i)\n"
      ],
      "metadata": {
        "id": "0s3B9OGhe0HX"
      },
      "execution_count": null,
      "outputs": []
    },
    {
      "cell_type": "code",
      "source": [
        "#21\n",
        "# Düz bir piramit deseni oluştur\n",
        "\n",
        "for i in range(1, 8):\n",
        "    # Boşlukları ekle\n",
        "    print(\" \" * (8 - i), end=\"\")\n",
        "    # Artan sayıları ekle\n",
        "    for j in range(1, i + 1):\n",
        "        print(j, end=\"\")\n",
        "    # Azalan sayıları ekle\n",
        "    for k in range(i - 1, 0, -1):\n",
        "        print(k, end=\"\")\n",
        "    print()\n"
      ],
      "metadata": {
        "id": "GmJdKm5Ge0Ej"
      },
      "execution_count": null,
      "outputs": []
    },
    {
      "cell_type": "code",
      "source": [
        "#22\n",
        "# 2 ile 1000 arasındaki tüm asal sayıları bulan program\n",
        "\n",
        "count = 0  # Asal sayıları saymak için bir sayaç tanımla\n",
        "\n",
        "# 2'den başlayarak 1000'e kadar olan tüm sayıları kontrol et\n",
        "for num in range(2, 1001):\n",
        "    is_prime = True\n",
        "\n",
        "    # Asal sayı kontrolü\n",
        "    for i in range(2, int(num**0.5) + 1):\n",
        "        if num % i == 0:\n",
        "            is_prime = False\n",
        "            break\n",
        "\n",
        "    # Eğer sayı asalsa, ekrana yazdır\n",
        "    if is_prime:\n",
        "        print(num, end=\" \")\n",
        "        count += 1\n",
        "\n",
        "        # Her satırda sekiz asal sayıyı yazdırdıktan sonra bir alt satıra geç\n",
        "        if count % 8 == 0:\n",
        "            print()\n"
      ],
      "metadata": {
        "id": "aXE3wPHoe0B9"
      },
      "execution_count": null,
      "outputs": []
    }
  ]
}