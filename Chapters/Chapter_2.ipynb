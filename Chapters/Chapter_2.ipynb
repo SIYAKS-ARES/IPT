{
  "nbformat": 4,
  "nbformat_minor": 0,
  "metadata": {
    "colab": {
      "provenance": []
    },
    "kernelspec": {
      "name": "python3",
      "display_name": "Python 3"
    },
    "language_info": {
      "name": "python"
    }
  },
  "cells": [
    {
      "cell_type": "code",
      "execution_count": null,
      "metadata": {
        "id": "rUOEKI6dONrd"
      },
      "outputs": [],
      "source": [
        "#1\n",
        "def celsius_to_fahrenheit(celsius):\n",
        "    fahrenheit = (9 / 5) * celsius + 32\n",
        "    return fahrenheit\n",
        "\n",
        "def main():\n",
        "    celsius = float(input(\"Santigrat dereceyi girin: \"))\n",
        "    fahrenheit = celsius_to_fahrenheit(celsius)\n",
        "    print(f\"{celsius} santigrat derece, {fahrenheit} Fahrenheit dereceye eşittir.\")\n",
        "\n",
        "if __name__ == \"__main__\":\n",
        "    main()\n"
      ]
    },
    {
      "cell_type": "code",
      "source": [
        "#2\n",
        "import math\n",
        "\n",
        "def alan_hesapla(yaricap):\n",
        "    alan = math.pi * yaricap * yaricap\n",
        "    return alan\n",
        "\n",
        "def hacim_hesapla(alan, uzunluk):\n",
        "    hacim = alan * uzunluk\n",
        "    return hacim\n",
        "\n",
        "def main():\n",
        "    yaricap = float(input(\"Silindirin yarıçapını girin: \"))\n",
        "    uzunluk = float(input(\"Silindirin uzunluğunu girin: \"))\n",
        "\n",
        "    alan = alan_hesapla(yaricap)\n",
        "    hacim = hacim_hesapla(alan, uzunluk)\n",
        "\n",
        "    print(f\"Silindirin alanı: {alan}\")\n",
        "    print(f\"Silindirin hacmi: {hacim}\")\n",
        "\n",
        "if __name__ == \"__main__\":\n",
        "    main()\n"
      ],
      "metadata": {
        "id": "rsQP8mn4OR8w"
      },
      "execution_count": null,
      "outputs": []
    },
    {
      "cell_type": "code",
      "source": [
        "#3\n",
        "def ayak_to_metre(ayak):\n",
        "    metre = ayak * 0.305\n",
        "    return metre\n",
        "\n",
        "def main():\n",
        "    ayak = float(input(\"Ayak cinsinden uzunluğu girin: \"))\n",
        "    metre = ayak_to_metre(ayak)\n",
        "    print(f\"{ayak} ayak, {metre} metre ye eşittir.\")\n",
        "\n",
        "if __name__ == \"__main__\":\n",
        "    main()\n"
      ],
      "metadata": {
        "id": "RPgtd9X7OR5o"
      },
      "execution_count": null,
      "outputs": []
    },
    {
      "cell_type": "code",
      "source": [
        "#4\n",
        "def pound_to_kilogram(pound):\n",
        "    kilogram = pound * 0.454\n",
        "    return kilogram\n",
        "\n",
        "def main():\n",
        "    pound = float(input(\"Pound cinsinden bir değer girin: \"))\n",
        "    kilogram = pound_to_kilogram(pound)\n",
        "    print(f\"{pound} pound, {kilogram} kilograma eşittir.\")\n",
        "\n",
        "if __name__ == \"__main__\":\n",
        "    main()\n"
      ],
      "metadata": {
        "id": "3g0z9Y_oOR2w"
      },
      "execution_count": null,
      "outputs": []
    },
    {
      "cell_type": "code",
      "source": [
        "#5\n",
        "def calculate_tip(subtotal, gratuity_rate):\n",
        "    gratuity = subtotal * (gratuity_rate / 100)\n",
        "    total = subtotal + gratuity\n",
        "    return gratuity, total\n",
        "\n",
        "def main():\n",
        "    subtotal = float(input(\"Fatura tutarını girin: \"))\n",
        "    gratuity_rate = float(input(\"Bahşiş oranını girin (%): \"))\n",
        "\n",
        "    bahsis, toplam = calculate_tip(subtotal, gratuity_rate)\n",
        "\n",
        "    print(f\"Bahşiş: {bahsis}\")\n",
        "    print(f\"Toplam: {toplam}\")\n",
        "\n",
        "if __name__ == \"__main__\":\n",
        "    main()\n"
      ],
      "metadata": {
        "id": "bcB2rU8-OR0E"
      },
      "execution_count": null,
      "outputs": []
    },
    {
      "cell_type": "code",
      "source": [
        "#6\n",
        "def sum_digits(number):\n",
        "    total = 0\n",
        "    while number != 0:\n",
        "        total += number % 10\n",
        "        number //= 10\n",
        "    return total\n",
        "\n",
        "def main():\n",
        "    number = int(input(\"0 ile 1000 arasında bir tamsayı girin: \"))\n",
        "    if number < 0 or number > 1000:\n",
        "        print(\"Geçersiz giriş!\")\n",
        "    else:\n",
        "        digit_sum = sum_digits(number)\n",
        "        print(f\"Girdiğiniz tamsayının basamakları toplamı: {digit_sum}\")\n",
        "\n",
        "if __name__ == \"__main__\":\n",
        "    main()\n"
      ],
      "metadata": {
        "id": "8yV0v3WsORxU"
      },
      "execution_count": null,
      "outputs": []
    },
    {
      "cell_type": "code",
      "source": [
        "#7\n",
        "def calculate_years_days(minutes):\n",
        "    # Bir yıl 365 gün olduğu için dakikaları yıllara ve gün sayısına dönüştürürüz\n",
        "    years = minutes // (365 * 24 * 60)\n",
        "    remaining_minutes = minutes % (365 * 24 * 60)\n",
        "    days = remaining_minutes // (24 * 60)\n",
        "    return years, days\n",
        "\n",
        "def main():\n",
        "    minutes = int(input(\"Dakikaları girin: \"))\n",
        "    years, days = calculate_years_days(minutes)\n",
        "    print(f\"{minutes} dakika {years} yıl ve {days} gün eder.\")\n",
        "\n",
        "if __name__ == \"__main__\":\n",
        "    main()\n"
      ],
      "metadata": {
        "id": "BBkEzxdhORug"
      },
      "execution_count": null,
      "outputs": []
    },
    {
      "cell_type": "code",
      "source": [
        "#8\n",
        "def calculate_energy(weight, initial_temp, final_temp):\n",
        "    energy = weight * (final_temp - initial_temp) * 4184\n",
        "    return energy\n",
        "\n",
        "def main():\n",
        "    weight = float(input(\"Su miktarını kilogram cinsinden girin: \"))\n",
        "    initial_temp = float(input(\"Başlangıç sıcaklığını girin (derece Celsius): \"))\n",
        "    final_temp = float(input(\"Bitiş sıcaklığını girin (derece Celsius): \"))\n",
        "\n",
        "    energy = calculate_energy(weight, initial_temp, final_temp)\n",
        "\n",
        "    print(f\"Gereken enerji: {energy} joule\")\n",
        "\n",
        "if __name__ == \"__main__\":\n",
        "    main()\n",
        "\n"
      ],
      "metadata": {
        "id": "aMT2BcEqORr_"
      },
      "execution_count": null,
      "outputs": []
    },
    {
      "cell_type": "code",
      "source": [
        "#9\n",
        "def calculate_wind_chill(temperature, wind_speed):\n",
        "    if temperature < -58 or temperature > 41 or wind_speed < 2:\n",
        "        return \"Hesaplanamadı. Lütfen geçerli değerler girin.\"\n",
        "    else:\n",
        "        wind_chill = 35.74 + 0.6215 * temperature - 35.75 * (wind_speed ** 0.16) + 0.4275 * temperature * (wind_speed ** 0.16)\n",
        "        return wind_chill\n",
        "\n",
        "def main():\n",
        "    temperature = float(input(\"Dış sıcaklığı girin (Fahrenheit): \"))\n",
        "    wind_speed = float(input(\"Rüzgar hızını girin (mil/saat): \"))\n",
        "\n",
        "    wind_chill = calculate_wind_chill(temperature, wind_speed)\n",
        "\n",
        "    print(f\"Rüzgar soğuması sıcaklığı: {wind_chill} Fahrenheit\")\n",
        "\n",
        "if __name__ == \"__main__\":\n",
        "    main()\n"
      ],
      "metadata": {
        "id": "3_QyIcyQORpM"
      },
      "execution_count": null,
      "outputs": []
    },
    {
      "cell_type": "code",
      "source": [
        "#10\n",
        "def calculate_runway_length(velocity, acceleration):\n",
        "    length = (velocity ** 2) / (2 * acceleration)\n",
        "    return length\n",
        "\n",
        "def main():\n",
        "    velocity = float(input(\"Uçak hızını girin (m/s): \"))\n",
        "    acceleration = float(input(\"Ivmeyi girin (m/s^2): \"))\n",
        "\n",
        "    runway_length = calculate_runway_length(velocity, acceleration)\n",
        "\n",
        "    print(f\"Minimum pist uzunluğu: {runway_length} metre\")\n",
        "\n",
        "if __name__ == \"__main__\":\n",
        "    main()\n"
      ],
      "metadata": {
        "id": "GFHGCnIlORmo"
      },
      "execution_count": null,
      "outputs": []
    },
    {
      "cell_type": "code",
      "source": [
        "#11\n",
        "def hesapla_baslangic_yatirimi(son_hesap_degeri, yillik_faiz_orani, yil_sayisi):\n",
        "    aylik_faiz_orani = yillik_faiz_orani / 100 / 12\n",
        "    ay_sayisi = yil_sayisi * 12\n",
        "    baslangic_yatirimi = son_hesap_degeri / ((1 + aylik_faiz_orani) ** ay_sayisi)\n",
        "    return baslangic_yatirimi\n",
        "\n",
        "def main():\n",
        "    son_hesap_degeri = float(input(\"Son hesap değerini girin: \"))\n",
        "    yillik_faiz_orani = float(input(\"Yıllık faiz oranını girin (%): \"))\n",
        "    yil_sayisi = int(input(\"Yıl sayısını girin: \"))\n",
        "\n",
        "    baslangic_yatirimi = hesapla_baslangic_yatirimi(son_hesap_degeri, yillik_faiz_orani, yil_sayisi)\n",
        "\n",
        "    print(f\"Başlangıç yatırım tutarı: {baslangic_yatirimi:.2f} TL\")\n",
        "\n",
        "if __name__ == \"__main__\":\n",
        "    main()\n"
      ],
      "metadata": {
        "id": "ME6r-iTIORj7"
      },
      "execution_count": null,
      "outputs": []
    },
    {
      "cell_type": "code",
      "source": [
        "#12\n",
        "def main():\n",
        "    print(\"a   ^   b   =   a^b\")\n",
        "    print(\"------------------------\")\n",
        "    for a in range(1, 6):\n",
        "        b = a + 1\n",
        "        result = a ** b\n",
        "        print(f\"{a}   ^   {b}   =   {result}\")\n",
        "\n",
        "if __name__ == \"__main__\":\n",
        "    main()\n"
      ],
      "metadata": {
        "id": "RaWH_S8UORg8"
      },
      "execution_count": null,
      "outputs": []
    },
    {
      "cell_type": "code",
      "source": [
        "#13\n",
        "def main():\n",
        "    num = input(\"Dört basamaklı bir tamsayı girin: \")\n",
        "    if len(num) != 4 or not num.isdigit():\n",
        "        print(\"Geçersiz giriş!\")\n",
        "    else:\n",
        "        reversed_num = num[::-1]\n",
        "        print(\"Girdiğiniz sayının tersi:\", reversed_num)\n",
        "\n",
        "if __name__ == \"__main__\":\n",
        "    main()\n"
      ],
      "metadata": {
        "id": "E9bF1fjqOZBH"
      },
      "execution_count": null,
      "outputs": []
    },
    {
      "cell_type": "code",
      "source": [
        "#16\n",
        "def ortalama_ivme_hesapla(v0, v1, t):\n",
        "    ivme = (v1 - v0) / t\n",
        "    return ivme\n",
        "\n",
        "def main():\n",
        "    v0 = float(input(\"Başlangıç hızını (v0) girin (m/s): \"))\n",
        "    v1 = float(input(\"Bitiş hızını (v1) girin (m/s): \"))\n",
        "    t = float(input(\"Zaman aralığını (t) girin (s): \"))\n",
        "\n",
        "    ortalama_ivme = ortalama_ivme_hesapla(v0, v1, t)\n",
        "\n",
        "    print(f\"Ortalama ivme: {ortalama_ivme} m/s^2\")\n",
        "\n",
        "if __name__ == \"__main__\":\n",
        "    main()\n"
      ],
      "metadata": {
        "id": "mKEo-_fSOY4r"
      },
      "execution_count": null,
      "outputs": []
    },
    {
      "cell_type": "code",
      "source": [
        "#17\n",
        "def bmi_hesapla(kilo, boy):\n",
        "    kilo_kg = kilo * 0.45359237\n",
        "    boy_m = boy * 0.0254\n",
        "    bmi = kilo_kg / (boy_m ** 2)\n",
        "    return bmi\n",
        "\n",
        "def main():\n",
        "    kilo = float(input(\"Kilonuzu pound cinsinden girin: \"))\n",
        "    boy = float(input(\"Boyunuzu inç cinsinden girin: \"))\n",
        "\n",
        "    bmi = bmi_hesapla(kilo, boy)\n",
        "\n",
        "    print(f\"Vücut Kitle İndeksi (BMI): {bmi:.2f}\")\n",
        "\n",
        "if __name__ == \"__main__\":\n",
        "    main()\n"
      ],
      "metadata": {
        "id": "GkmepF0SOY18"
      },
      "execution_count": null,
      "outputs": []
    },
    {
      "cell_type": "code",
      "source": [
        "#18\n",
        "import time\n",
        "\n",
        "def saat_goster(saat_dilimi):\n",
        "    simdiki_zaman = time.time()\n",
        "    ofset = saat_dilimi * 3600  # Saati saniyeye çevirme\n",
        "    ofsetli_zaman = simdiki_zaman + ofset\n",
        "    formatli_zaman = time.strftime(\"%H:%M:%S\", time.gmtime(ofsetli_zaman))\n",
        "    return formatli_zaman\n",
        "\n",
        "def main():\n",
        "    saat_dilimi = float(input(\"Saat dilimini GMT'ye göre saat olarak girin (+/- saat): \"))\n",
        "\n",
        "    formatli_zaman = saat_goster(saat_dilimi)\n",
        "\n",
        "    print(f\"Saat dilimi {saat_dilimi} saat olan zamanda şu anki saat: {formatli_zaman}\")\n",
        "\n",
        "if __name__ == \"__main__\":\n",
        "    main()\n"
      ],
      "metadata": {
        "id": "wpyxnuOyOYy1"
      },
      "execution_count": null,
      "outputs": []
    },
    {
      "cell_type": "code",
      "source": [
        "#19\n",
        "def gelecekteki_yatirim_degeri_hesapla(yatirim_miktari, yillik_faiz_orani, yil_sayisi):\n",
        "    aylik_faiz_orani = yillik_faiz_orani / 100 / 12\n",
        "    ay_sayisi = yil_sayisi * 12\n",
        "    gelecekteki_deger = yatirim_miktari * (1 + aylik_faiz_orani) ** ay_sayisi\n",
        "    return gelecekteki_deger\n",
        "\n",
        "def main():\n",
        "    yatirim_miktari = float(input(\"Yatırım miktarını girin: \"))\n",
        "    yillik_faiz_orani = float(input(\"Yıllık faiz oranını girin (%): \"))\n",
        "    yil_sayisi = int(input(\"Yıl sayısını girin: \"))\n",
        "\n",
        "    gelecekteki_deger = gelecekteki_yatirim_degeri_hesapla(yatirim_miktari, yillik_faiz_orani, yil_sayisi)\n",
        "\n",
        "    print(f\"Gelecekteki yatırım değeri: {gelecekteki_deger:.2f}\")\n",
        "\n",
        "if __name__ == \"__main__\":\n",
        "    main()\n"
      ],
      "metadata": {
        "id": "Y5Jsu33dS7qD"
      },
      "execution_count": null,
      "outputs": []
    },
    {
      "cell_type": "code",
      "source": [
        "#20\n",
        "def aylik_faiz_hesapla(bakiye, yillik_faiz_orani):\n",
        "    aylik_faiz = bakiye * (yillik_faiz_orani / 1200)\n",
        "    return aylik_faiz\n",
        "\n",
        "def main():\n",
        "    bakiye = float(input(\"Bakiyeyi girin: \"))\n",
        "    yillik_faiz_orani = float(input(\"Yıllık faiz oranını girin (%): \"))\n",
        "\n",
        "    aylik_faiz = aylik_faiz_hesapla(bakiye, yillik_faiz_orani)\n",
        "\n",
        "    print(f\"Bir sonraki ay için faiz miktarı: {aylik_faiz:.2f}\")\n",
        "\n",
        "if __name__ == \"__main__\":\n",
        "    main()\n"
      ],
      "metadata": {
        "id": "ATDkE8tlS7nR"
      },
      "execution_count": null,
      "outputs": []
    },
    {
      "cell_type": "code",
      "source": [
        "#21\n",
        "def birikim_hesapla(aylik_miktar, yillik_faiz_orani, ay_sayisi):\n",
        "    aylik_faiz_orani = yillik_faiz_orani / 12 / 100\n",
        "    hesap_degeri = 0\n",
        "    for ay in range(ay_sayisi):\n",
        "        hesap_degeri = (hesap_degeri + aylik_miktar) * (1 + aylik_faiz_orani)\n",
        "    return hesap_degeri\n",
        "\n",
        "def main():\n",
        "    aylik_miktar = float(input(\"Her ay biriktirmek istediğiniz miktarı girin: \"))\n",
        "    yillik_faiz_orani = float(input(\"Yıllık faiz oranını girin (%): \"))\n",
        "    ay_sayisi = 6  # Altıncı ay için\n",
        "\n",
        "    hesap_degeri = birikim_hesapla(aylik_miktar, yillik_faiz_orani, ay_sayisi)\n",
        "\n",
        "    print(f\"Altıncı ayın sonundaki hesap değeri: {hesap_degeri:.2f}\")\n",
        "\n",
        "if __name__ == \"__main__\":\n",
        "    main()\n"
      ],
      "metadata": {
        "id": "xuQgsxOITB_a"
      },
      "execution_count": null,
      "outputs": []
    },
    {
      "cell_type": "code",
      "source": [
        "#22\n",
        "def nufus_hesapla(yil_sayisi):\n",
        "    suanki_nufus = 312032486\n",
        "    saniye_sayisi = yil_sayisi * 365 * 24 * 60 * 60\n",
        "\n",
        "    dogum = saniye_sayisi // 7\n",
        "    olum = saniye_sayisi // 13\n",
        "    gocmen = saniye_sayisi // 45\n",
        "\n",
        "    nufus = suanki_nufus + dogum - olum + gocmen\n",
        "    return nufus\n",
        "\n",
        "def main():\n",
        "    yil_sayisi = int(input(\"Nüfusun kaç yıl sonra hesaplanmasını istiyorsunuz? \"))\n",
        "\n",
        "    nufus = nufus_hesapla(yil_sayisi)\n",
        "\n",
        "    print(f\"{yil_sayisi} yıl sonra nüfus: {nufus}\")\n",
        "\n",
        "if __name__ == \"__main__\":\n",
        "    main()\n"
      ],
      "metadata": {
        "id": "Hq-jzuemTB6H"
      },
      "execution_count": null,
      "outputs": []
    }
  ]
}