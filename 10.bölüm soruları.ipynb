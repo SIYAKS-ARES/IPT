{
  "nbformat": 4,
  "nbformat_minor": 0,
  "metadata": {
    "colab": {
      "provenance": []
    },
    "kernelspec": {
      "name": "python3",
      "display_name": "Python 3"
    },
    "language_info": {
      "name": "python"
    }
  },
  "cells": [
    {
      "cell_type": "code",
      "execution_count": null,
      "metadata": {
        "id": "UBy9BMZ0J41Q"
      },
      "outputs": [],
      "source": [
        "#10.1\n",
        "def grade_assignment(scores):\n",
        "    best_score = max(scores)\n",
        "    grades = []\n",
        "    for score in scores:\n",
        "        if score >= best_score - 10:\n",
        "            grades.append('A')\n",
        "        elif score >= best_score - 20:\n",
        "            grades.append('B')\n",
        "        elif score >= best_score - 30:\n",
        "            grades.append('C')\n",
        "        elif score >= best_score - 40:\n",
        "            grades.append('D')\n",
        "        else:\n",
        "            grades.append('F')\n",
        "    return grades\n",
        "\n",
        "# Kullanıcıdan not listesini al\n",
        "score_list = list(map(int, input(\"Not listesini girin (virgülle ayırarak): \").split(',')))\n",
        "\n",
        "# Notları atayıp ekrana yazdır\n",
        "assigned_grades = grade_assignment(score_list)\n",
        "print(\"Notlar:\", assigned_grades)\n"
      ]
    },
    {
      "cell_type": "code",
      "source": [
        "#10.2\n",
        "def reverse_display(integer_list):\n",
        "    reversed_list = integer_list[::-1]\n",
        "    for integer in reversed_list:\n",
        "        print(integer)\n",
        "\n",
        "# Kullanıcıdan tamsayı listesini al\n",
        "integer_list = list(map(int, input(\"Tamsayı listesini girin (virgülle ayırarak): \").split(',')))\n",
        "\n",
        "# Tersine çevrilmiş listeyi görüntüle\n",
        "print(\"Okuma sırasının tersine göre tamsayılar:\")\n",
        "reverse_display(integer_list)\n"
      ],
      "metadata": {
        "id": "4IN4GmK82uKa"
      },
      "execution_count": null,
      "outputs": []
    },
    {
      "cell_type": "code",
      "source": [
        "#10.3\n",
        "# Boş bir sözlük oluşturuluyor\n",
        "occurrences = {}\n",
        "\n",
        "# Kullanıcıdan sayı girişi alınıyor\n",
        "while True:\n",
        "    number = int(input(\"1 ile 100 arasında bir tamsayı girin (0 çıkış): \"))\n",
        "    if number == 0:\n",
        "        break\n",
        "    if 1 <= number <= 100:\n",
        "        # Girilen sayının sözlükteki değeri artırılıyor\n",
        "        occurrences[number] = occurrences.get(number, 0) + 1\n",
        "    else:\n",
        "        print(\"Geçersiz giriş! Lütfen 1 ile 100 arasında bir sayı girin.\")\n",
        "\n",
        "# Sonuçlar ekrana yazdırılıyor\n",
        "print(\"\\nGirilen sayıların tekrar sayıları:\")\n",
        "for number, count in occurrences.items():\n",
        "    print(f\"{number}: {count} kez\")\n"
      ],
      "metadata": {
        "id": "5Y6q29_K2uTd"
      },
      "execution_count": null,
      "outputs": []
    },
    {
      "cell_type": "code",
      "source": [
        "#10.4\n",
        "# Kullanıcıdan puanları bir dize olarak alıyoruz ve boşluklardan bölerek bir liste oluşturuyoruz\n",
        "scores = input(\"Puanları boşluklarla ayırarak girin: \").split()\n",
        "\n",
        "# Puanları integer'a dönüştürüyoruz\n",
        "scores = [int(score) for score in scores]\n",
        "\n",
        "# Puanların toplamını ve puan sayısını hesaplıyoruz\n",
        "total_score = sum(scores)\n",
        "num_scores = len(scores)\n",
        "\n",
        "# Ortalamayı hesaplıyoruz\n",
        "average_score = total_score / num_scores\n",
        "\n",
        "# Ortalamadan büyük veya eşit puanların sayısını ve küçük puanların sayısını sayıyoruz\n",
        "above_average_count = sum(score >= average_score for score in scores)\n",
        "below_average_count = num_scores - above_average_count\n",
        "\n",
        "# Sonuçları ekrana yazdırıyoruz\n",
        "print(f\"Ortalama: {average_score:.2f}\")\n",
        "print(f\"Ortalamanın üstünde veya eşit puan sayısı: {above_average_count}\")\n",
        "print(f\"Ortalamadan küçük puan sayısı: {below_average_count}\")\n"
      ],
      "metadata": {
        "id": "qkAMj_eU2uWA"
      },
      "execution_count": null,
      "outputs": []
    },
    {
      "cell_type": "code",
      "source": [
        "#10.5\n",
        "# Kullanıcıdan sayıları bir dize olarak alıyoruz ve boşluklardan bölerek bir liste oluşturuyoruz\n",
        "numbers = input(\"Sayıları boşluklarla ayırarak girin: \").split()\n",
        "\n",
        "# Sayıları bir küme (set) veri yapısına dönüştürerek yinelenenleri kaldırıyoruz\n",
        "distinct_numbers = set(numbers)\n",
        "\n",
        "# Kümeyi listeye dönüştürerek sıralı bir şekilde elde ediyoruz\n",
        "distinct_numbers = sorted(distinct_numbers, key=int)\n",
        "\n",
        "# Distinct numbers'ları ekrana yazdırıyoruz\n",
        "print(\"Tekrar edilmeyen sayılar:\")\n",
        "for number in distinct_numbers:\n",
        "    print(number, end=\" \")\n"
      ],
      "metadata": {
        "id": "HXemdhYd2uY-"
      },
      "execution_count": null,
      "outputs": []
    },
    {
      "cell_type": "code",
      "source": [
        "#10.6\n"
      ],
      "metadata": {
        "id": "JWTcCCcz2ubi"
      },
      "execution_count": null,
      "outputs": []
    },
    {
      "cell_type": "code",
      "source": [
        "#10.7\n",
        "import random\n",
        "\n",
        "# 0'dan 9'a kadar olan sayıların sayılarını tutacak bir liste oluşturuyoruz\n",
        "counts = [0] * 10\n",
        "\n",
        "# 1,000 rastgele tamsayı oluşturup listedeki ilgili indeksi artırıyoruz\n",
        "for _ in range(1000):\n",
        "    random_number = random.randint(0, 9)\n",
        "    counts[random_number] += 1\n",
        "\n",
        "# Sonuçları ekrana yazdırıyoruz\n",
        "for i in range(10):\n",
        "    print(f\"{i}: {counts[i]} adet\")\n"
      ],
      "metadata": {
        "id": "IRgjzEXo2udw"
      },
      "execution_count": null,
      "outputs": []
    },
    {
      "cell_type": "code",
      "source": [
        "#10.8\n",
        "def indexOfSmallestElement(lst):\n",
        "    # En küçük değerin indeksini bulmak için min() fonksiyonunu kullanıyoruz\n",
        "    min_value = min(lst)\n",
        "\n",
        "    # En küçük değerin indeksini döndürüyoruz\n",
        "    return lst.index(min_value)\n",
        "\n",
        "# Fonksiyonu kullanarak bir örnek\n",
        "numbers = [5, 2, 7, 1, 9, 3]\n",
        "print(\"En küçük elemanın indeksi:\", indexOfSmallestElement(numbers))\n"
      ],
      "metadata": {
        "id": "QEeEkwAl2uf5"
      },
      "execution_count": null,
      "outputs": []
    },
    {
      "cell_type": "code",
      "source": [
        "#10.9"
      ],
      "metadata": {
        "id": "46pqbUP65NHb"
      },
      "execution_count": null,
      "outputs": []
    },
    {
      "cell_type": "code",
      "source": [
        "#10.10\n",
        "def reverseList(lst):\n",
        "    return lst[::-1]\n",
        "\n",
        "def main():\n",
        "    # Kullanıcıdan sayı listesini al\n",
        "    numbers = input(\"Sayı listesini boşluklarla ayırarak girin: \").split()\n",
        "    numbers = [int(num) for num in numbers]  # Girdiyi tamsayıya dönüştür\n",
        "\n",
        "    # Sayıları tersine çevir\n",
        "    reversed_numbers = reverseList(numbers)\n",
        "\n",
        "    # Sonuçları ekrana yazdır\n",
        "    print(\"Girilen sayılar:\", numbers)\n",
        "    print(\"Tersine çevrilmiş sayılar:\", reversed_numbers)\n",
        "\n",
        "# Test programını çağır\n",
        "main()\n"
      ],
      "metadata": {
        "id": "4uRQKmRM5NKN"
      },
      "execution_count": null,
      "outputs": []
    },
    {
      "cell_type": "code",
      "source": [
        "#10.11\n",
        "import random\n",
        "\n",
        "def shuffle(lst):\n",
        "    shuffled_list = lst[:]  # Orjinal listeyi değiştirmemek için kopyasını oluştur\n",
        "    for i in range(len(shuffled_list)):\n",
        "        # Rastgele bir indeks seç ve bu indeksteki elemanı şu andaki indeksle değiştir\n",
        "        j = random.randint(0, i)\n",
        "        shuffled_list[i], shuffled_list[j] = shuffled_list[j], shuffled_list[i]\n",
        "    return shuffled_list\n",
        "\n",
        "def main():\n",
        "    # Kullanıcıdan sayı listesini al\n",
        "    numbers = input(\"Sayı listesini boşluklarla ayırarak girin: \").split()\n",
        "    numbers = [int(num) for num in numbers]  # Girdiyi tamsayıya dönüştür\n",
        "\n",
        "    # Sayıları karıştır\n",
        "    shuffled_numbers = shuffle(numbers)\n",
        "\n",
        "    # Sonuçları ekrana yazdır\n",
        "    print(\"Girilen sayılar:\", numbers)\n",
        "    print(\"Karıştırılmış sayılar:\", shuffled_numbers)\n",
        "\n",
        "# Test programını çağır\n",
        "main()\n"
      ],
      "metadata": {
        "id": "gJDEkOUn5NNK"
      },
      "execution_count": null,
      "outputs": []
    },
    {
      "cell_type": "code",
      "source": [
        "#10.12\n",
        "def gcd(numbers):\n",
        "    # İlk iki sayının GCD'sini bulmak için yardımcı bir fonksiyon tanımlayalım\n",
        "    def find_gcd(x, y):\n",
        "        while y:\n",
        "            x, y = y, x % y\n",
        "        return x\n",
        "\n",
        "    # Listede en az iki eleman olduğundan emin olalım\n",
        "    if len(numbers) < 2:\n",
        "        raise ValueError(\"Listede en az iki sayı olmalıdır.\")\n",
        "\n",
        "    # Listede en az iki eleman olduğu için ilk iki elemanın GCD'sini alalım\n",
        "    result = find_gcd(numbers[0], numbers[1])\n",
        "\n",
        "    # GCD'yi diğer elemanlarla tekrar tekrar bulalım\n",
        "    for num in numbers[2:]:\n",
        "        result = find_gcd(result, num)\n",
        "\n",
        "    return result\n",
        "\n",
        "def main():\n",
        "    # Kullanıcıdan beş sayı alalım\n",
        "    numbers = [int(input(f\"{i+1}. sayıyı girin: \")) for i in range(5)]\n",
        "\n",
        "    # Sayıların en büyük ortak bölenini bulalım\n",
        "    greatest_common_divisor = gcd(numbers)\n",
        "\n",
        "    # Sonucu ekrana yazdıralım\n",
        "    print(\"Girilen sayıların en büyük ortak böleni:\", greatest_common_divisor)\n",
        "\n",
        "# Test programını çağıralım\n",
        "main()\n"
      ],
      "metadata": {
        "id": "Yhm_9At75Nqu"
      },
      "execution_count": null,
      "outputs": []
    },
    {
      "cell_type": "code",
      "source": [
        "#10.13\n",
        "def eliminateDuplicates(lst):\n",
        "    # Liste elemanlarını bir küme içine koyarak tekrarlayanları kaldıralım\n",
        "    unique_list = list(set(lst))\n",
        "    return unique_list\n",
        "\n",
        "def main():\n",
        "    # Kullanıcıdan bir tamsayı listesi alalım\n",
        "    numbers = input(\"Tamsayı listesini boşluklarla ayırarak girin: \").split()\n",
        "    numbers = [int(num) for num in numbers]  # Girdiyi tamsayıya dönüştür\n",
        "\n",
        "    # Tekrarlanan değerleri kaldıralım\n",
        "    unique_numbers = eliminateDuplicates(numbers)\n",
        "\n",
        "    # Sonucu ekrana yazdıralım\n",
        "    print(\"Tekrarlanan değerlerden arındırılmış liste:\", unique_numbers)\n",
        "\n",
        "# Test programını çağıralım\n",
        "main()\n"
      ],
      "metadata": {
        "id": "RdI8kPPm5OIw"
      },
      "execution_count": null,
      "outputs": []
    },
    {
      "cell_type": "code",
      "source": [
        "#10.14\n",
        "def selection_sort(lst):\n",
        "    n = len(lst)\n",
        "    for i in range(n-1, 0, -1):\n",
        "        max_index = i\n",
        "        for j in range(i):\n",
        "            if lst[j] > lst[max_index]:\n",
        "                max_index = j\n",
        "        lst[max_index], lst[i] = lst[i], lst[max_index]\n",
        "\n",
        "def main():\n",
        "    numbers = [float(input(f\"Enter number {i+1}: \")) for i in range(10)]\n",
        "\n",
        "    selection_sort(numbers)\n",
        "\n",
        "    print(\"Sorted numbers:\", numbers)\n",
        "\n",
        "main()\n"
      ],
      "metadata": {
        "id": "lMnT7VI25OLU"
      },
      "execution_count": null,
      "outputs": []
    },
    {
      "cell_type": "code",
      "source": [
        "#10.15\n",
        "def isSorted(lst):\n",
        "    # Check if the list is sorted in increasing order\n",
        "    return all(lst[i] <= lst[i+1] for i in range(len(lst)-1))\n",
        "\n",
        "def main():\n",
        "    # Prompt the user to enter a list\n",
        "    user_input = input(\"Enter a list of numbers separated by spaces: \")\n",
        "    numbers = list(map(float, user_input.split()))\n",
        "\n",
        "    # Check if the list is sorted\n",
        "    if isSorted(numbers):\n",
        "        print(\"The list is sorted in increasing order.\")\n",
        "    else:\n",
        "        print(\"The list is not sorted in increasing order.\")\n",
        "\n",
        "# Test the program\n",
        "main()\n"
      ],
      "metadata": {
        "id": "qUQYzgZ65Z9f"
      },
      "execution_count": null,
      "outputs": []
    }
  ]
}